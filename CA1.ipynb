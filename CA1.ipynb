{
 "cells": [
  {
   "cell_type": "code",
   "execution_count": 3,
   "metadata": {},
   "outputs": [
    {
     "name": "stderr",
     "output_type": "stream",
     "text": [
      "/tmp/ipykernel_14383/555797462.py:1: DeprecationWarning: \n",
      "Pyarrow will become a required dependency of pandas in the next major release of pandas (pandas 3.0),\n",
      "(to allow more performant data types, such as the Arrow string type, and better interoperability with other libraries)\n",
      "but was not found to be installed on your system.\n",
      "If this would cause problems for you,\n",
      "please provide us feedback at https://github.com/pandas-dev/pandas/issues/54466\n",
      "        \n",
      "  import pandas as pd\n"
     ]
    }
   ],
   "source": [
    "import pandas as pd\n",
    "import numpy as np\n",
    "import matplotlib.pyplot as plt\n",
    "import seaborn as sns"
   ]
  },
  {
   "cell_type": "code",
   "execution_count": 4,
   "metadata": {},
   "outputs": [
    {
     "name": "stderr",
     "output_type": "stream",
     "text": [
      "/tmp/ipykernel_14383/3558001420.py:3: DtypeWarning: Columns (3) have mixed types. Specify dtype option on import or set low_memory=False.\n",
      "  df = pd.read_csv('crashes.csv', na_values=na_values)\n"
     ]
    }
   ],
   "source": [
    "na_values = ['UNKNOWN', 'unknown', 'Unknown', 'Unknown ve', '(0.0, 0.0)', 'Unspecified']\n",
    "\n",
    "df = pd.read_csv('crashes.csv', na_values=na_values)\n",
    "df_sample = df.sample(frac=.40)"
   ]
  },
  {
   "cell_type": "markdown",
   "metadata": {},
   "source": [
    "## Data exploration"
   ]
  },
  {
   "cell_type": "code",
   "execution_count": 5,
   "metadata": {},
   "outputs": [
    {
     "data": {
      "text/html": [
       "<div>\n",
       "<style scoped>\n",
       "    .dataframe tbody tr th:only-of-type {\n",
       "        vertical-align: middle;\n",
       "    }\n",
       "\n",
       "    .dataframe tbody tr th {\n",
       "        vertical-align: top;\n",
       "    }\n",
       "\n",
       "    .dataframe thead th {\n",
       "        text-align: right;\n",
       "    }\n",
       "</style>\n",
       "<table border=\"1\" class=\"dataframe\">\n",
       "  <thead>\n",
       "    <tr style=\"text-align: right;\">\n",
       "      <th></th>\n",
       "      <th>CRASH DATE</th>\n",
       "      <th>CRASH TIME</th>\n",
       "      <th>BOROUGH</th>\n",
       "      <th>ZIP CODE</th>\n",
       "      <th>LATITUDE</th>\n",
       "      <th>LONGITUDE</th>\n",
       "      <th>LOCATION</th>\n",
       "      <th>ON STREET NAME</th>\n",
       "      <th>CROSS STREET NAME</th>\n",
       "      <th>OFF STREET NAME</th>\n",
       "      <th>...</th>\n",
       "      <th>CONTRIBUTING FACTOR VEHICLE 2</th>\n",
       "      <th>CONTRIBUTING FACTOR VEHICLE 3</th>\n",
       "      <th>CONTRIBUTING FACTOR VEHICLE 4</th>\n",
       "      <th>CONTRIBUTING FACTOR VEHICLE 5</th>\n",
       "      <th>COLLISION_ID</th>\n",
       "      <th>VEHICLE TYPE CODE 1</th>\n",
       "      <th>VEHICLE TYPE CODE 2</th>\n",
       "      <th>VEHICLE TYPE CODE 3</th>\n",
       "      <th>VEHICLE TYPE CODE 4</th>\n",
       "      <th>VEHICLE TYPE CODE 5</th>\n",
       "    </tr>\n",
       "  </thead>\n",
       "  <tbody>\n",
       "    <tr>\n",
       "      <th>93418</th>\n",
       "      <td>10/29/2021</td>\n",
       "      <td>11:00</td>\n",
       "      <td>NaN</td>\n",
       "      <td>NaN</td>\n",
       "      <td>NaN</td>\n",
       "      <td>NaN</td>\n",
       "      <td>NaN</td>\n",
       "      <td>BRONX WHITESTONE BRIDGE</td>\n",
       "      <td>NaN</td>\n",
       "      <td>NaN</td>\n",
       "      <td>...</td>\n",
       "      <td>Unsafe Lane Changing</td>\n",
       "      <td>NaN</td>\n",
       "      <td>NaN</td>\n",
       "      <td>NaN</td>\n",
       "      <td>4477506</td>\n",
       "      <td>Station Wagon/Sport Utility Vehicle</td>\n",
       "      <td>Box Truck</td>\n",
       "      <td>NaN</td>\n",
       "      <td>NaN</td>\n",
       "      <td>NaN</td>\n",
       "    </tr>\n",
       "    <tr>\n",
       "      <th>884825</th>\n",
       "      <td>05/17/2017</td>\n",
       "      <td>13:00</td>\n",
       "      <td>BRONX</td>\n",
       "      <td>10468.0</td>\n",
       "      <td>40.871300</td>\n",
       "      <td>-73.892890</td>\n",
       "      <td>(40.8713, -73.89289)</td>\n",
       "      <td>NaN</td>\n",
       "      <td>NaN</td>\n",
       "      <td>1         EAST 198 STREET</td>\n",
       "      <td>...</td>\n",
       "      <td>NaN</td>\n",
       "      <td>NaN</td>\n",
       "      <td>NaN</td>\n",
       "      <td>NaN</td>\n",
       "      <td>3674076</td>\n",
       "      <td>Sedan</td>\n",
       "      <td>Station Wagon/Sport Utility Vehicle</td>\n",
       "      <td>NaN</td>\n",
       "      <td>NaN</td>\n",
       "      <td>NaN</td>\n",
       "    </tr>\n",
       "    <tr>\n",
       "      <th>1922099</th>\n",
       "      <td>07/07/2012</td>\n",
       "      <td>15:30</td>\n",
       "      <td>NaN</td>\n",
       "      <td>NaN</td>\n",
       "      <td>40.618983</td>\n",
       "      <td>-74.163887</td>\n",
       "      <td>(40.6189834, -74.1638869)</td>\n",
       "      <td>NaN</td>\n",
       "      <td>NaN</td>\n",
       "      <td>NaN</td>\n",
       "      <td>...</td>\n",
       "      <td>NaN</td>\n",
       "      <td>NaN</td>\n",
       "      <td>NaN</td>\n",
       "      <td>NaN</td>\n",
       "      <td>3121392</td>\n",
       "      <td>PASSENGER VEHICLE</td>\n",
       "      <td>NaN</td>\n",
       "      <td>NaN</td>\n",
       "      <td>NaN</td>\n",
       "      <td>NaN</td>\n",
       "    </tr>\n",
       "    <tr>\n",
       "      <th>75150</th>\n",
       "      <td>08/11/2021</td>\n",
       "      <td>17:00</td>\n",
       "      <td>NaN</td>\n",
       "      <td>NaN</td>\n",
       "      <td>NaN</td>\n",
       "      <td>NaN</td>\n",
       "      <td>NaN</td>\n",
       "      <td>454</td>\n",
       "      <td>48 street</td>\n",
       "      <td>NaN</td>\n",
       "      <td>...</td>\n",
       "      <td>NaN</td>\n",
       "      <td>NaN</td>\n",
       "      <td>NaN</td>\n",
       "      <td>NaN</td>\n",
       "      <td>4446136</td>\n",
       "      <td>Station Wagon/Sport Utility Vehicle</td>\n",
       "      <td>Sedan</td>\n",
       "      <td>NaN</td>\n",
       "      <td>NaN</td>\n",
       "      <td>NaN</td>\n",
       "    </tr>\n",
       "    <tr>\n",
       "      <th>1682738</th>\n",
       "      <td>10/02/2013</td>\n",
       "      <td>13:40</td>\n",
       "      <td>QUEENS</td>\n",
       "      <td>11367</td>\n",
       "      <td>40.734195</td>\n",
       "      <td>-73.819751</td>\n",
       "      <td>(40.734195, -73.8197507)</td>\n",
       "      <td>MELBOURNE AVENUE</td>\n",
       "      <td>150 STREET</td>\n",
       "      <td>NaN</td>\n",
       "      <td>...</td>\n",
       "      <td>NaN</td>\n",
       "      <td>NaN</td>\n",
       "      <td>NaN</td>\n",
       "      <td>NaN</td>\n",
       "      <td>237015</td>\n",
       "      <td>SPORT UTILITY / STATION WAGON</td>\n",
       "      <td>PASSENGER VEHICLE</td>\n",
       "      <td>NaN</td>\n",
       "      <td>NaN</td>\n",
       "      <td>NaN</td>\n",
       "    </tr>\n",
       "  </tbody>\n",
       "</table>\n",
       "<p>5 rows × 29 columns</p>\n",
       "</div>"
      ],
      "text/plain": [
       "         CRASH DATE CRASH TIME BOROUGH ZIP CODE   LATITUDE  LONGITUDE  \\\n",
       "93418    10/29/2021      11:00     NaN      NaN        NaN        NaN   \n",
       "884825   05/17/2017      13:00   BRONX  10468.0  40.871300 -73.892890   \n",
       "1922099  07/07/2012      15:30     NaN      NaN  40.618983 -74.163887   \n",
       "75150    08/11/2021      17:00     NaN      NaN        NaN        NaN   \n",
       "1682738  10/02/2013      13:40  QUEENS    11367  40.734195 -73.819751   \n",
       "\n",
       "                          LOCATION                    ON STREET NAME  \\\n",
       "93418                          NaN           BRONX WHITESTONE BRIDGE   \n",
       "884825        (40.8713, -73.89289)                               NaN   \n",
       "1922099  (40.6189834, -74.1638869)                               NaN   \n",
       "75150                          NaN                               454   \n",
       "1682738   (40.734195, -73.8197507)  MELBOURNE AVENUE                   \n",
       "\n",
       "                        CROSS STREET NAME  \\\n",
       "93418                                 NaN   \n",
       "884825                                NaN   \n",
       "1922099                               NaN   \n",
       "75150                           48 street   \n",
       "1682738  150 STREET                         \n",
       "\n",
       "                                  OFF STREET NAME  ...  \\\n",
       "93418                                         NaN  ...   \n",
       "884825   1         EAST 198 STREET                 ...   \n",
       "1922099                                       NaN  ...   \n",
       "75150                                         NaN  ...   \n",
       "1682738                                       NaN  ...   \n",
       "\n",
       "         CONTRIBUTING FACTOR VEHICLE 2  CONTRIBUTING FACTOR VEHICLE 3  \\\n",
       "93418             Unsafe Lane Changing                            NaN   \n",
       "884825                             NaN                            NaN   \n",
       "1922099                            NaN                            NaN   \n",
       "75150                              NaN                            NaN   \n",
       "1682738                            NaN                            NaN   \n",
       "\n",
       "         CONTRIBUTING FACTOR VEHICLE 4  CONTRIBUTING FACTOR VEHICLE 5  \\\n",
       "93418                              NaN                            NaN   \n",
       "884825                             NaN                            NaN   \n",
       "1922099                            NaN                            NaN   \n",
       "75150                              NaN                            NaN   \n",
       "1682738                            NaN                            NaN   \n",
       "\n",
       "         COLLISION_ID                  VEHICLE TYPE CODE 1  \\\n",
       "93418         4477506  Station Wagon/Sport Utility Vehicle   \n",
       "884825        3674076                                Sedan   \n",
       "1922099       3121392                    PASSENGER VEHICLE   \n",
       "75150         4446136  Station Wagon/Sport Utility Vehicle   \n",
       "1682738        237015        SPORT UTILITY / STATION WAGON   \n",
       "\n",
       "                         VEHICLE TYPE CODE 2  VEHICLE TYPE CODE 3  \\\n",
       "93418                              Box Truck                  NaN   \n",
       "884825   Station Wagon/Sport Utility Vehicle                  NaN   \n",
       "1922099                                  NaN                  NaN   \n",
       "75150                                  Sedan                  NaN   \n",
       "1682738                    PASSENGER VEHICLE                  NaN   \n",
       "\n",
       "        VEHICLE TYPE CODE 4 VEHICLE TYPE CODE 5  \n",
       "93418                   NaN                 NaN  \n",
       "884825                  NaN                 NaN  \n",
       "1922099                 NaN                 NaN  \n",
       "75150                   NaN                 NaN  \n",
       "1682738                 NaN                 NaN  \n",
       "\n",
       "[5 rows x 29 columns]"
      ]
     },
     "execution_count": 5,
     "metadata": {},
     "output_type": "execute_result"
    }
   ],
   "source": [
    "df_sample.head()"
   ]
  },
  {
   "cell_type": "code",
   "execution_count": 6,
   "metadata": {},
   "outputs": [
    {
     "name": "stdout",
     "output_type": "stream",
     "text": [
      "<class 'pandas.core.frame.DataFrame'>\n",
      "Index: 831518 entries, 93418 to 1855431\n",
      "Data columns (total 29 columns):\n",
      " #   Column                         Non-Null Count   Dtype  \n",
      "---  ------                         --------------   -----  \n",
      " 0   CRASH DATE                     831518 non-null  object \n",
      " 1   CRASH TIME                     831518 non-null  object \n",
      " 2   BOROUGH                        572427 non-null  object \n",
      " 3   ZIP CODE                       572327 non-null  object \n",
      " 4   LATITUDE                       737864 non-null  float64\n",
      " 5   LONGITUDE                      737864 non-null  float64\n",
      " 6   LOCATION                       736131 non-null  object \n",
      " 7   ON STREET NAME                 655555 non-null  object \n",
      " 8   CROSS STREET NAME              517351 non-null  object \n",
      " 9   OFF STREET NAME                139227 non-null  object \n",
      " 10  NUMBER OF PERSONS INJURED      831506 non-null  float64\n",
      " 11  NUMBER OF PERSONS KILLED       831502 non-null  float64\n",
      " 12  NUMBER OF PEDESTRIANS INJURED  831518 non-null  int64  \n",
      " 13  NUMBER OF PEDESTRIANS KILLED   831518 non-null  int64  \n",
      " 14  NUMBER OF CYCLIST INJURED      831518 non-null  int64  \n",
      " 15  NUMBER OF CYCLIST KILLED       831518 non-null  int64  \n",
      " 16  NUMBER OF MOTORIST INJURED     831518 non-null  int64  \n",
      " 17  NUMBER OF MOTORIST KILLED      831518 non-null  int64  \n",
      " 18  CONTRIBUTING FACTOR VEHICLE 1  545817 non-null  object \n",
      " 19  CONTRIBUTING FACTOR VEHICLE 2  110685 non-null  object \n",
      " 20  CONTRIBUTING FACTOR VEHICLE 3  4018 non-null    object \n",
      " 21  CONTRIBUTING FACTOR VEHICLE 4  737 non-null     object \n",
      " 22  CONTRIBUTING FACTOR VEHICLE 5  217 non-null     object \n",
      " 23  COLLISION_ID                   831518 non-null  int64  \n",
      " 24  VEHICLE TYPE CODE 1            818153 non-null  object \n",
      " 25  VEHICLE TYPE CODE 2            639594 non-null  object \n",
      " 26  VEHICLE TYPE CODE 3            55527 non-null   object \n",
      " 27  VEHICLE TYPE CODE 4            12591 non-null   object \n",
      " 28  VEHICLE TYPE CODE 5            3480 non-null    object \n",
      "dtypes: float64(4), int64(7), object(18)\n",
      "memory usage: 190.3+ MB\n"
     ]
    }
   ],
   "source": [
    "df_sample.info()"
   ]
  },
  {
   "cell_type": "code",
   "execution_count": 7,
   "metadata": {},
   "outputs": [
    {
     "data": {
      "text/plain": [
       "CRASH DATE                            0\n",
       "CRASH TIME                            0\n",
       "BOROUGH                          259091\n",
       "ZIP CODE                         259191\n",
       "LATITUDE                          93654\n",
       "LONGITUDE                         93654\n",
       "LOCATION                          95387\n",
       "ON STREET NAME                   175963\n",
       "CROSS STREET NAME                314167\n",
       "OFF STREET NAME                  692291\n",
       "NUMBER OF PERSONS INJURED            12\n",
       "NUMBER OF PERSONS KILLED             16\n",
       "NUMBER OF PEDESTRIANS INJURED         0\n",
       "NUMBER OF PEDESTRIANS KILLED          0\n",
       "NUMBER OF CYCLIST INJURED             0\n",
       "NUMBER OF CYCLIST KILLED              0\n",
       "NUMBER OF MOTORIST INJURED            0\n",
       "NUMBER OF MOTORIST KILLED             0\n",
       "CONTRIBUTING FACTOR VEHICLE 1    285701\n",
       "CONTRIBUTING FACTOR VEHICLE 2    720833\n",
       "CONTRIBUTING FACTOR VEHICLE 3    827500\n",
       "CONTRIBUTING FACTOR VEHICLE 4    830781\n",
       "CONTRIBUTING FACTOR VEHICLE 5    831301\n",
       "COLLISION_ID                          0\n",
       "VEHICLE TYPE CODE 1               13365\n",
       "VEHICLE TYPE CODE 2              191924\n",
       "VEHICLE TYPE CODE 3              775991\n",
       "VEHICLE TYPE CODE 4              818927\n",
       "VEHICLE TYPE CODE 5              828038\n",
       "dtype: int64"
      ]
     },
     "execution_count": 7,
     "metadata": {},
     "output_type": "execute_result"
    }
   ],
   "source": [
    "df_sample.isnull().sum()"
   ]
  },
  {
   "cell_type": "code",
   "execution_count": 8,
   "metadata": {},
   "outputs": [],
   "source": [
    "# defining the dataset ID\n",
    "df_sample.set_index('COLLISION_ID', inplace=True)"
   ]
  },
  {
   "cell_type": "markdown",
   "metadata": {},
   "source": [
    "Dropping columns that have more than 25% null values"
   ]
  },
  {
   "cell_type": "markdown",
   "metadata": {},
   "source": [
    "### Handling missing values and irrelevant data"
   ]
  },
  {
   "cell_type": "code",
   "execution_count": 9,
   "metadata": {},
   "outputs": [],
   "source": [
    "threshold = len(df) * 0.25\n",
    "df_sample.dropna(thresh=threshold, axis=1, inplace=True)"
   ]
  },
  {
   "cell_type": "code",
   "execution_count": 10,
   "metadata": {},
   "outputs": [
    {
     "data": {
      "text/plain": [
       "CRASH DATE                            0\n",
       "CRASH TIME                            0\n",
       "BOROUGH                          259091\n",
       "ZIP CODE                         259191\n",
       "LATITUDE                          93654\n",
       "LONGITUDE                         93654\n",
       "LOCATION                          95387\n",
       "ON STREET NAME                   175963\n",
       "NUMBER OF PERSONS INJURED            12\n",
       "NUMBER OF PERSONS KILLED             16\n",
       "NUMBER OF PEDESTRIANS INJURED         0\n",
       "NUMBER OF PEDESTRIANS KILLED          0\n",
       "NUMBER OF CYCLIST INJURED             0\n",
       "NUMBER OF CYCLIST KILLED              0\n",
       "NUMBER OF MOTORIST INJURED            0\n",
       "NUMBER OF MOTORIST KILLED             0\n",
       "CONTRIBUTING FACTOR VEHICLE 1    285701\n",
       "VEHICLE TYPE CODE 1               13365\n",
       "VEHICLE TYPE CODE 2              191924\n",
       "dtype: int64"
      ]
     },
     "execution_count": 10,
     "metadata": {},
     "output_type": "execute_result"
    }
   ],
   "source": [
    "df_sample.isnull().sum()"
   ]
  },
  {
   "cell_type": "markdown",
   "metadata": {},
   "source": [
    "Deleting logical irrelevant columns"
   ]
  },
  {
   "cell_type": "code",
   "execution_count": 11,
   "metadata": {},
   "outputs": [],
   "source": [
    "df_sample.drop(['VEHICLE TYPE CODE 2', 'ZIP CODE', 'LATITUDE', 'LONGITUDE', 'LOCATION'], axis=1, inplace=True)"
   ]
  },
  {
   "cell_type": "markdown",
   "metadata": {},
   "source": [
    "Simplifying feature names"
   ]
  },
  {
   "cell_type": "code",
   "execution_count": 12,
   "metadata": {},
   "outputs": [],
   "source": [
    "df_sample.rename(columns={\n",
    "    'CRASH DATE': 'DATE',\n",
    "    'CRASH TIME': 'TIME',\n",
    "    'LATITUDE': 'LAT',\n",
    "    'LONGITUDE': 'LON',\n",
    "    'ON STREET NAME': 'ON_STREET',\n",
    "    'CROSS STREET NAME': 'CROSS_STREET',\n",
    "    'NUMBER OF PERSONS INJURED': 'INJURED',\n",
    "    'NUMBER OF PERSONS KILLED': 'KILLED',\n",
    "    'NUMBER OF PEDESTRIANS INJURED': 'PED_INJURED',\n",
    "    'NUMBER OF PEDESTRIANS KILLED': 'PED_KILLED',\n",
    "    'NUMBER OF CYCLIST INJURED': 'CY_INJURED',\n",
    "    'NUMBER OF CYCLIST KILLED': 'CY_KILLED',\n",
    "    'NUMBER OF MOTORIST INJURED': 'MOT_INJURED',\n",
    "    'NUMBER OF MOTORIST KILLED': 'MOT_KILLED',\n",
    "    'CONTRIBUTING FACTOR VEHICLE 1': 'FACTOR',\n",
    "    'CONTRIBUTING FACTOR VEHICLE 2': 'FACTOR2',\n",
    "    'VEHICLE TYPE CODE 1': 'VEHICLE'\n",
    "    }, inplace=True)"
   ]
  },
  {
   "cell_type": "markdown",
   "metadata": {},
   "source": [
    "#### Cleaning the target variable"
   ]
  },
  {
   "cell_type": "markdown",
   "metadata": {},
   "source": [
    "Dropping all raws with null in the target varible"
   ]
  },
  {
   "cell_type": "code",
   "execution_count": 13,
   "metadata": {},
   "outputs": [
    {
     "data": {
      "text/plain": [
       "DATE            object\n",
       "TIME            object\n",
       "BOROUGH         object\n",
       "ON_STREET       object\n",
       "INJURED        float64\n",
       "KILLED         float64\n",
       "PED_INJURED      int64\n",
       "PED_KILLED       int64\n",
       "CY_INJURED       int64\n",
       "CY_KILLED        int64\n",
       "MOT_INJURED      int64\n",
       "MOT_KILLED       int64\n",
       "FACTOR          object\n",
       "VEHICLE         object\n",
       "dtype: object"
      ]
     },
     "execution_count": 13,
     "metadata": {},
     "output_type": "execute_result"
    }
   ],
   "source": [
    "df_sample.dropna(subset=['VEHICLE'], inplace=True)\n",
    "\n",
    "df_sample.dtypes"
   ]
  },
  {
   "cell_type": "markdown",
   "metadata": {},
   "source": [
    "Finding and excluding outliers"
   ]
  },
  {
   "cell_type": "code",
   "execution_count": 14,
   "metadata": {},
   "outputs": [
    {
     "data": {
      "text/html": [
       "<div>\n",
       "<style scoped>\n",
       "    .dataframe tbody tr th:only-of-type {\n",
       "        vertical-align: middle;\n",
       "    }\n",
       "\n",
       "    .dataframe tbody tr th {\n",
       "        vertical-align: top;\n",
       "    }\n",
       "\n",
       "    .dataframe thead th {\n",
       "        text-align: right;\n",
       "    }\n",
       "</style>\n",
       "<table border=\"1\" class=\"dataframe\">\n",
       "  <thead>\n",
       "    <tr style=\"text-align: right;\">\n",
       "      <th></th>\n",
       "      <th>INJURED</th>\n",
       "      <th>KILLED</th>\n",
       "      <th>PED_INJURED</th>\n",
       "      <th>PED_KILLED</th>\n",
       "      <th>CY_INJURED</th>\n",
       "      <th>CY_KILLED</th>\n",
       "      <th>MOT_INJURED</th>\n",
       "      <th>MOT_KILLED</th>\n",
       "    </tr>\n",
       "  </thead>\n",
       "  <tbody>\n",
       "    <tr>\n",
       "      <th>count</th>\n",
       "      <td>818142.000000</td>\n",
       "      <td>818137.000000</td>\n",
       "      <td>818153.000000</td>\n",
       "      <td>818153.000000</td>\n",
       "      <td>818153.000000</td>\n",
       "      <td>818153.000000</td>\n",
       "      <td>818153.000000</td>\n",
       "      <td>818153.000000</td>\n",
       "    </tr>\n",
       "    <tr>\n",
       "      <th>mean</th>\n",
       "      <td>0.306872</td>\n",
       "      <td>0.001426</td>\n",
       "      <td>0.051064</td>\n",
       "      <td>0.000713</td>\n",
       "      <td>0.026478</td>\n",
       "      <td>0.000095</td>\n",
       "      <td>0.225859</td>\n",
       "      <td>0.000596</td>\n",
       "    </tr>\n",
       "    <tr>\n",
       "      <th>std</th>\n",
       "      <td>0.701353</td>\n",
       "      <td>0.038984</td>\n",
       "      <td>0.232301</td>\n",
       "      <td>0.026913</td>\n",
       "      <td>0.162534</td>\n",
       "      <td>0.009764</td>\n",
       "      <td>0.665467</td>\n",
       "      <td>0.025779</td>\n",
       "    </tr>\n",
       "    <tr>\n",
       "      <th>min</th>\n",
       "      <td>0.000000</td>\n",
       "      <td>0.000000</td>\n",
       "      <td>0.000000</td>\n",
       "      <td>0.000000</td>\n",
       "      <td>0.000000</td>\n",
       "      <td>0.000000</td>\n",
       "      <td>0.000000</td>\n",
       "      <td>0.000000</td>\n",
       "    </tr>\n",
       "    <tr>\n",
       "      <th>25%</th>\n",
       "      <td>0.000000</td>\n",
       "      <td>0.000000</td>\n",
       "      <td>0.000000</td>\n",
       "      <td>0.000000</td>\n",
       "      <td>0.000000</td>\n",
       "      <td>0.000000</td>\n",
       "      <td>0.000000</td>\n",
       "      <td>0.000000</td>\n",
       "    </tr>\n",
       "    <tr>\n",
       "      <th>50%</th>\n",
       "      <td>0.000000</td>\n",
       "      <td>0.000000</td>\n",
       "      <td>0.000000</td>\n",
       "      <td>0.000000</td>\n",
       "      <td>0.000000</td>\n",
       "      <td>0.000000</td>\n",
       "      <td>0.000000</td>\n",
       "      <td>0.000000</td>\n",
       "    </tr>\n",
       "    <tr>\n",
       "      <th>75%</th>\n",
       "      <td>0.000000</td>\n",
       "      <td>0.000000</td>\n",
       "      <td>0.000000</td>\n",
       "      <td>0.000000</td>\n",
       "      <td>0.000000</td>\n",
       "      <td>0.000000</td>\n",
       "      <td>0.000000</td>\n",
       "      <td>0.000000</td>\n",
       "    </tr>\n",
       "    <tr>\n",
       "      <th>max</th>\n",
       "      <td>34.000000</td>\n",
       "      <td>4.000000</td>\n",
       "      <td>13.000000</td>\n",
       "      <td>2.000000</td>\n",
       "      <td>4.000000</td>\n",
       "      <td>1.000000</td>\n",
       "      <td>34.000000</td>\n",
       "      <td>3.000000</td>\n",
       "    </tr>\n",
       "  </tbody>\n",
       "</table>\n",
       "</div>"
      ],
      "text/plain": [
       "             INJURED         KILLED    PED_INJURED     PED_KILLED  \\\n",
       "count  818142.000000  818137.000000  818153.000000  818153.000000   \n",
       "mean        0.306872       0.001426       0.051064       0.000713   \n",
       "std         0.701353       0.038984       0.232301       0.026913   \n",
       "min         0.000000       0.000000       0.000000       0.000000   \n",
       "25%         0.000000       0.000000       0.000000       0.000000   \n",
       "50%         0.000000       0.000000       0.000000       0.000000   \n",
       "75%         0.000000       0.000000       0.000000       0.000000   \n",
       "max        34.000000       4.000000      13.000000       2.000000   \n",
       "\n",
       "          CY_INJURED      CY_KILLED    MOT_INJURED     MOT_KILLED  \n",
       "count  818153.000000  818153.000000  818153.000000  818153.000000  \n",
       "mean        0.026478       0.000095       0.225859       0.000596  \n",
       "std         0.162534       0.009764       0.665467       0.025779  \n",
       "min         0.000000       0.000000       0.000000       0.000000  \n",
       "25%         0.000000       0.000000       0.000000       0.000000  \n",
       "50%         0.000000       0.000000       0.000000       0.000000  \n",
       "75%         0.000000       0.000000       0.000000       0.000000  \n",
       "max         4.000000       1.000000      34.000000       3.000000  "
      ]
     },
     "execution_count": 14,
     "metadata": {},
     "output_type": "execute_result"
    }
   ],
   "source": [
    "df_sample.describe()"
   ]
  },
  {
   "cell_type": "code",
   "execution_count": 15,
   "metadata": {},
   "outputs": [
    {
     "data": {
      "image/png": "[encoded data removed]",
      "text/plain": [
       "<Figure size 1500x800 with 8 Axes>"
      ]
     },
     "metadata": {},
     "output_type": "display_data"
    }
   ],
   "source": [
    "numerical_columns = df_sample.select_dtypes(include='number').columns.tolist()\n",
    "\n",
    "img, axs = plt.subplots(2, 4, figsize=(15, 8))\n",
    "\n",
    "for i, column in enumerate(numerical_columns):\n",
    "    sns.boxplot(x=df_sample[column], ax=axs[i//4, i%4])\n",
    "\n",
    "plt.show()"
   ]
  },
  {
   "cell_type": "markdown",
   "metadata": {},
   "source": [
    "#### Filling missing values with their mode and mean for categorical and numerical values respectively"
   ]
  },
  {
   "cell_type": "code",
   "execution_count": 16,
   "metadata": {},
   "outputs": [],
   "source": [
    "# filling all categorical missing values with their mode\n",
    "categorical_columns = df_sample.select_dtypes(include='object').columns.tolist()\n",
    "\n",
    "for column in categorical_columns:\n",
    "    df_sample.fillna({column: df_sample[column].mode()[0]}, inplace=True)\n",
    "\n",
    "# filling numberical missing values with its mean\n",
    "numerical_columns = df_sample.select_dtypes(include='number').columns.tolist()\n",
    "\n",
    "for column in numerical_columns:\n",
    "    df_sample.fillna({column: df_sample[column].mean()}, inplace=True)\n"
   ]
  },
  {
   "cell_type": "code",
   "execution_count": 17,
   "metadata": {},
   "outputs": [
    {
     "data": {
      "text/plain": [
       "DATE           0\n",
       "TIME           0\n",
       "BOROUGH        0\n",
       "ON_STREET      0\n",
       "INJURED        0\n",
       "KILLED         0\n",
       "PED_INJURED    0\n",
       "PED_KILLED     0\n",
       "CY_INJURED     0\n",
       "CY_KILLED      0\n",
       "MOT_INJURED    0\n",
       "MOT_KILLED     0\n",
       "FACTOR         0\n",
       "VEHICLE        0\n",
       "dtype: int64"
      ]
     },
     "execution_count": 17,
     "metadata": {},
     "output_type": "execute_result"
    }
   ],
   "source": [
    "df_sample.isnull().sum()"
   ]
  },
  {
   "cell_type": "markdown",
   "metadata": {},
   "source": [
    "### Parsing categorical colums to numeric representation\n",
    "\n",
    "Based on that most of the categorical columns have many categories One-Hot enconding is not suitable therefore Label Encoding would be a better solution"
   ]
  },
  {
   "cell_type": "code",
   "execution_count": 18,
   "metadata": {},
   "outputs": [
    {
     "data": {
      "text/plain": [
       "DATE            object\n",
       "TIME            object\n",
       "BOROUGH         object\n",
       "ON_STREET       object\n",
       "INJURED        float64\n",
       "KILLED         float64\n",
       "PED_INJURED      int64\n",
       "PED_KILLED       int64\n",
       "CY_INJURED       int64\n",
       "CY_KILLED        int64\n",
       "MOT_INJURED      int64\n",
       "MOT_KILLED       int64\n",
       "FACTOR          object\n",
       "VEHICLE         object\n",
       "dtype: object"
      ]
     },
     "execution_count": 18,
     "metadata": {},
     "output_type": "execute_result"
    }
   ],
   "source": [
    "df_sample.dtypes"
   ]
  },
  {
   "cell_type": "code",
   "execution_count": 27,
   "metadata": {},
   "outputs": [],
   "source": [
    "from sklearn.preprocessing import LabelEncoder\n",
    "\n",
    "label_encoder = LabelEncoder()\n",
    "\n",
    "categorical_columns = df_sample[['BOROUGH', 'ON_STREET', 'FACTOR', 'VEHICLE']].columns.tolist()\n",
    "\n",
    "for column in categorical_columns:\n",
    "    df_sample[column] = label_encoder.fit_transform(df_sample[column])\n"
   ]
  },
  {
   "cell_type": "markdown",
   "metadata": {},
   "source": [
    "Creating new column with month and time instead of date and time"
   ]
  },
  {
   "cell_type": "code",
   "execution_count": 28,
   "metadata": {},
   "outputs": [
    {
     "ename": "KeyError",
     "evalue": "'DATE'",
     "output_type": "error",
     "traceback": [
      "\u001b[0;31m---------------------------------------------------------------------------\u001b[0m",
      "\u001b[0;31mKeyError\u001b[0m                                  Traceback (most recent call last)",
      "File \u001b[0;32m/opt/conda/lib/python3.11/site-packages/pandas/core/indexes/base.py:3802\u001b[0m, in \u001b[0;36mIndex.get_loc\u001b[0;34m(self, key)\u001b[0m\n\u001b[1;32m   3801\u001b[0m \u001b[38;5;28;01mtry\u001b[39;00m:\n\u001b[0;32m-> 3802\u001b[0m     \u001b[38;5;28;01mreturn\u001b[39;00m \u001b[38;5;28mself\u001b[39m\u001b[38;5;241m.\u001b[39m_engine\u001b[38;5;241m.\u001b[39mget_loc(casted_key)\n\u001b[1;32m   3803\u001b[0m \u001b[38;5;28;01mexcept\u001b[39;00m \u001b[38;5;167;01mKeyError\u001b[39;00m \u001b[38;5;28;01mas\u001b[39;00m err:\n",
      "File \u001b[0;32mindex.pyx:153\u001b[0m, in \u001b[0;36mpandas._libs.index.IndexEngine.get_loc\u001b[0;34m()\u001b[0m\n",
      "File \u001b[0;32mindex.pyx:182\u001b[0m, in \u001b[0;36mpandas._libs.index.IndexEngine.get_loc\u001b[0;34m()\u001b[0m\n",
      "File \u001b[0;32mpandas/_libs/hashtable_class_helper.pxi:7081\u001b[0m, in \u001b[0;36mpandas._libs.hashtable.PyObjectHashTable.get_item\u001b[0;34m()\u001b[0m\n",
      "File \u001b[0;32mpandas/_libs/hashtable_class_helper.pxi:7089\u001b[0m, in \u001b[0;36mpandas._libs.hashtable.PyObjectHashTable.get_item\u001b[0;34m()\u001b[0m\n",
      "\u001b[0;31mKeyError\u001b[0m: 'DATE'",
      "\nThe above exception was the direct cause of the following exception:\n",
      "\u001b[0;31mKeyError\u001b[0m                                  Traceback (most recent call last)",
      "Cell \u001b[0;32mIn[28], line 2\u001b[0m\n\u001b[1;32m      1\u001b[0m \u001b[38;5;66;03m# converting the date and time columns to datetime\u001b[39;00m\n\u001b[0;32m----> 2\u001b[0m df_sample[\u001b[38;5;124m'\u001b[39m\u001b[38;5;124mMONTH\u001b[39m\u001b[38;5;124m'\u001b[39m] \u001b[38;5;241m=\u001b[39m df_sample[\u001b[38;5;124m'\u001b[39m\u001b[38;5;124mDATE\u001b[39m\u001b[38;5;124m'\u001b[39m]\u001b[38;5;241m.\u001b[39mapply(\u001b[38;5;28;01mlambda\u001b[39;00m x: \u001b[38;5;28mint\u001b[39m(x\u001b[38;5;241m.\u001b[39msplit(\u001b[38;5;124m'\u001b[39m\u001b[38;5;124m/\u001b[39m\u001b[38;5;124m'\u001b[39m)[\u001b[38;5;241m0\u001b[39m]))\n\u001b[1;32m      3\u001b[0m df_sample[\u001b[38;5;124m'\u001b[39m\u001b[38;5;124mTIME\u001b[39m\u001b[38;5;124m'\u001b[39m] \u001b[38;5;241m=\u001b[39m df_sample[\u001b[38;5;124m'\u001b[39m\u001b[38;5;124mTIME\u001b[39m\u001b[38;5;124m'\u001b[39m]\u001b[38;5;241m.\u001b[39mapply(\u001b[38;5;28;01mlambda\u001b[39;00m x: \u001b[38;5;28mfloat\u001b[39m(x\u001b[38;5;241m.\u001b[39mreplace(\u001b[38;5;124m'\u001b[39m\u001b[38;5;124m:\u001b[39m\u001b[38;5;124m'\u001b[39m, \u001b[38;5;124m'\u001b[39m\u001b[38;5;124m.\u001b[39m\u001b[38;5;124m'\u001b[39m)))\n\u001b[1;32m      5\u001b[0m df_sample\u001b[38;5;241m.\u001b[39mdrop(\u001b[38;5;124m'\u001b[39m\u001b[38;5;124mDATE\u001b[39m\u001b[38;5;124m'\u001b[39m, axis\u001b[38;5;241m=\u001b[39m\u001b[38;5;241m1\u001b[39m, inplace\u001b[38;5;241m=\u001b[39m\u001b[38;5;28;01mTrue\u001b[39;00m)\n",
      "File \u001b[0;32m/opt/conda/lib/python3.11/site-packages/pandas/core/frame.py:4090\u001b[0m, in \u001b[0;36mDataFrame.__getitem__\u001b[0;34m(self, key)\u001b[0m\n\u001b[1;32m   4088\u001b[0m \u001b[38;5;28;01mif\u001b[39;00m \u001b[38;5;28mself\u001b[39m\u001b[38;5;241m.\u001b[39mcolumns\u001b[38;5;241m.\u001b[39mnlevels \u001b[38;5;241m>\u001b[39m \u001b[38;5;241m1\u001b[39m:\n\u001b[1;32m   4089\u001b[0m     \u001b[38;5;28;01mreturn\u001b[39;00m \u001b[38;5;28mself\u001b[39m\u001b[38;5;241m.\u001b[39m_getitem_multilevel(key)\n\u001b[0;32m-> 4090\u001b[0m indexer \u001b[38;5;241m=\u001b[39m \u001b[38;5;28mself\u001b[39m\u001b[38;5;241m.\u001b[39mcolumns\u001b[38;5;241m.\u001b[39mget_loc(key)\n\u001b[1;32m   4091\u001b[0m \u001b[38;5;28;01mif\u001b[39;00m is_integer(indexer):\n\u001b[1;32m   4092\u001b[0m     indexer \u001b[38;5;241m=\u001b[39m [indexer]\n",
      "File \u001b[0;32m/opt/conda/lib/python3.11/site-packages/pandas/core/indexes/base.py:3809\u001b[0m, in \u001b[0;36mIndex.get_loc\u001b[0;34m(self, key)\u001b[0m\n\u001b[1;32m   3804\u001b[0m     \u001b[38;5;28;01mif\u001b[39;00m \u001b[38;5;28misinstance\u001b[39m(casted_key, \u001b[38;5;28mslice\u001b[39m) \u001b[38;5;129;01mor\u001b[39;00m (\n\u001b[1;32m   3805\u001b[0m         \u001b[38;5;28misinstance\u001b[39m(casted_key, abc\u001b[38;5;241m.\u001b[39mIterable)\n\u001b[1;32m   3806\u001b[0m         \u001b[38;5;129;01mand\u001b[39;00m \u001b[38;5;28many\u001b[39m(\u001b[38;5;28misinstance\u001b[39m(x, \u001b[38;5;28mslice\u001b[39m) \u001b[38;5;28;01mfor\u001b[39;00m x \u001b[38;5;129;01min\u001b[39;00m casted_key)\n\u001b[1;32m   3807\u001b[0m     ):\n\u001b[1;32m   3808\u001b[0m         \u001b[38;5;28;01mraise\u001b[39;00m InvalidIndexError(key)\n\u001b[0;32m-> 3809\u001b[0m     \u001b[38;5;28;01mraise\u001b[39;00m \u001b[38;5;167;01mKeyError\u001b[39;00m(key) \u001b[38;5;28;01mfrom\u001b[39;00m \u001b[38;5;21;01merr\u001b[39;00m\n\u001b[1;32m   3810\u001b[0m \u001b[38;5;28;01mexcept\u001b[39;00m \u001b[38;5;167;01mTypeError\u001b[39;00m:\n\u001b[1;32m   3811\u001b[0m     \u001b[38;5;66;03m# If we have a listlike key, _check_indexing_error will raise\u001b[39;00m\n\u001b[1;32m   3812\u001b[0m     \u001b[38;5;66;03m#  InvalidIndexError. Otherwise we fall through and re-raise\u001b[39;00m\n\u001b[1;32m   3813\u001b[0m     \u001b[38;5;66;03m#  the TypeError.\u001b[39;00m\n\u001b[1;32m   3814\u001b[0m     \u001b[38;5;28mself\u001b[39m\u001b[38;5;241m.\u001b[39m_check_indexing_error(key)\n",
      "\u001b[0;31mKeyError\u001b[0m: 'DATE'"
     ]
    }
   ],
   "source": [
    "# converting the date and time columns to datetime\n",
    "df_sample['MONTH'] = df_sample['DATE'].apply(lambda x: int(x.split('/')[0]))\n",
    "df_sample['TIME'] = df_sample['TIME'].apply(lambda x: float(x.replace(':', '.')))\n",
    "\n",
    "df_sample.drop('DATE', axis=1, inplace=True)\n"
   ]
  },
  {
   "cell_type": "code",
   "execution_count": 29,
   "metadata": {},
   "outputs": [
    {
     "data": {
      "text/html": [
       "<div>\n",
       "<style scoped>\n",
       "    .dataframe tbody tr th:only-of-type {\n",
       "        vertical-align: middle;\n",
       "    }\n",
       "\n",
       "    .dataframe tbody tr th {\n",
       "        vertical-align: top;\n",
       "    }\n",
       "\n",
       "    .dataframe thead th {\n",
       "        text-align: right;\n",
       "    }\n",
       "</style>\n",
       "<table border=\"1\" class=\"dataframe\">\n",
       "  <thead>\n",
       "    <tr style=\"text-align: right;\">\n",
       "      <th></th>\n",
       "      <th>MONTH</th>\n",
       "      <th>TIME</th>\n",
       "    </tr>\n",
       "    <tr>\n",
       "      <th>COLLISION_ID</th>\n",
       "      <th></th>\n",
       "      <th></th>\n",
       "    </tr>\n",
       "  </thead>\n",
       "  <tbody>\n",
       "    <tr>\n",
       "      <th>4477506</th>\n",
       "      <td>10</td>\n",
       "      <td>11.0</td>\n",
       "    </tr>\n",
       "    <tr>\n",
       "      <th>3674076</th>\n",
       "      <td>5</td>\n",
       "      <td>13.0</td>\n",
       "    </tr>\n",
       "    <tr>\n",
       "      <th>3121392</th>\n",
       "      <td>7</td>\n",
       "      <td>15.3</td>\n",
       "    </tr>\n",
       "    <tr>\n",
       "      <th>4446136</th>\n",
       "      <td>8</td>\n",
       "      <td>17.0</td>\n",
       "    </tr>\n",
       "    <tr>\n",
       "      <th>237015</th>\n",
       "      <td>10</td>\n",
       "      <td>13.4</td>\n",
       "    </tr>\n",
       "  </tbody>\n",
       "</table>\n",
       "</div>"
      ],
      "text/plain": [
       "              MONTH  TIME\n",
       "COLLISION_ID             \n",
       "4477506          10  11.0\n",
       "3674076           5  13.0\n",
       "3121392           7  15.3\n",
       "4446136           8  17.0\n",
       "237015           10  13.4"
      ]
     },
     "execution_count": 29,
     "metadata": {},
     "output_type": "execute_result"
    }
   ],
   "source": [
    "df_sample[['MONTH', 'TIME']].head()"
   ]
  },
  {
   "cell_type": "markdown",
   "metadata": {},
   "source": [
    "Normalizing the data"
   ]
  },
  {
   "cell_type": "markdown",
   "metadata": {},
   "source": [
    "## Training and model selection"
   ]
  },
  {
   "cell_type": "markdown",
   "metadata": {},
   "source": [
    "#### Spliting sets"
   ]
  },
  {
   "cell_type": "code",
   "execution_count": 30,
   "metadata": {},
   "outputs": [],
   "source": [
    "from sklearn.model_selection import train_test_split, cross_val_score\n",
    "\n",
    "X = df_sample.drop('VEHICLE', axis=1)\n",
    "y = df_sample['VEHICLE']"
   ]
  },
  {
   "cell_type": "code",
   "execution_count": 37,
   "metadata": {},
   "outputs": [
    {
     "name": "stderr",
     "output_type": "stream",
     "text": [
      "/opt/conda/lib/python3.11/site-packages/sklearn/model_selection/_split.py:737: UserWarning: The least populated class in y has only 1 members, which is less than n_splits=10.\n",
      "  warnings.warn(\n",
      "/opt/conda/lib/python3.11/site-packages/sklearn/model_selection/_split.py:737: UserWarning: The least populated class in y has only 1 members, which is less than n_splits=10.\n",
      "  warnings.warn(\n",
      "/opt/conda/lib/python3.11/site-packages/sklearn/model_selection/_split.py:737: UserWarning: The least populated class in y has only 1 members, which is less than n_splits=10.\n",
      "  warnings.warn(\n",
      "/opt/conda/lib/python3.11/site-packages/sklearn/model_selection/_split.py:737: UserWarning: The least populated class in y has only 1 members, which is less than n_splits=10.\n",
      "  warnings.warn(\n",
      "/opt/conda/lib/python3.11/site-packages/sklearn/model_selection/_split.py:737: UserWarning: The least populated class in y has only 1 members, which is less than n_splits=10.\n",
      "  warnings.warn(\n",
      "/opt/conda/lib/python3.11/site-packages/sklearn/model_selection/_split.py:737: UserWarning: The least populated class in y has only 1 members, which is less than n_splits=10.\n",
      "  warnings.warn(\n"
     ]
    },
    {
     "name": "stdout",
     "output_type": "stream",
     "text": [
      "Best test_size split for KNN: 20%\n",
      "Best cross-validation score for KNN: 0.23757031703026293\n",
      "\n",
      "Best test_size split for Decision Tree: 20%\n",
      "Best cross-validation score for Decision Tree: 0.34382190292611026\n"
     ]
    }
   ],
   "source": [
    "from sklearn.neighbors import KNeighborsClassifier\n",
    "from sklearn.tree import DecisionTreeClassifier\n",
    "\n",
    "splits = [20, 25, 30]\n",
    "knn_cv_scores = []\n",
    "dt_cv_scores = []\n",
    "\n",
    "for split in splits:\n",
    "    X_train, X_test, y_train, y_test = train_test_split(X, y, test_size=split/100, random_state=42)\n",
    "\n",
    "    knn = KNeighborsClassifier(n_neighbors=3)\n",
    "    dt = DecisionTreeClassifier(random_state=42, max_depth=15)\n",
    "\n",
    "    knn_scores = cross_val_score(knn, X_train, y_train, cv=10, scoring='accuracy')\n",
    "    dt_scores = cross_val_score(dt, X_train, y_train, cv=10, scoring='accuracy')\n",
    "\n",
    "    knn_cv_scores.append(knn_scores.mean())\n",
    "    dt_cv_scores.append(dt_scores.mean())\n",
    "\n",
    "knn_best_split = splits[np.argmax(knn_cv_scores)]\n",
    "knn_best_score = np.max(knn_cv_scores)\n",
    "\n",
    "print(f\"Best test_size split for KNN: {splits[np.argmax(knn_cv_scores)]}%\")\n",
    "print(f\"Best cross-validation score for KNN: {np.max(knn_cv_scores)}\\n\")\n",
    "\n",
    "print(f\"Best test_size split for Decision Tree: {splits[np.argmax(dt_cv_scores)]}%\")\n",
    "print(f\"Best cross-validation score for Decision Tree: {np.max(dt_cv_scores)}\")\n"
   ]
  },
  {
   "cell_type": "markdown",
   "metadata": {},
   "source": [
    "## References\n",
    "\n",
    "- https://www.analyticsvidhya.com/blog/2021/04/how-to-handle-missing-values-of-categorical-variables/\n",
    "- https://www.linkedin.com/pulse/title-label-encoding-one-hot-data-preprocessing-shivani-singh\n",
    "- https://www.linkedin.com/pulse/top-6-machine-learning-algorithms-classification-jagrat-patel/"
   ]
  }
 ],
 "metadata": {
  "kernelspec": {
   "display_name": "Python 3 (ipykernel)",
   "language": "python",
   "name": "python3"
  },
  "language_info": {
   "codemirror_mode": {
    "name": "ipython",
    "version": 3
   },
   "file_extension": ".py",
   "mimetype": "text/x-python",
   "name": "python",
   "nbconvert_exporter": "python",
   "pygments_lexer": "ipython3",
   "version": "3.11.5"
  }
 },
 "nbformat": 4,
 "nbformat_minor": 4
}
