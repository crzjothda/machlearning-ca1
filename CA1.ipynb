{
 "cells": [
  {
   "cell_type": "code",
   "execution_count": 1,
   "metadata": {},
   "outputs": [
    {
     "name": "stderr",
     "output_type": "stream",
     "text": [
      "/tmp/ipykernel_5176/2591034107.py:1: DeprecationWarning: \n",
      "Pyarrow will become a required dependency of pandas in the next major release of pandas (pandas 3.0),\n",
      "(to allow more performant data types, such as the Arrow string type, and better interoperability with other libraries)\n",
      "but was not found to be installed on your system.\n",
      "If this would cause problems for you,\n",
      "please provide us feedback at https://github.com/pandas-dev/pandas/issues/54466\n",
      "        \n",
      "  import pandas as pd\n"
     ]
    }
   ],
   "source": [
    "import pandas as pd\n",
    "import numpy as np\n",
    "import matplotlib.pyplot as plt\n",
    "import seaborn as sns\n",
    "import warnings\n",
    "warnings.filterwarnings('ignore')"
   ]
  },
  {
   "cell_type": "code",
   "execution_count": 127,
   "metadata": {},
   "outputs": [],
   "source": [
    "na_values = ['UNKNOWN', 'unknown', 'Unknown', 'Unknown ve', '(0.0, 0.0)', 'Unspecified', 'OTHER', 'other']\n",
    "\n",
    "df = pd.read_csv('crashes.csv', na_values=na_values)\n",
    "df_sample = df.sample(frac=.10)"
   ]
  },
  {
   "cell_type": "markdown",
   "metadata": {},
   "source": [
    "## Data exploration"
   ]
  },
  {
   "cell_type": "code",
   "execution_count": 3,
   "metadata": {},
   "outputs": [
    {
     "data": {
      "text/html": [
       "<div>\n",
       "<style scoped>\n",
       "    .dataframe tbody tr th:only-of-type {\n",
       "        vertical-align: middle;\n",
       "    }\n",
       "\n",
       "    .dataframe tbody tr th {\n",
       "        vertical-align: top;\n",
       "    }\n",
       "\n",
       "    .dataframe thead th {\n",
       "        text-align: right;\n",
       "    }\n",
       "</style>\n",
       "<table border=\"1\" class=\"dataframe\">\n",
       "  <thead>\n",
       "    <tr style=\"text-align: right;\">\n",
       "      <th></th>\n",
       "      <th>CRASH DATE</th>\n",
       "      <th>CRASH TIME</th>\n",
       "      <th>BOROUGH</th>\n",
       "      <th>ZIP CODE</th>\n",
       "      <th>LATITUDE</th>\n",
       "      <th>LONGITUDE</th>\n",
       "      <th>LOCATION</th>\n",
       "      <th>ON STREET NAME</th>\n",
       "      <th>CROSS STREET NAME</th>\n",
       "      <th>OFF STREET NAME</th>\n",
       "      <th>...</th>\n",
       "      <th>CONTRIBUTING FACTOR VEHICLE 2</th>\n",
       "      <th>CONTRIBUTING FACTOR VEHICLE 3</th>\n",
       "      <th>CONTRIBUTING FACTOR VEHICLE 4</th>\n",
       "      <th>CONTRIBUTING FACTOR VEHICLE 5</th>\n",
       "      <th>COLLISION_ID</th>\n",
       "      <th>VEHICLE TYPE CODE 1</th>\n",
       "      <th>VEHICLE TYPE CODE 2</th>\n",
       "      <th>VEHICLE TYPE CODE 3</th>\n",
       "      <th>VEHICLE TYPE CODE 4</th>\n",
       "      <th>VEHICLE TYPE CODE 5</th>\n",
       "    </tr>\n",
       "  </thead>\n",
       "  <tbody>\n",
       "    <tr>\n",
       "      <th>498898</th>\n",
       "      <td>01/17/2019</td>\n",
       "      <td>8:40</td>\n",
       "      <td>BROOKLYN</td>\n",
       "      <td>11222.0</td>\n",
       "      <td>40.719010</td>\n",
       "      <td>-73.95019</td>\n",
       "      <td>(40.71901, -73.95019)</td>\n",
       "      <td>BAYARD STREET</td>\n",
       "      <td>LORIMER STREET</td>\n",
       "      <td>NaN</td>\n",
       "      <td>...</td>\n",
       "      <td>NaN</td>\n",
       "      <td>NaN</td>\n",
       "      <td>NaN</td>\n",
       "      <td>NaN</td>\n",
       "      <td>4056463</td>\n",
       "      <td>Station Wagon/Sport Utility Vehicle</td>\n",
       "      <td>NaN</td>\n",
       "      <td>NaN</td>\n",
       "      <td>NaN</td>\n",
       "      <td>NaN</td>\n",
       "    </tr>\n",
       "    <tr>\n",
       "      <th>1060163</th>\n",
       "      <td>08/13/2016</td>\n",
       "      <td>21:30</td>\n",
       "      <td>NaN</td>\n",
       "      <td>NaN</td>\n",
       "      <td>NaN</td>\n",
       "      <td>NaN</td>\n",
       "      <td>NaN</td>\n",
       "      <td>BRONX RIVER PARKWAY</td>\n",
       "      <td>NaN</td>\n",
       "      <td>NaN</td>\n",
       "      <td>...</td>\n",
       "      <td>NaN</td>\n",
       "      <td>NaN</td>\n",
       "      <td>NaN</td>\n",
       "      <td>NaN</td>\n",
       "      <td>3500146</td>\n",
       "      <td>Station Wagon/Sport Utility Vehicle</td>\n",
       "      <td>Sedan</td>\n",
       "      <td>Station Wagon/Sport Utility Vehicle</td>\n",
       "      <td>NaN</td>\n",
       "      <td>NaN</td>\n",
       "    </tr>\n",
       "    <tr>\n",
       "      <th>50645</th>\n",
       "      <td>01/13/2022</td>\n",
       "      <td>18:53</td>\n",
       "      <td>NaN</td>\n",
       "      <td>NaN</td>\n",
       "      <td>40.677834</td>\n",
       "      <td>-73.88509</td>\n",
       "      <td>(40.677834, -73.88509)</td>\n",
       "      <td>ATLANTIC AVENUE</td>\n",
       "      <td>CLEVELAND STREET</td>\n",
       "      <td>NaN</td>\n",
       "      <td>...</td>\n",
       "      <td>NaN</td>\n",
       "      <td>NaN</td>\n",
       "      <td>NaN</td>\n",
       "      <td>NaN</td>\n",
       "      <td>4494395</td>\n",
       "      <td>Station Wagon/Sport Utility Vehicle</td>\n",
       "      <td>Sedan</td>\n",
       "      <td>NaN</td>\n",
       "      <td>NaN</td>\n",
       "      <td>NaN</td>\n",
       "    </tr>\n",
       "    <tr>\n",
       "      <th>723702</th>\n",
       "      <td>01/06/2018</td>\n",
       "      <td>17:00</td>\n",
       "      <td>MANHATTAN</td>\n",
       "      <td>10027.0</td>\n",
       "      <td>40.811066</td>\n",
       "      <td>-73.95053</td>\n",
       "      <td>(40.811066, -73.95053)</td>\n",
       "      <td>NaN</td>\n",
       "      <td>NaN</td>\n",
       "      <td>2355      8 AVENUE</td>\n",
       "      <td>...</td>\n",
       "      <td>NaN</td>\n",
       "      <td>NaN</td>\n",
       "      <td>NaN</td>\n",
       "      <td>NaN</td>\n",
       "      <td>3824856</td>\n",
       "      <td>Taxi</td>\n",
       "      <td>NaN</td>\n",
       "      <td>NaN</td>\n",
       "      <td>NaN</td>\n",
       "      <td>NaN</td>\n",
       "    </tr>\n",
       "    <tr>\n",
       "      <th>379819</th>\n",
       "      <td>08/17/2019</td>\n",
       "      <td>23:50</td>\n",
       "      <td>QUEENS</td>\n",
       "      <td>11373.0</td>\n",
       "      <td>40.736057</td>\n",
       "      <td>-73.87941</td>\n",
       "      <td>(40.736057, -73.87941)</td>\n",
       "      <td>NaN</td>\n",
       "      <td>NaN</td>\n",
       "      <td>86-35     GRAND AVENUE</td>\n",
       "      <td>...</td>\n",
       "      <td>NaN</td>\n",
       "      <td>NaN</td>\n",
       "      <td>NaN</td>\n",
       "      <td>NaN</td>\n",
       "      <td>4190857</td>\n",
       "      <td>Sedan</td>\n",
       "      <td>Sedan</td>\n",
       "      <td>NaN</td>\n",
       "      <td>NaN</td>\n",
       "      <td>NaN</td>\n",
       "    </tr>\n",
       "  </tbody>\n",
       "</table>\n",
       "<p>5 rows × 29 columns</p>\n",
       "</div>"
      ],
      "text/plain": [
       "         CRASH DATE CRASH TIME    BOROUGH ZIP CODE   LATITUDE  LONGITUDE  \\\n",
       "498898   01/17/2019       8:40   BROOKLYN  11222.0  40.719010  -73.95019   \n",
       "1060163  08/13/2016      21:30        NaN      NaN        NaN        NaN   \n",
       "50645    01/13/2022      18:53        NaN      NaN  40.677834  -73.88509   \n",
       "723702   01/06/2018      17:00  MANHATTAN  10027.0  40.811066  -73.95053   \n",
       "379819   08/17/2019      23:50     QUEENS  11373.0  40.736057  -73.87941   \n",
       "\n",
       "                       LOCATION                    ON STREET NAME  \\\n",
       "498898    (40.71901, -73.95019)  BAYARD STREET                      \n",
       "1060163                     NaN  BRONX RIVER PARKWAY                \n",
       "50645    (40.677834, -73.88509)                   ATLANTIC AVENUE   \n",
       "723702   (40.811066, -73.95053)                               NaN   \n",
       "379819   (40.736057, -73.87941)                               NaN   \n",
       "\n",
       "        CROSS STREET NAME                           OFF STREET NAME  ...  \\\n",
       "498898     LORIMER STREET                                       NaN  ...   \n",
       "1060163               NaN                                       NaN  ...   \n",
       "50645    CLEVELAND STREET                                       NaN  ...   \n",
       "723702                NaN  2355      8 AVENUE                        ...   \n",
       "379819                NaN  86-35     GRAND AVENUE                    ...   \n",
       "\n",
       "         CONTRIBUTING FACTOR VEHICLE 2  CONTRIBUTING FACTOR VEHICLE 3  \\\n",
       "498898                             NaN                            NaN   \n",
       "1060163                            NaN                            NaN   \n",
       "50645                              NaN                            NaN   \n",
       "723702                             NaN                            NaN   \n",
       "379819                             NaN                            NaN   \n",
       "\n",
       "         CONTRIBUTING FACTOR VEHICLE 4  CONTRIBUTING FACTOR VEHICLE 5  \\\n",
       "498898                             NaN                            NaN   \n",
       "1060163                            NaN                            NaN   \n",
       "50645                              NaN                            NaN   \n",
       "723702                             NaN                            NaN   \n",
       "379819                             NaN                            NaN   \n",
       "\n",
       "         COLLISION_ID                  VEHICLE TYPE CODE 1  \\\n",
       "498898        4056463  Station Wagon/Sport Utility Vehicle   \n",
       "1060163       3500146  Station Wagon/Sport Utility Vehicle   \n",
       "50645         4494395  Station Wagon/Sport Utility Vehicle   \n",
       "723702        3824856                                 Taxi   \n",
       "379819        4190857                                Sedan   \n",
       "\n",
       "         VEHICLE TYPE CODE 2                  VEHICLE TYPE CODE 3  \\\n",
       "498898                   NaN                                  NaN   \n",
       "1060163                Sedan  Station Wagon/Sport Utility Vehicle   \n",
       "50645                  Sedan                                  NaN   \n",
       "723702                   NaN                                  NaN   \n",
       "379819                 Sedan                                  NaN   \n",
       "\n",
       "        VEHICLE TYPE CODE 4 VEHICLE TYPE CODE 5  \n",
       "498898                  NaN                 NaN  \n",
       "1060163                 NaN                 NaN  \n",
       "50645                   NaN                 NaN  \n",
       "723702                  NaN                 NaN  \n",
       "379819                  NaN                 NaN  \n",
       "\n",
       "[5 rows x 29 columns]"
      ]
     },
     "execution_count": 3,
     "metadata": {},
     "output_type": "execute_result"
    }
   ],
   "source": [
    "df_sample.head()"
   ]
  },
  {
   "cell_type": "code",
   "execution_count": 4,
   "metadata": {},
   "outputs": [
    {
     "name": "stdout",
     "output_type": "stream",
     "text": [
      "<class 'pandas.core.frame.DataFrame'>\n",
      "Index: 41576 entries, 498898 to 2068286\n",
      "Data columns (total 29 columns):\n",
      " #   Column                         Non-Null Count  Dtype  \n",
      "---  ------                         --------------  -----  \n",
      " 0   CRASH DATE                     41576 non-null  object \n",
      " 1   CRASH TIME                     41576 non-null  object \n",
      " 2   BOROUGH                        28591 non-null  object \n",
      " 3   ZIP CODE                       28586 non-null  object \n",
      " 4   LATITUDE                       36802 non-null  float64\n",
      " 5   LONGITUDE                      36802 non-null  float64\n",
      " 6   LOCATION                       36721 non-null  object \n",
      " 7   ON STREET NAME                 32762 non-null  object \n",
      " 8   CROSS STREET NAME              25866 non-null  object \n",
      " 9   OFF STREET NAME                6978 non-null   object \n",
      " 10  NUMBER OF PERSONS INJURED      41576 non-null  float64\n",
      " 11  NUMBER OF PERSONS KILLED       41576 non-null  float64\n",
      " 12  NUMBER OF PEDESTRIANS INJURED  41576 non-null  int64  \n",
      " 13  NUMBER OF PEDESTRIANS KILLED   41576 non-null  int64  \n",
      " 14  NUMBER OF CYCLIST INJURED      41576 non-null  int64  \n",
      " 15  NUMBER OF CYCLIST KILLED       41576 non-null  int64  \n",
      " 16  NUMBER OF MOTORIST INJURED     41576 non-null  int64  \n",
      " 17  NUMBER OF MOTORIST KILLED      41576 non-null  int64  \n",
      " 18  CONTRIBUTING FACTOR VEHICLE 1  27194 non-null  object \n",
      " 19  CONTRIBUTING FACTOR VEHICLE 2  5469 non-null   object \n",
      " 20  CONTRIBUTING FACTOR VEHICLE 3  199 non-null    object \n",
      " 21  CONTRIBUTING FACTOR VEHICLE 4  31 non-null     object \n",
      " 22  CONTRIBUTING FACTOR VEHICLE 5  7 non-null      object \n",
      " 23  COLLISION_ID                   41576 non-null  int64  \n",
      " 24  VEHICLE TYPE CODE 1            40472 non-null  object \n",
      " 25  VEHICLE TYPE CODE 2            31653 non-null  object \n",
      " 26  VEHICLE TYPE CODE 3            2755 non-null   object \n",
      " 27  VEHICLE TYPE CODE 4            620 non-null    object \n",
      " 28  VEHICLE TYPE CODE 5            177 non-null    object \n",
      "dtypes: float64(4), int64(7), object(18)\n",
      "memory usage: 9.5+ MB\n"
     ]
    }
   ],
   "source": [
    "df_sample.info()"
   ]
  },
  {
   "cell_type": "code",
   "execution_count": 5,
   "metadata": {},
   "outputs": [
    {
     "data": {
      "text/plain": [
       "CRASH DATE                           0\n",
       "CRASH TIME                           0\n",
       "BOROUGH                          12985\n",
       "ZIP CODE                         12990\n",
       "LATITUDE                          4774\n",
       "LONGITUDE                         4774\n",
       "LOCATION                          4855\n",
       "ON STREET NAME                    8814\n",
       "CROSS STREET NAME                15710\n",
       "OFF STREET NAME                  34598\n",
       "NUMBER OF PERSONS INJURED            0\n",
       "NUMBER OF PERSONS KILLED             0\n",
       "NUMBER OF PEDESTRIANS INJURED        0\n",
       "NUMBER OF PEDESTRIANS KILLED         0\n",
       "NUMBER OF CYCLIST INJURED            0\n",
       "NUMBER OF CYCLIST KILLED             0\n",
       "NUMBER OF MOTORIST INJURED           0\n",
       "NUMBER OF MOTORIST KILLED            0\n",
       "CONTRIBUTING FACTOR VEHICLE 1    14382\n",
       "CONTRIBUTING FACTOR VEHICLE 2    36107\n",
       "CONTRIBUTING FACTOR VEHICLE 3    41377\n",
       "CONTRIBUTING FACTOR VEHICLE 4    41545\n",
       "CONTRIBUTING FACTOR VEHICLE 5    41569\n",
       "COLLISION_ID                         0\n",
       "VEHICLE TYPE CODE 1               1104\n",
       "VEHICLE TYPE CODE 2               9923\n",
       "VEHICLE TYPE CODE 3              38821\n",
       "VEHICLE TYPE CODE 4              40956\n",
       "VEHICLE TYPE CODE 5              41399\n",
       "dtype: int64"
      ]
     },
     "execution_count": 5,
     "metadata": {},
     "output_type": "execute_result"
    }
   ],
   "source": [
    "df_sample.isnull().sum()"
   ]
  },
  {
   "cell_type": "code",
   "execution_count": 6,
   "metadata": {},
   "outputs": [],
   "source": [
    "# defining the dataset ID\n",
    "df_sample.set_index('COLLISION_ID', inplace=True)"
   ]
  },
  {
   "cell_type": "markdown",
   "metadata": {},
   "source": [
    "Dropping columns that have more than 25% null values"
   ]
  },
  {
   "cell_type": "markdown",
   "metadata": {},
   "source": [
    "### Handling missing values and irrelevant data"
   ]
  },
  {
   "cell_type": "code",
   "execution_count": 7,
   "metadata": {},
   "outputs": [],
   "source": [
    "# dropping columns with more than 25% missing values\n",
    "threshold = len(df_sample) * 0.25\n",
    "df_sample.dropna(thresh=threshold, axis=1, inplace=True)"
   ]
  },
  {
   "cell_type": "code",
   "execution_count": 8,
   "metadata": {},
   "outputs": [
    {
     "data": {
      "text/plain": [
       "CRASH DATE                           0\n",
       "CRASH TIME                           0\n",
       "BOROUGH                          12985\n",
       "ZIP CODE                         12990\n",
       "LATITUDE                          4774\n",
       "LONGITUDE                         4774\n",
       "LOCATION                          4855\n",
       "ON STREET NAME                    8814\n",
       "CROSS STREET NAME                15710\n",
       "NUMBER OF PERSONS INJURED            0\n",
       "NUMBER OF PERSONS KILLED             0\n",
       "NUMBER OF PEDESTRIANS INJURED        0\n",
       "NUMBER OF PEDESTRIANS KILLED         0\n",
       "NUMBER OF CYCLIST INJURED            0\n",
       "NUMBER OF CYCLIST KILLED             0\n",
       "NUMBER OF MOTORIST INJURED           0\n",
       "NUMBER OF MOTORIST KILLED            0\n",
       "CONTRIBUTING FACTOR VEHICLE 1    14382\n",
       "VEHICLE TYPE CODE 1               1104\n",
       "VEHICLE TYPE CODE 2               9923\n",
       "dtype: int64"
      ]
     },
     "execution_count": 8,
     "metadata": {},
     "output_type": "execute_result"
    }
   ],
   "source": [
    "# dropping rows with missing values\n",
    "df_sample.isnull().sum()"
   ]
  },
  {
   "cell_type": "code",
   "execution_count": 9,
   "metadata": {},
   "outputs": [
    {
     "data": {
      "text/html": [
       "<div>\n",
       "<style scoped>\n",
       "    .dataframe tbody tr th:only-of-type {\n",
       "        vertical-align: middle;\n",
       "    }\n",
       "\n",
       "    .dataframe tbody tr th {\n",
       "        vertical-align: top;\n",
       "    }\n",
       "\n",
       "    .dataframe thead th {\n",
       "        text-align: right;\n",
       "    }\n",
       "</style>\n",
       "<table border=\"1\" class=\"dataframe\">\n",
       "  <thead>\n",
       "    <tr style=\"text-align: right;\">\n",
       "      <th></th>\n",
       "      <th>LATITUDE</th>\n",
       "      <th>LONGITUDE</th>\n",
       "      <th>NUMBER OF PERSONS INJURED</th>\n",
       "      <th>NUMBER OF PERSONS KILLED</th>\n",
       "      <th>NUMBER OF PEDESTRIANS INJURED</th>\n",
       "      <th>NUMBER OF PEDESTRIANS KILLED</th>\n",
       "      <th>NUMBER OF CYCLIST INJURED</th>\n",
       "      <th>NUMBER OF CYCLIST KILLED</th>\n",
       "      <th>NUMBER OF MOTORIST INJURED</th>\n",
       "      <th>NUMBER OF MOTORIST KILLED</th>\n",
       "    </tr>\n",
       "  </thead>\n",
       "  <tbody>\n",
       "    <tr>\n",
       "      <th>count</th>\n",
       "      <td>36802.000000</td>\n",
       "      <td>36802.000000</td>\n",
       "      <td>41576.000000</td>\n",
       "      <td>41576.000000</td>\n",
       "      <td>41576.000000</td>\n",
       "      <td>41576.000000</td>\n",
       "      <td>41576.000000</td>\n",
       "      <td>41576.000000</td>\n",
       "      <td>41576.000000</td>\n",
       "      <td>41576.000000</td>\n",
       "    </tr>\n",
       "    <tr>\n",
       "      <th>mean</th>\n",
       "      <td>40.634606</td>\n",
       "      <td>-73.771145</td>\n",
       "      <td>0.306475</td>\n",
       "      <td>0.001010</td>\n",
       "      <td>0.054839</td>\n",
       "      <td>0.000409</td>\n",
       "      <td>0.026794</td>\n",
       "      <td>0.000120</td>\n",
       "      <td>0.222027</td>\n",
       "      <td>0.000481</td>\n",
       "    </tr>\n",
       "    <tr>\n",
       "      <th>std</th>\n",
       "      <td>1.910141</td>\n",
       "      <td>3.711322</td>\n",
       "      <td>0.689355</td>\n",
       "      <td>0.031768</td>\n",
       "      <td>0.239611</td>\n",
       "      <td>0.020217</td>\n",
       "      <td>0.163261</td>\n",
       "      <td>0.010966</td>\n",
       "      <td>0.653874</td>\n",
       "      <td>0.021928</td>\n",
       "    </tr>\n",
       "    <tr>\n",
       "      <th>min</th>\n",
       "      <td>0.000000</td>\n",
       "      <td>-201.237060</td>\n",
       "      <td>0.000000</td>\n",
       "      <td>0.000000</td>\n",
       "      <td>0.000000</td>\n",
       "      <td>0.000000</td>\n",
       "      <td>0.000000</td>\n",
       "      <td>0.000000</td>\n",
       "      <td>0.000000</td>\n",
       "      <td>0.000000</td>\n",
       "    </tr>\n",
       "    <tr>\n",
       "      <th>25%</th>\n",
       "      <td>40.668270</td>\n",
       "      <td>-73.974674</td>\n",
       "      <td>0.000000</td>\n",
       "      <td>0.000000</td>\n",
       "      <td>0.000000</td>\n",
       "      <td>0.000000</td>\n",
       "      <td>0.000000</td>\n",
       "      <td>0.000000</td>\n",
       "      <td>0.000000</td>\n",
       "      <td>0.000000</td>\n",
       "    </tr>\n",
       "    <tr>\n",
       "      <th>50%</th>\n",
       "      <td>40.720923</td>\n",
       "      <td>-73.927395</td>\n",
       "      <td>0.000000</td>\n",
       "      <td>0.000000</td>\n",
       "      <td>0.000000</td>\n",
       "      <td>0.000000</td>\n",
       "      <td>0.000000</td>\n",
       "      <td>0.000000</td>\n",
       "      <td>0.000000</td>\n",
       "      <td>0.000000</td>\n",
       "    </tr>\n",
       "    <tr>\n",
       "      <th>75%</th>\n",
       "      <td>40.769432</td>\n",
       "      <td>-73.866912</td>\n",
       "      <td>0.000000</td>\n",
       "      <td>0.000000</td>\n",
       "      <td>0.000000</td>\n",
       "      <td>0.000000</td>\n",
       "      <td>0.000000</td>\n",
       "      <td>0.000000</td>\n",
       "      <td>0.000000</td>\n",
       "      <td>0.000000</td>\n",
       "    </tr>\n",
       "    <tr>\n",
       "      <th>max</th>\n",
       "      <td>43.344444</td>\n",
       "      <td>0.000000</td>\n",
       "      <td>12.000000</td>\n",
       "      <td>1.000000</td>\n",
       "      <td>5.000000</td>\n",
       "      <td>1.000000</td>\n",
       "      <td>2.000000</td>\n",
       "      <td>1.000000</td>\n",
       "      <td>14.000000</td>\n",
       "      <td>1.000000</td>\n",
       "    </tr>\n",
       "  </tbody>\n",
       "</table>\n",
       "</div>"
      ],
      "text/plain": [
       "           LATITUDE     LONGITUDE  NUMBER OF PERSONS INJURED  \\\n",
       "count  36802.000000  36802.000000               41576.000000   \n",
       "mean      40.634606    -73.771145                   0.306475   \n",
       "std        1.910141      3.711322                   0.689355   \n",
       "min        0.000000   -201.237060                   0.000000   \n",
       "25%       40.668270    -73.974674                   0.000000   \n",
       "50%       40.720923    -73.927395                   0.000000   \n",
       "75%       40.769432    -73.866912                   0.000000   \n",
       "max       43.344444      0.000000                  12.000000   \n",
       "\n",
       "       NUMBER OF PERSONS KILLED  NUMBER OF PEDESTRIANS INJURED  \\\n",
       "count              41576.000000                   41576.000000   \n",
       "mean                   0.001010                       0.054839   \n",
       "std                    0.031768                       0.239611   \n",
       "min                    0.000000                       0.000000   \n",
       "25%                    0.000000                       0.000000   \n",
       "50%                    0.000000                       0.000000   \n",
       "75%                    0.000000                       0.000000   \n",
       "max                    1.000000                       5.000000   \n",
       "\n",
       "       NUMBER OF PEDESTRIANS KILLED  NUMBER OF CYCLIST INJURED  \\\n",
       "count                  41576.000000               41576.000000   \n",
       "mean                       0.000409                   0.026794   \n",
       "std                        0.020217                   0.163261   \n",
       "min                        0.000000                   0.000000   \n",
       "25%                        0.000000                   0.000000   \n",
       "50%                        0.000000                   0.000000   \n",
       "75%                        0.000000                   0.000000   \n",
       "max                        1.000000                   2.000000   \n",
       "\n",
       "       NUMBER OF CYCLIST KILLED  NUMBER OF MOTORIST INJURED  \\\n",
       "count              41576.000000                41576.000000   \n",
       "mean                   0.000120                    0.222027   \n",
       "std                    0.010966                    0.653874   \n",
       "min                    0.000000                    0.000000   \n",
       "25%                    0.000000                    0.000000   \n",
       "50%                    0.000000                    0.000000   \n",
       "75%                    0.000000                    0.000000   \n",
       "max                    1.000000                   14.000000   \n",
       "\n",
       "       NUMBER OF MOTORIST KILLED  \n",
       "count               41576.000000  \n",
       "mean                    0.000481  \n",
       "std                     0.021928  \n",
       "min                     0.000000  \n",
       "25%                     0.000000  \n",
       "50%                     0.000000  \n",
       "75%                     0.000000  \n",
       "max                     1.000000  "
      ]
     },
     "execution_count": 9,
     "metadata": {},
     "output_type": "execute_result"
    }
   ],
   "source": [
    "# showing dispersion measures\n",
    "df_sample.describe()"
   ]
  },
  {
   "cell_type": "markdown",
   "metadata": {},
   "source": [
    "Deleting logical irrelevant columns"
   ]
  },
  {
   "cell_type": "code",
   "execution_count": 10,
   "metadata": {},
   "outputs": [],
   "source": [
    "# dropping irrelevant columns\n",
    "df_sample.drop([\n",
    "    'VEHICLE TYPE CODE 2',\n",
    "    'ZIP CODE',\n",
    "    'LATITUDE',\n",
    "    'LONGITUDE',\n",
    "    'LOCATION',\n",
    "    'NUMBER OF PERSONS INJURED',\n",
    "    'NUMBER OF PERSONS KILLED',\n",
    "    ], axis=1, inplace=True)"
   ]
  },
  {
   "cell_type": "markdown",
   "metadata": {},
   "source": [
    "Simplifying feature names"
   ]
  },
  {
   "cell_type": "code",
   "execution_count": 11,
   "metadata": {},
   "outputs": [],
   "source": [
    "# renaming columns\n",
    "df_sample.rename(columns={\n",
    "    'CRASH DATE': 'DATE',\n",
    "    'CRASH TIME': 'TIME',\n",
    "    'LATITUDE': 'LAT',\n",
    "    'LONGITUDE': 'LON',\n",
    "    'ON STREET NAME': 'ON_STREET',\n",
    "    'CROSS STREET NAME': 'CROSS_STREET',\n",
    "    'NUMBER OF PERSONS INJURED': 'INJURED',\n",
    "    'NUMBER OF PERSONS KILLED': 'KILLED',\n",
    "    'NUMBER OF PEDESTRIANS INJURED': 'PED_INJURED',\n",
    "    'NUMBER OF PEDESTRIANS KILLED': 'PED_KILLED',\n",
    "    'NUMBER OF CYCLIST INJURED': 'CY_INJURED',\n",
    "    'NUMBER OF CYCLIST KILLED': 'CY_KILLED',\n",
    "    'NUMBER OF MOTORIST INJURED': 'MOT_INJURED',\n",
    "    'NUMBER OF MOTORIST KILLED': 'MOT_KILLED',\n",
    "    'CONTRIBUTING FACTOR VEHICLE 1': 'FACTOR',\n",
    "    'CONTRIBUTING FACTOR VEHICLE 2': 'FACTOR2',\n",
    "    'VEHICLE TYPE CODE 1': 'VEHICLE'\n",
    "    }, inplace=True)"
   ]
  },
  {
   "cell_type": "markdown",
   "metadata": {},
   "source": [
    "#### Cleaning the target variable"
   ]
  },
  {
   "cell_type": "markdown",
   "metadata": {},
   "source": [
    "Dropping all rows with null in the target varible"
   ]
  },
  {
   "cell_type": "code",
   "execution_count": 12,
   "metadata": {},
   "outputs": [
    {
     "data": {
      "text/plain": [
       "DATE            object\n",
       "TIME            object\n",
       "BOROUGH         object\n",
       "ON_STREET       object\n",
       "CROSS_STREET    object\n",
       "PED_INJURED      int64\n",
       "PED_KILLED       int64\n",
       "CY_INJURED       int64\n",
       "CY_KILLED        int64\n",
       "MOT_INJURED      int64\n",
       "MOT_KILLED       int64\n",
       "FACTOR          object\n",
       "VEHICLE         object\n",
       "dtype: object"
      ]
     },
     "execution_count": 12,
     "metadata": {},
     "output_type": "execute_result"
    }
   ],
   "source": [
    "# Dropping rows with missing values in the 'VEHICLE' column\n",
    "df_sample.dropna(subset=['VEHICLE'], inplace=True)\n",
    "\n",
    "df_sample.dtypes"
   ]
  },
  {
   "cell_type": "code",
   "execution_count": 13,
   "metadata": {},
   "outputs": [],
   "source": [
    "df_sample['ON_STREET'] = df_sample['ON_STREET'].str.upper()\n",
    "df_sample['CROSS_STREET'] = df_sample['CROSS_STREET'].str.upper()\n",
    "df_sample['BOROUGH'] = df_sample['BOROUGH'].str.upper()\n",
    "df_sample['FACTOR'] = df_sample['FACTOR'].str.upper()"
   ]
  },
  {
   "cell_type": "markdown",
   "metadata": {},
   "source": [
    "Dropping low occurencies of categories in the target variable VEHICLE"
   ]
  },
  {
   "cell_type": "code",
   "execution_count": 14,
   "metadata": {},
   "outputs": [],
   "source": [
    "# converting VEHICLE column to uppercase\n",
    "df_sample['VEHICLE'] = df_sample['VEHICLE'].str.upper()"
   ]
  },
  {
   "cell_type": "code",
   "execution_count": 15,
   "metadata": {},
   "outputs": [],
   "source": [
    "# Dropping low occurrence values in the 'VEHICLE' column\n",
    "df_filtered = df_sample.groupby('VEHICLE').filter(lambda x: len(x) >= 10)\n"
   ]
  },
  {
   "cell_type": "code",
   "execution_count": 16,
   "metadata": {},
   "outputs": [
    {
     "data": {
      "text/plain": [
       "VEHICLE\n",
       "SEDAN                                  11287\n",
       "STATION WAGON/SPORT UTILITY VEHICLE     9151\n",
       "PASSENGER VEHICLE                       8350\n",
       "SPORT UTILITY / STATION WAGON           3550\n",
       "TAXI                                    1709\n",
       "PICK-UP TRUCK                            937\n",
       "4 DR SEDAN                               817\n",
       "VAN                                      731\n",
       "BUS                                      721\n",
       "BOX TRUCK                                512\n",
       "BIKE                                     307\n",
       "LARGE COM VEH(6 OR MORE TIRES)           304\n",
       "MOTORCYCLE                               274\n",
       "SMALL COM VEH(4 TIRES)                   264\n",
       "LIVERY VEHICLE                           213\n",
       "TRACTOR TRUCK DIESEL                     211\n",
       "AMBULANCE                                161\n",
       "DUMP                                      91\n",
       "CONVERTIBLE                               76\n",
       "E-BIKE                                    68\n",
       "2 DR SEDAN                                58\n",
       "FLAT BED                                  57\n",
       "GARBAGE OR REFUSE                         51\n",
       "PK                                        48\n",
       "CARRY ALL                                 47\n",
       "MOPED                                     45\n",
       "TRACTOR TRUCK GASOLINE                    41\n",
       "E-SCOOTER                                 38\n",
       "TOW TRUCK / WRECKER                       30\n",
       "FIRE TRUCK                                29\n",
       "CHASSIS CAB                               23\n",
       "MOTORBIKE                                 14\n",
       "TANKER                                    13\n",
       "AMBUL                                     12\n",
       "BICYCLE                                   12\n",
       "MOTORSCOOTER                              11\n",
       "SCHOOL BUS                                10\n",
       "Name: count, dtype: int64"
      ]
     },
     "execution_count": 16,
     "metadata": {},
     "output_type": "execute_result"
    }
   ],
   "source": [
    "# Showing the most frequent values in the 'VEHICLE' column\n",
    "df_filtered['VEHICLE'].value_counts()"
   ]
  },
  {
   "cell_type": "markdown",
   "metadata": {},
   "source": [
    "Finding and excluding outliers"
   ]
  },
  {
   "cell_type": "code",
   "execution_count": 17,
   "metadata": {},
   "outputs": [
    {
     "data": {
      "text/html": [
       "<div>\n",
       "<style scoped>\n",
       "    .dataframe tbody tr th:only-of-type {\n",
       "        vertical-align: middle;\n",
       "    }\n",
       "\n",
       "    .dataframe tbody tr th {\n",
       "        vertical-align: top;\n",
       "    }\n",
       "\n",
       "    .dataframe thead th {\n",
       "        text-align: right;\n",
       "    }\n",
       "</style>\n",
       "<table border=\"1\" class=\"dataframe\">\n",
       "  <thead>\n",
       "    <tr style=\"text-align: right;\">\n",
       "      <th></th>\n",
       "      <th>PED_INJURED</th>\n",
       "      <th>PED_KILLED</th>\n",
       "      <th>CY_INJURED</th>\n",
       "      <th>CY_KILLED</th>\n",
       "      <th>MOT_INJURED</th>\n",
       "      <th>MOT_KILLED</th>\n",
       "    </tr>\n",
       "  </thead>\n",
       "  <tbody>\n",
       "    <tr>\n",
       "      <th>count</th>\n",
       "      <td>40273.000000</td>\n",
       "      <td>40273.000000</td>\n",
       "      <td>40273.000000</td>\n",
       "      <td>40273.000000</td>\n",
       "      <td>40273.000000</td>\n",
       "      <td>40273.000000</td>\n",
       "    </tr>\n",
       "    <tr>\n",
       "      <th>mean</th>\n",
       "      <td>0.050257</td>\n",
       "      <td>0.000397</td>\n",
       "      <td>0.026767</td>\n",
       "      <td>0.000124</td>\n",
       "      <td>0.225511</td>\n",
       "      <td>0.000497</td>\n",
       "    </tr>\n",
       "    <tr>\n",
       "      <th>std</th>\n",
       "      <td>0.230749</td>\n",
       "      <td>0.019928</td>\n",
       "      <td>0.163088</td>\n",
       "      <td>0.011142</td>\n",
       "      <td>0.658671</td>\n",
       "      <td>0.022280</td>\n",
       "    </tr>\n",
       "    <tr>\n",
       "      <th>min</th>\n",
       "      <td>0.000000</td>\n",
       "      <td>0.000000</td>\n",
       "      <td>0.000000</td>\n",
       "      <td>0.000000</td>\n",
       "      <td>0.000000</td>\n",
       "      <td>0.000000</td>\n",
       "    </tr>\n",
       "    <tr>\n",
       "      <th>25%</th>\n",
       "      <td>0.000000</td>\n",
       "      <td>0.000000</td>\n",
       "      <td>0.000000</td>\n",
       "      <td>0.000000</td>\n",
       "      <td>0.000000</td>\n",
       "      <td>0.000000</td>\n",
       "    </tr>\n",
       "    <tr>\n",
       "      <th>50%</th>\n",
       "      <td>0.000000</td>\n",
       "      <td>0.000000</td>\n",
       "      <td>0.000000</td>\n",
       "      <td>0.000000</td>\n",
       "      <td>0.000000</td>\n",
       "      <td>0.000000</td>\n",
       "    </tr>\n",
       "    <tr>\n",
       "      <th>75%</th>\n",
       "      <td>0.000000</td>\n",
       "      <td>0.000000</td>\n",
       "      <td>0.000000</td>\n",
       "      <td>0.000000</td>\n",
       "      <td>0.000000</td>\n",
       "      <td>0.000000</td>\n",
       "    </tr>\n",
       "    <tr>\n",
       "      <th>max</th>\n",
       "      <td>5.000000</td>\n",
       "      <td>1.000000</td>\n",
       "      <td>2.000000</td>\n",
       "      <td>1.000000</td>\n",
       "      <td>14.000000</td>\n",
       "      <td>1.000000</td>\n",
       "    </tr>\n",
       "  </tbody>\n",
       "</table>\n",
       "</div>"
      ],
      "text/plain": [
       "        PED_INJURED    PED_KILLED    CY_INJURED     CY_KILLED   MOT_INJURED  \\\n",
       "count  40273.000000  40273.000000  40273.000000  40273.000000  40273.000000   \n",
       "mean       0.050257      0.000397      0.026767      0.000124      0.225511   \n",
       "std        0.230749      0.019928      0.163088      0.011142      0.658671   \n",
       "min        0.000000      0.000000      0.000000      0.000000      0.000000   \n",
       "25%        0.000000      0.000000      0.000000      0.000000      0.000000   \n",
       "50%        0.000000      0.000000      0.000000      0.000000      0.000000   \n",
       "75%        0.000000      0.000000      0.000000      0.000000      0.000000   \n",
       "max        5.000000      1.000000      2.000000      1.000000     14.000000   \n",
       "\n",
       "         MOT_KILLED  \n",
       "count  40273.000000  \n",
       "mean       0.000497  \n",
       "std        0.022280  \n",
       "min        0.000000  \n",
       "25%        0.000000  \n",
       "50%        0.000000  \n",
       "75%        0.000000  \n",
       "max        1.000000  "
      ]
     },
     "execution_count": 17,
     "metadata": {},
     "output_type": "execute_result"
    }
   ],
   "source": [
    "# Showing \n",
    "df_filtered.describe()"
   ]
  },
  {
   "cell_type": "code",
   "execution_count": 18,
   "metadata": {},
   "outputs": [
    {
     "data": {
      "image/png": "[encoded data removed]",
      "text/plain": [
       "<Figure size 1500x800 with 8 Axes>"
      ]
     },
     "metadata": {},
     "output_type": "display_data"
    }
   ],
   "source": [
    "numerical_columns = df_filtered.select_dtypes(include='number').columns.tolist()\n",
    "\n",
    "img, axs = plt.subplots(2, 4, figsize=(15, 8))\n",
    "\n",
    "for i, column in enumerate(numerical_columns):\n",
    "    sns.boxplot(x=df_filtered[column], ax=axs[i//4, i%4])\n",
    "\n",
    "plt.show()"
   ]
  },
  {
   "cell_type": "markdown",
   "metadata": {},
   "source": [
    "#### Filling missing values with their mode and mean for categorical and numerical values respectively"
   ]
  },
  {
   "cell_type": "code",
   "execution_count": 19,
   "metadata": {},
   "outputs": [],
   "source": [
    "# filling all categorical missing values with their mode\n",
    "categorical_columns = df_filtered.select_dtypes(include='object').columns.tolist()\n",
    "\n",
    "for column in categorical_columns:\n",
    "    df_filtered[column] = df_filtered[column].str.strip()\n",
    "    df_filtered.fillna({column: df_filtered[column].mode()[0]}, inplace=True)\n",
    "\n",
    "# filling numberical missing values with its mean\n",
    "numerical_columns = df_filtered.select_dtypes(include='number').columns.tolist()\n",
    "\n",
    "for column in numerical_columns:\n",
    "    df_filtered.fillna({column: df_filtered[column].mean()}, inplace=True)\n"
   ]
  },
  {
   "cell_type": "code",
   "execution_count": 20,
   "metadata": {},
   "outputs": [
    {
     "data": {
      "text/plain": [
       "DATE            0\n",
       "TIME            0\n",
       "BOROUGH         0\n",
       "ON_STREET       0\n",
       "CROSS_STREET    0\n",
       "PED_INJURED     0\n",
       "PED_KILLED      0\n",
       "CY_INJURED      0\n",
       "CY_KILLED       0\n",
       "MOT_INJURED     0\n",
       "MOT_KILLED      0\n",
       "FACTOR          0\n",
       "VEHICLE         0\n",
       "dtype: int64"
      ]
     },
     "execution_count": 20,
     "metadata": {},
     "output_type": "execute_result"
    }
   ],
   "source": [
    "df_filtered.isnull().sum()"
   ]
  },
  {
   "cell_type": "markdown",
   "metadata": {},
   "source": [
    "### Parsing categorical colums to numeric representation\n",
    "\n",
    "Based on that most of the categorical columns have many categories One-Hot enconding is not suitable therefore Label Encoding would be a better solution"
   ]
  },
  {
   "cell_type": "code",
   "execution_count": 21,
   "metadata": {},
   "outputs": [
    {
     "data": {
      "text/plain": [
       "DATE            object\n",
       "TIME            object\n",
       "BOROUGH         object\n",
       "ON_STREET       object\n",
       "CROSS_STREET    object\n",
       "PED_INJURED      int64\n",
       "PED_KILLED       int64\n",
       "CY_INJURED       int64\n",
       "CY_KILLED        int64\n",
       "MOT_INJURED      int64\n",
       "MOT_KILLED       int64\n",
       "FACTOR          object\n",
       "VEHICLE         object\n",
       "dtype: object"
      ]
     },
     "execution_count": 21,
     "metadata": {},
     "output_type": "execute_result"
    }
   ],
   "source": [
    "df_filtered.dtypes"
   ]
  },
  {
   "cell_type": "code",
   "execution_count": 22,
   "metadata": {},
   "outputs": [],
   "source": [
    "from sklearn.preprocessing import LabelEncoder\n",
    "# creating a label encoder\n",
    "label_encoder = LabelEncoder()\n",
    "# categorical columns that have to be encoded\n",
    "categorical_columns = df_filtered[['BOROUGH', 'ON_STREET', 'CROSS_STREET', 'FACTOR', 'VEHICLE']].columns.tolist()\n",
    "# encoding categorical columns\n",
    "for column in categorical_columns:\n",
    "    df_filtered[column] = label_encoder.fit_transform(df_filtered[column])\n"
   ]
  },
  {
   "cell_type": "markdown",
   "metadata": {},
   "source": [
    "Creating new column with month and time instead of date and time"
   ]
  },
  {
   "cell_type": "code",
   "execution_count": 23,
   "metadata": {},
   "outputs": [],
   "source": [
    "# taking only month and time in hours from the 'DATE' and 'TIME' columns\n",
    "df_filtered['MONTH'] = df_filtered['DATE'].apply(lambda x: int(x.split('/')[0]))\n",
    "df_filtered['TIME'] = df_filtered['TIME'].apply(lambda x: float(x.replace(':', '.')))\n",
    "\n",
    "df_filtered.drop('DATE', axis=1, inplace=True)\n"
   ]
  },
  {
   "cell_type": "code",
   "execution_count": 24,
   "metadata": {},
   "outputs": [
    {
     "data": {
      "text/html": [
       "<div>\n",
       "<style scoped>\n",
       "    .dataframe tbody tr th:only-of-type {\n",
       "        vertical-align: middle;\n",
       "    }\n",
       "\n",
       "    .dataframe tbody tr th {\n",
       "        vertical-align: top;\n",
       "    }\n",
       "\n",
       "    .dataframe thead th {\n",
       "        text-align: right;\n",
       "    }\n",
       "</style>\n",
       "<table border=\"1\" class=\"dataframe\">\n",
       "  <thead>\n",
       "    <tr style=\"text-align: right;\">\n",
       "      <th></th>\n",
       "      <th>MONTH</th>\n",
       "      <th>TIME</th>\n",
       "    </tr>\n",
       "    <tr>\n",
       "      <th>COLLISION_ID</th>\n",
       "      <th></th>\n",
       "      <th></th>\n",
       "    </tr>\n",
       "  </thead>\n",
       "  <tbody>\n",
       "    <tr>\n",
       "      <th>4056463</th>\n",
       "      <td>1</td>\n",
       "      <td>8.40</td>\n",
       "    </tr>\n",
       "    <tr>\n",
       "      <th>3500146</th>\n",
       "      <td>8</td>\n",
       "      <td>21.30</td>\n",
       "    </tr>\n",
       "    <tr>\n",
       "      <th>4494395</th>\n",
       "      <td>1</td>\n",
       "      <td>18.53</td>\n",
       "    </tr>\n",
       "    <tr>\n",
       "      <th>3824856</th>\n",
       "      <td>1</td>\n",
       "      <td>17.00</td>\n",
       "    </tr>\n",
       "    <tr>\n",
       "      <th>4190857</th>\n",
       "      <td>8</td>\n",
       "      <td>23.50</td>\n",
       "    </tr>\n",
       "  </tbody>\n",
       "</table>\n",
       "</div>"
      ],
      "text/plain": [
       "              MONTH   TIME\n",
       "COLLISION_ID              \n",
       "4056463           1   8.40\n",
       "3500146           8  21.30\n",
       "4494395           1  18.53\n",
       "3824856           1  17.00\n",
       "4190857           8  23.50"
      ]
     },
     "execution_count": 24,
     "metadata": {},
     "output_type": "execute_result"
    }
   ],
   "source": [
    "df_filtered[['MONTH', 'TIME']].head()"
   ]
  },
  {
   "cell_type": "markdown",
   "metadata": {},
   "source": [
    "## Training and model selection"
   ]
  },
  {
   "cell_type": "markdown",
   "metadata": {},
   "source": [
    "### Data spliting and target variable balancing using SMOTE"
   ]
  },
  {
   "cell_type": "code",
   "execution_count": 25,
   "metadata": {},
   "outputs": [],
   "source": [
    "from sklearn.model_selection import train_test_split, cross_val_score\n",
    "\n",
    "X = df_filtered.drop('VEHICLE', axis=1)\n",
    "y = df_filtered['VEHICLE']"
   ]
  },
  {
   "cell_type": "code",
   "execution_count": 26,
   "metadata": {},
   "outputs": [
    {
     "name": "stdout",
     "output_type": "stream",
     "text": [
      "DTC max score: 0.2515836171734386\n",
      "DTC max split: 25\n",
      "KNN max score: 0.27076226324263564\n",
      "KNN max split: 25\n"
     ]
    }
   ],
   "source": [
    "from sklearn.neighbors import KNeighborsClassifier\n",
    "from sklearn.tree import DecisionTreeClassifier\n",
    "from sklearn import preprocessing\n",
    "\n",
    "X = preprocessing.scale(X)\n",
    "\n",
    "splits = [20, 25]\n",
    "scores = { 'kscores': [], 'dscores': [] }\n",
    "\n",
    "for split in splits:\n",
    "    X_train, x_test, y_train, y_test = train_test_split(X, y, test_size=20)\n",
    "\n",
    "    kmodel = KNeighborsClassifier()\n",
    "    dmodel = DecisionTreeClassifier()\n",
    "\n",
    "    kscore = cross_val_score(kmodel, X_train, y_train, cv=5, scoring='accuracy').mean()\n",
    "    dscore = cross_val_score(dmodel, X_train, y_train, cv=5, scoring='accuracy').mean()\n",
    "\n",
    "    scores['kscores'].append(kscore)\n",
    "    scores['dscores'].append(dscore)\n",
    "\n",
    "d_max_score = np.max([score for score in scores['dscores']])\n",
    "d_max_split = splits[np.argmax([score for score in scores['dscores']])]\n",
    "\n",
    "print(f\"DTC max score: {d_max_score}\")\n",
    "print(f\"DTC max split: {d_max_split}\")\n",
    "\n",
    "k_max_score = np.max([score for score in scores['kscores']])\n",
    "k_max_split = splits[np.argmax([score for score in scores['kscores']])]\n",
    "\n",
    "print(f\"KNN max score: {k_max_score}\")\n",
    "print(f\"KNN max split: {k_max_split}\")"
   ]
  },
  {
   "cell_type": "markdown",
   "metadata": {},
   "source": [
    "\n",
    "Finding the best hyperprameters for DecisionTreeClassifier"
   ]
  },
  {
   "cell_type": "code",
   "execution_count": 28,
   "metadata": {},
   "outputs": [
    {
     "name": "stdout",
     "output_type": "stream",
     "text": [
      "Best hyper parameter:  {'max_depth': 10, 'min_samples_leaf': 4, 'min_samples_split': 10}\n",
      "Best score: 0.34920995856898235\n"
     ]
    }
   ],
   "source": [
    "from sklearn.model_selection import GridSearchCV\n",
    "\n",
    "# applying the best testing split founded above\n",
    "X_train, X_test, y_train, y_test = train_test_split(X, y, test_size=d_max_split)\n",
    "\n",
    "# Define the parameter grid\n",
    "param_grid = {\n",
    "    'max_depth': [5, 10, 15],\n",
    "    'min_samples_split': [2, 5, 10],\n",
    "    'min_samples_leaf': [1, 2, 4]\n",
    "}\n",
    "\n",
    "dt = DecisionTreeClassifier()\n",
    "\n",
    "grid_search_dt = GridSearchCV(dt, param_grid, cv=5)\n",
    "\n",
    "# Fit the grid search to the data\n",
    "grid_search_dt.fit(X_train, y_train)\n",
    "\n",
    "# Get the best hyperparameters\n",
    "d_best_params = grid_search_dt.best_params_\n",
    "best_score = grid_search_dt.best_score_\n",
    "\n",
    "print(\"Best hyper parameter: \", d_best_params)\n",
    "print(\"Best score:\", best_score)\n"
   ]
  },
  {
   "cell_type": "markdown",
   "metadata": {},
   "source": [
    "Finding the best hyperparamenters for KNN"
   ]
  },
  {
   "cell_type": "code",
   "execution_count": 29,
   "metadata": {},
   "outputs": [
    {
     "name": "stdout",
     "output_type": "stream",
     "text": [
      "Best Hyperparameters: {'algorithm': 'auto', 'n_neighbors': 7, 'weights': 'uniform'}\n",
      "Best Score: 0.2842627447258214\n"
     ]
    }
   ],
   "source": [
    "from sklearn.neighbors import KNeighborsClassifier\n",
    "\n",
    "# applying the best split founded in above cell\n",
    "X_train, X_test, y_train, y_test = train_test_split(X, y, test_size=k_max_split)\n",
    "\n",
    "# Define the parameter grid\n",
    "param_grid = {\n",
    "    'n_neighbors': [3, 5, 7],\n",
    "    'weights': ['uniform', 'distance'],\n",
    "    'algorithm': ['auto', 'ball_tree', 'kd_tree', 'brute']\n",
    "}\n",
    "\n",
    "# Create the KNN classifier\n",
    "knn = KNeighborsClassifier()\n",
    "\n",
    "# Create the GridSearchCV object\n",
    "grid_search = GridSearchCV(knn, param_grid, cv=5)\n",
    "\n",
    "# Fit the data to find the best hyperparameters\n",
    "grid_search.fit(X_train, y_train)\n",
    "\n",
    "# Get the best hyperparameters and the corresponding score\n",
    "k_best_params = grid_search.best_params_\n",
    "best_score = grid_search.best_score_\n",
    "\n",
    "print(\"Best Hyperparameters:\", k_best_params)\n",
    "print(\"Best Score:\", best_score)\n"
   ]
  },
  {
   "cell_type": "markdown",
   "metadata": {},
   "source": [
    "Showing the testing accuracy and plotting it on a confusion matrix"
   ]
  },
  {
   "cell_type": "code",
   "execution_count": 34,
   "metadata": {},
   "outputs": [
    {
     "name": "stdout",
     "output_type": "stream",
     "text": [
      "KNN test score: 0.36\n",
      "DTC test score: 0.32\n"
     ]
    }
   ],
   "source": [
    "from sklearn.metrics import accuracy_score\n",
    "\n",
    "knn = KNeighborsClassifier(**k_best_params)\n",
    "dt = DecisionTreeClassifier(**d_best_params)\n",
    "\n",
    "knn.fit(X_train, y_train)\n",
    "dt.fit(X_train, y_train)\n",
    "\n",
    "k_y_pred = knn.predict(X_test)\n",
    "d_y_pred = dt.predict(X_test)\n",
    "\n",
    "k_acc = accuracy_score(y_test, k_y_pred)\n",
    "d_acc = accuracy_score(y_test, d_y_pred)\n",
    "\n",
    "print(f\"KNN test score: {k_acc}\\nDTC test score: {d_acc}\")\n"
   ]
  },
  {
   "cell_type": "code",
   "execution_count": 126,
   "metadata": {},
   "outputs": [
    {
     "data": {
      "image/png": "[encoded data removed]",
      "text/plain": [
       "<Figure size 640x480 with 2 Axes>"
      ]
     },
     "metadata": {},
     "output_type": "display_data"
    },
    {
     "data": {
      "image/png": "[encoded data removed]",
      "text/plain": [
       "<Figure size 640x480 with 2 Axes>"
      ]
     },
     "metadata": {},
     "output_type": "display_data"
    }
   ],
   "source": [
    "from sklearn.metrics import confusion_matrix, classification_report\n",
    "\n",
    "kcm = confusion_matrix(y_test, k_y_pred)\n",
    "dcm = confusion_matrix(y_test, d_y_pred)\n",
    "\n",
    "kreport = classification_report(y_test, k_y_pred, output_dict=True)\n",
    "dreport = classification_report(y_test, d_y_pred, output_dict=True)\n",
    "\n",
    "kenlabels = [int(label) for label in list(kreport.keys()) if label.isdigit()]\n",
    "labels = label_encoder.inverse_transform(kenlabels)\n",
    "\n",
    "sns.heatmap(kcm, annot=True, fmt='d', yticklabels=labels, xticklabels=labels)\n",
    "plt.title('KNN Confusion Matrix')\n",
    "plt.xlabel('Predicted')\n",
    "plt.ylabel('Actual')\n",
    "plt.show()\n",
    "\n",
    "denlabels = [int(label) for label in list(dreport.keys()) if label.isdigit()]\n",
    "labels = label_encoder.inverse_transform(denlabels)\n",
    "\n",
    "sns.heatmap(dcm, annot=True, fmt='d', yticklabels=labels, xticklabels=labels)\n",
    "plt.title('DTC Confusion Matrix')\n",
    "plt.xlabel('Predicted')\n",
    "plt.ylabel('Actual')\n",
    "plt.show()"
   ]
  },
  {
   "cell_type": "markdown",
   "metadata": {},
   "source": [
    "## References\n",
    "\n",
    "- https://www.analyticsvidhya.com/blog/2021/04/how-to-handle-missing-values-of-categorical-variables/\n",
    "- https://www.linkedin.com/pulse/title-label-encoding-one-hot-data-preprocessing-shivani-singh\n",
    "- https://www.linkedin.com/pulse/top-6-machine-learning-algorithms-classification-jagrat-patel/"
   ]
  }
 ],
 "metadata": {
  "kernelspec": {
   "display_name": "Python 3 (ipykernel)",
   "language": "python",
   "name": "python3"
  },
  "language_info": {
   "codemirror_mode": {
    "name": "ipython",
    "version": 3
   },
   "file_extension": ".py",
   "mimetype": "text/x-python",
   "name": "python",
   "nbconvert_exporter": "python",
   "pygments_lexer": "ipython3",
   "version": "3.11.5"
  }
 },
 "nbformat": 4,
 "nbformat_minor": 4
}
