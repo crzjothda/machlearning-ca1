{
 "cells": [
  {
   "cell_type": "code",
   "execution_count": 128,
   "metadata": {},
   "outputs": [],
   "source": [
    "import pandas as pd\n",
    "import numpy as np\n",
    "import matplotlib.pyplot as plt\n",
    "import seaborn as sns\n",
    "import warnings\n",
    "warnings.filterwarnings('ignore')"
   ]
  },
  {
   "cell_type": "code",
   "execution_count": 129,
   "metadata": {},
   "outputs": [],
   "source": [
    "na_values = ['UNKNOWN', 'unknown', 'Unknown', 'Unknown ve', '(0.0, 0.0)', 'Unspecified', 'OTHER', 'other']\n",
    "\n",
    "df = pd.read_csv('crashes.csv', na_values=na_values)\n",
    "df_sample = df.sample(frac=.2)"
   ]
  },
  {
   "cell_type": "markdown",
   "metadata": {},
   "source": [
    "## Data exploration"
   ]
  },
  {
   "cell_type": "code",
   "execution_count": 130,
   "metadata": {},
   "outputs": [
    {
     "data": {
      "text/html": [
       "<div>\n",
       "<style scoped>\n",
       "    .dataframe tbody tr th:only-of-type {\n",
       "        vertical-align: middle;\n",
       "    }\n",
       "\n",
       "    .dataframe tbody tr th {\n",
       "        vertical-align: top;\n",
       "    }\n",
       "\n",
       "    .dataframe thead th {\n",
       "        text-align: right;\n",
       "    }\n",
       "</style>\n",
       "<table border=\"1\" class=\"dataframe\">\n",
       "  <thead>\n",
       "    <tr style=\"text-align: right;\">\n",
       "      <th></th>\n",
       "      <th>CRASH DATE</th>\n",
       "      <th>CRASH TIME</th>\n",
       "      <th>BOROUGH</th>\n",
       "      <th>ZIP CODE</th>\n",
       "      <th>LATITUDE</th>\n",
       "      <th>LONGITUDE</th>\n",
       "      <th>LOCATION</th>\n",
       "      <th>ON STREET NAME</th>\n",
       "      <th>CROSS STREET NAME</th>\n",
       "      <th>OFF STREET NAME</th>\n",
       "      <th>...</th>\n",
       "      <th>CONTRIBUTING FACTOR VEHICLE 2</th>\n",
       "      <th>CONTRIBUTING FACTOR VEHICLE 3</th>\n",
       "      <th>CONTRIBUTING FACTOR VEHICLE 4</th>\n",
       "      <th>CONTRIBUTING FACTOR VEHICLE 5</th>\n",
       "      <th>COLLISION_ID</th>\n",
       "      <th>VEHICLE TYPE CODE 1</th>\n",
       "      <th>VEHICLE TYPE CODE 2</th>\n",
       "      <th>VEHICLE TYPE CODE 3</th>\n",
       "      <th>VEHICLE TYPE CODE 4</th>\n",
       "      <th>VEHICLE TYPE CODE 5</th>\n",
       "    </tr>\n",
       "  </thead>\n",
       "  <tbody>\n",
       "    <tr>\n",
       "      <th>421935</th>\n",
       "      <td>05/08/2019</td>\n",
       "      <td>18:56</td>\n",
       "      <td>BROOKLYN</td>\n",
       "      <td>11235.0</td>\n",
       "      <td>NaN</td>\n",
       "      <td>NaN</td>\n",
       "      <td>NaN</td>\n",
       "      <td>NaN</td>\n",
       "      <td>NaN</td>\n",
       "      <td>55        Brighton 11th street</td>\n",
       "      <td>...</td>\n",
       "      <td>NaN</td>\n",
       "      <td>NaN</td>\n",
       "      <td>NaN</td>\n",
       "      <td>NaN</td>\n",
       "      <td>4128274</td>\n",
       "      <td>Sedan</td>\n",
       "      <td>NaN</td>\n",
       "      <td>NaN</td>\n",
       "      <td>NaN</td>\n",
       "      <td>NaN</td>\n",
       "    </tr>\n",
       "    <tr>\n",
       "      <th>708214</th>\n",
       "      <td>02/07/2018</td>\n",
       "      <td>12:30</td>\n",
       "      <td>NaN</td>\n",
       "      <td>NaN</td>\n",
       "      <td>40.759617</td>\n",
       "      <td>-73.961975</td>\n",
       "      <td>(40.759617, -73.961975)</td>\n",
       "      <td>1 AVENUE</td>\n",
       "      <td>NaN</td>\n",
       "      <td>NaN</td>\n",
       "      <td>...</td>\n",
       "      <td>NaN</td>\n",
       "      <td>NaN</td>\n",
       "      <td>NaN</td>\n",
       "      <td>NaN</td>\n",
       "      <td>3842105</td>\n",
       "      <td>Bike</td>\n",
       "      <td>NaN</td>\n",
       "      <td>NaN</td>\n",
       "      <td>NaN</td>\n",
       "      <td>NaN</td>\n",
       "    </tr>\n",
       "    <tr>\n",
       "      <th>1527581</th>\n",
       "      <td>06/27/2014</td>\n",
       "      <td>19:20</td>\n",
       "      <td>BROOKLYN</td>\n",
       "      <td>11211</td>\n",
       "      <td>40.714539</td>\n",
       "      <td>-73.951703</td>\n",
       "      <td>(40.7145389, -73.9517027)</td>\n",
       "      <td>UNION AVENUE</td>\n",
       "      <td>CONSELYEA STREET</td>\n",
       "      <td>NaN</td>\n",
       "      <td>...</td>\n",
       "      <td>Lost Consciousness</td>\n",
       "      <td>NaN</td>\n",
       "      <td>NaN</td>\n",
       "      <td>NaN</td>\n",
       "      <td>359311</td>\n",
       "      <td>PASSENGER VEHICLE</td>\n",
       "      <td>BICYCLE</td>\n",
       "      <td>NaN</td>\n",
       "      <td>NaN</td>\n",
       "      <td>NaN</td>\n",
       "    </tr>\n",
       "    <tr>\n",
       "      <th>1682500</th>\n",
       "      <td>09/23/2013</td>\n",
       "      <td>10:23</td>\n",
       "      <td>BROOKLYN</td>\n",
       "      <td>11222</td>\n",
       "      <td>40.730064</td>\n",
       "      <td>-73.947427</td>\n",
       "      <td>(40.7300642, -73.9474267)</td>\n",
       "      <td>CALYER STREET</td>\n",
       "      <td>MOULTRIE STREET</td>\n",
       "      <td>NaN</td>\n",
       "      <td>...</td>\n",
       "      <td>Backing Unsafely</td>\n",
       "      <td>NaN</td>\n",
       "      <td>NaN</td>\n",
       "      <td>NaN</td>\n",
       "      <td>200254</td>\n",
       "      <td>PICK-UP TRUCK</td>\n",
       "      <td>NaN</td>\n",
       "      <td>NaN</td>\n",
       "      <td>NaN</td>\n",
       "      <td>NaN</td>\n",
       "    </tr>\n",
       "    <tr>\n",
       "      <th>651549</th>\n",
       "      <td>05/21/2018</td>\n",
       "      <td>7:48</td>\n",
       "      <td>BROOKLYN</td>\n",
       "      <td>11207.0</td>\n",
       "      <td>40.662940</td>\n",
       "      <td>-73.895540</td>\n",
       "      <td>(40.66294, -73.89554)</td>\n",
       "      <td>RIVERDALE AVENUE</td>\n",
       "      <td>GEORGIA AVENUE</td>\n",
       "      <td>NaN</td>\n",
       "      <td>...</td>\n",
       "      <td>NaN</td>\n",
       "      <td>NaN</td>\n",
       "      <td>NaN</td>\n",
       "      <td>NaN</td>\n",
       "      <td>3905281</td>\n",
       "      <td>Sedan</td>\n",
       "      <td>Station Wagon/Sport Utility Vehicle</td>\n",
       "      <td>Station Wagon/Sport Utility Vehicle</td>\n",
       "      <td>NaN</td>\n",
       "      <td>NaN</td>\n",
       "    </tr>\n",
       "  </tbody>\n",
       "</table>\n",
       "<p>5 rows × 29 columns</p>\n",
       "</div>"
      ],
      "text/plain": [
       "         CRASH DATE CRASH TIME   BOROUGH ZIP CODE   LATITUDE  LONGITUDE  \\\n",
       "421935   05/08/2019      18:56  BROOKLYN  11235.0        NaN        NaN   \n",
       "708214   02/07/2018      12:30       NaN      NaN  40.759617 -73.961975   \n",
       "1527581  06/27/2014      19:20  BROOKLYN    11211  40.714539 -73.951703   \n",
       "1682500  09/23/2013      10:23  BROOKLYN    11222  40.730064 -73.947427   \n",
       "651549   05/21/2018       7:48  BROOKLYN  11207.0  40.662940 -73.895540   \n",
       "\n",
       "                          LOCATION                    ON STREET NAME  \\\n",
       "421935                         NaN                               NaN   \n",
       "708214     (40.759617, -73.961975)  1 AVENUE                           \n",
       "1527581  (40.7145389, -73.9517027)  UNION AVENUE                       \n",
       "1682500  (40.7300642, -73.9474267)  CALYER STREET                      \n",
       "651549       (40.66294, -73.89554)  RIVERDALE AVENUE                   \n",
       "\n",
       "                        CROSS STREET NAME  \\\n",
       "421935                                NaN   \n",
       "708214                                NaN   \n",
       "1527581  CONSELYEA STREET                   \n",
       "1682500  MOULTRIE STREET                    \n",
       "651549                     GEORGIA AVENUE   \n",
       "\n",
       "                                  OFF STREET NAME  ...  \\\n",
       "421935   55        Brighton 11th street            ...   \n",
       "708214                                        NaN  ...   \n",
       "1527581                                       NaN  ...   \n",
       "1682500                                       NaN  ...   \n",
       "651549                                        NaN  ...   \n",
       "\n",
       "         CONTRIBUTING FACTOR VEHICLE 2  CONTRIBUTING FACTOR VEHICLE 3  \\\n",
       "421935                             NaN                            NaN   \n",
       "708214                             NaN                            NaN   \n",
       "1527581             Lost Consciousness                            NaN   \n",
       "1682500               Backing Unsafely                            NaN   \n",
       "651549                             NaN                            NaN   \n",
       "\n",
       "         CONTRIBUTING FACTOR VEHICLE 4  CONTRIBUTING FACTOR VEHICLE 5  \\\n",
       "421935                             NaN                            NaN   \n",
       "708214                             NaN                            NaN   \n",
       "1527581                            NaN                            NaN   \n",
       "1682500                            NaN                            NaN   \n",
       "651549                             NaN                            NaN   \n",
       "\n",
       "         COLLISION_ID  VEHICLE TYPE CODE 1  \\\n",
       "421935        4128274                Sedan   \n",
       "708214        3842105                 Bike   \n",
       "1527581        359311    PASSENGER VEHICLE   \n",
       "1682500        200254        PICK-UP TRUCK   \n",
       "651549        3905281                Sedan   \n",
       "\n",
       "                         VEHICLE TYPE CODE 2  \\\n",
       "421935                                   NaN   \n",
       "708214                                   NaN   \n",
       "1527581                              BICYCLE   \n",
       "1682500                                  NaN   \n",
       "651549   Station Wagon/Sport Utility Vehicle   \n",
       "\n",
       "                         VEHICLE TYPE CODE 3 VEHICLE TYPE CODE 4  \\\n",
       "421935                                   NaN                 NaN   \n",
       "708214                                   NaN                 NaN   \n",
       "1527581                                  NaN                 NaN   \n",
       "1682500                                  NaN                 NaN   \n",
       "651549   Station Wagon/Sport Utility Vehicle                 NaN   \n",
       "\n",
       "        VEHICLE TYPE CODE 5  \n",
       "421935                  NaN  \n",
       "708214                  NaN  \n",
       "1527581                 NaN  \n",
       "1682500                 NaN  \n",
       "651549                  NaN  \n",
       "\n",
       "[5 rows x 29 columns]"
      ]
     },
     "execution_count": 130,
     "metadata": {},
     "output_type": "execute_result"
    }
   ],
   "source": [
    "df_sample.head()"
   ]
  },
  {
   "cell_type": "code",
   "execution_count": 131,
   "metadata": {},
   "outputs": [
    {
     "name": "stdout",
     "output_type": "stream",
     "text": [
      "<class 'pandas.core.frame.DataFrame'>\n",
      "Index: 207880 entries, 421935 to 1103059\n",
      "Data columns (total 29 columns):\n",
      " #   Column                         Non-Null Count   Dtype  \n",
      "---  ------                         --------------   -----  \n",
      " 0   CRASH DATE                     207880 non-null  object \n",
      " 1   CRASH TIME                     207880 non-null  object \n",
      " 2   BOROUGH                        143197 non-null  object \n",
      " 3   ZIP CODE                       143168 non-null  object \n",
      " 4   LATITUDE                       184638 non-null  float64\n",
      " 5   LONGITUDE                      184638 non-null  float64\n",
      " 6   LOCATION                       184214 non-null  object \n",
      " 7   ON STREET NAME                 163767 non-null  object \n",
      " 8   CROSS STREET NAME              129224 non-null  object \n",
      " 9   OFF STREET NAME                34833 non-null   object \n",
      " 10  NUMBER OF PERSONS INJURED      207879 non-null  float64\n",
      " 11  NUMBER OF PERSONS KILLED       207878 non-null  float64\n",
      " 12  NUMBER OF PEDESTRIANS INJURED  207880 non-null  int64  \n",
      " 13  NUMBER OF PEDESTRIANS KILLED   207880 non-null  int64  \n",
      " 14  NUMBER OF CYCLIST INJURED      207880 non-null  int64  \n",
      " 15  NUMBER OF CYCLIST KILLED       207880 non-null  int64  \n",
      " 16  NUMBER OF MOTORIST INJURED     207880 non-null  int64  \n",
      " 17  NUMBER OF MOTORIST KILLED      207880 non-null  int64  \n",
      " 18  CONTRIBUTING FACTOR VEHICLE 1  136216 non-null  object \n",
      " 19  CONTRIBUTING FACTOR VEHICLE 2  27639 non-null   object \n",
      " 20  CONTRIBUTING FACTOR VEHICLE 3  1012 non-null    object \n",
      " 21  CONTRIBUTING FACTOR VEHICLE 4  225 non-null     object \n",
      " 22  CONTRIBUTING FACTOR VEHICLE 5  50 non-null      object \n",
      " 23  COLLISION_ID                   207880 non-null  int64  \n",
      " 24  VEHICLE TYPE CODE 1            202245 non-null  object \n",
      " 25  VEHICLE TYPE CODE 2            157780 non-null  object \n",
      " 26  VEHICLE TYPE CODE 3            13991 non-null   object \n",
      " 27  VEHICLE TYPE CODE 4            3178 non-null    object \n",
      " 28  VEHICLE TYPE CODE 5            868 non-null     object \n",
      "dtypes: float64(4), int64(7), object(18)\n",
      "memory usage: 47.6+ MB\n"
     ]
    }
   ],
   "source": [
    "df_sample.info()"
   ]
  },
  {
   "cell_type": "code",
   "execution_count": 132,
   "metadata": {},
   "outputs": [
    {
     "data": {
      "text/plain": [
       "CRASH DATE                            0\n",
       "CRASH TIME                            0\n",
       "BOROUGH                           64683\n",
       "ZIP CODE                          64712\n",
       "LATITUDE                          23242\n",
       "LONGITUDE                         23242\n",
       "LOCATION                          23666\n",
       "ON STREET NAME                    44113\n",
       "CROSS STREET NAME                 78656\n",
       "OFF STREET NAME                  173047\n",
       "NUMBER OF PERSONS INJURED             1\n",
       "NUMBER OF PERSONS KILLED              2\n",
       "NUMBER OF PEDESTRIANS INJURED         0\n",
       "NUMBER OF PEDESTRIANS KILLED          0\n",
       "NUMBER OF CYCLIST INJURED             0\n",
       "NUMBER OF CYCLIST KILLED              0\n",
       "NUMBER OF MOTORIST INJURED            0\n",
       "NUMBER OF MOTORIST KILLED             0\n",
       "CONTRIBUTING FACTOR VEHICLE 1     71664\n",
       "CONTRIBUTING FACTOR VEHICLE 2    180241\n",
       "CONTRIBUTING FACTOR VEHICLE 3    206868\n",
       "CONTRIBUTING FACTOR VEHICLE 4    207655\n",
       "CONTRIBUTING FACTOR VEHICLE 5    207830\n",
       "COLLISION_ID                          0\n",
       "VEHICLE TYPE CODE 1                5635\n",
       "VEHICLE TYPE CODE 2               50100\n",
       "VEHICLE TYPE CODE 3              193889\n",
       "VEHICLE TYPE CODE 4              204702\n",
       "VEHICLE TYPE CODE 5              207012\n",
       "dtype: int64"
      ]
     },
     "execution_count": 132,
     "metadata": {},
     "output_type": "execute_result"
    }
   ],
   "source": [
    "df_sample.isnull().sum()"
   ]
  },
  {
   "cell_type": "code",
   "execution_count": 133,
   "metadata": {},
   "outputs": [],
   "source": [
    "# defining the dataset ID\n",
    "df_sample.set_index('COLLISION_ID', inplace=True)"
   ]
  },
  {
   "cell_type": "markdown",
   "metadata": {},
   "source": [
    "Dropping columns that have more than 25% null values"
   ]
  },
  {
   "cell_type": "markdown",
   "metadata": {},
   "source": [
    "### Handling missing values and irrelevant data"
   ]
  },
  {
   "cell_type": "code",
   "execution_count": 134,
   "metadata": {},
   "outputs": [],
   "source": [
    "# dropping columns with more than 25% missing values\n",
    "threshold = len(df_sample) * 0.25\n",
    "df_sample.dropna(thresh=threshold, axis=1, inplace=True)"
   ]
  },
  {
   "cell_type": "code",
   "execution_count": 135,
   "metadata": {},
   "outputs": [
    {
     "data": {
      "text/plain": [
       "CRASH DATE                           0\n",
       "CRASH TIME                           0\n",
       "BOROUGH                          64683\n",
       "ZIP CODE                         64712\n",
       "LATITUDE                         23242\n",
       "LONGITUDE                        23242\n",
       "LOCATION                         23666\n",
       "ON STREET NAME                   44113\n",
       "CROSS STREET NAME                78656\n",
       "NUMBER OF PERSONS INJURED            1\n",
       "NUMBER OF PERSONS KILLED             2\n",
       "NUMBER OF PEDESTRIANS INJURED        0\n",
       "NUMBER OF PEDESTRIANS KILLED         0\n",
       "NUMBER OF CYCLIST INJURED            0\n",
       "NUMBER OF CYCLIST KILLED             0\n",
       "NUMBER OF MOTORIST INJURED           0\n",
       "NUMBER OF MOTORIST KILLED            0\n",
       "CONTRIBUTING FACTOR VEHICLE 1    71664\n",
       "VEHICLE TYPE CODE 1               5635\n",
       "VEHICLE TYPE CODE 2              50100\n",
       "dtype: int64"
      ]
     },
     "execution_count": 135,
     "metadata": {},
     "output_type": "execute_result"
    }
   ],
   "source": [
    "# dropping rows with missing values\n",
    "df_sample.isnull().sum()"
   ]
  },
  {
   "cell_type": "code",
   "execution_count": 136,
   "metadata": {},
   "outputs": [
    {
     "data": {
      "text/html": [
       "<div>\n",
       "<style scoped>\n",
       "    .dataframe tbody tr th:only-of-type {\n",
       "        vertical-align: middle;\n",
       "    }\n",
       "\n",
       "    .dataframe tbody tr th {\n",
       "        vertical-align: top;\n",
       "    }\n",
       "\n",
       "    .dataframe thead th {\n",
       "        text-align: right;\n",
       "    }\n",
       "</style>\n",
       "<table border=\"1\" class=\"dataframe\">\n",
       "  <thead>\n",
       "    <tr style=\"text-align: right;\">\n",
       "      <th></th>\n",
       "      <th>LATITUDE</th>\n",
       "      <th>LONGITUDE</th>\n",
       "      <th>NUMBER OF PERSONS INJURED</th>\n",
       "      <th>NUMBER OF PERSONS KILLED</th>\n",
       "      <th>NUMBER OF PEDESTRIANS INJURED</th>\n",
       "      <th>NUMBER OF PEDESTRIANS KILLED</th>\n",
       "      <th>NUMBER OF CYCLIST INJURED</th>\n",
       "      <th>NUMBER OF CYCLIST KILLED</th>\n",
       "      <th>NUMBER OF MOTORIST INJURED</th>\n",
       "      <th>NUMBER OF MOTORIST KILLED</th>\n",
       "    </tr>\n",
       "  </thead>\n",
       "  <tbody>\n",
       "    <tr>\n",
       "      <th>count</th>\n",
       "      <td>184638.000000</td>\n",
       "      <td>184638.000000</td>\n",
       "      <td>207879.000000</td>\n",
       "      <td>207878.000000</td>\n",
       "      <td>207880.000000</td>\n",
       "      <td>207880.000000</td>\n",
       "      <td>207880.000000</td>\n",
       "      <td>207880.000000</td>\n",
       "      <td>207880.000000</td>\n",
       "      <td>207880.000000</td>\n",
       "    </tr>\n",
       "    <tr>\n",
       "      <th>mean</th>\n",
       "      <td>40.630560</td>\n",
       "      <td>-73.755754</td>\n",
       "      <td>0.310926</td>\n",
       "      <td>0.001506</td>\n",
       "      <td>0.056383</td>\n",
       "      <td>0.000760</td>\n",
       "      <td>0.026852</td>\n",
       "      <td>0.000087</td>\n",
       "      <td>0.223898</td>\n",
       "      <td>0.000640</td>\n",
       "    </tr>\n",
       "    <tr>\n",
       "      <th>std</th>\n",
       "      <td>1.951026</td>\n",
       "      <td>3.638834</td>\n",
       "      <td>0.699849</td>\n",
       "      <td>0.043454</td>\n",
       "      <td>0.248569</td>\n",
       "      <td>0.028248</td>\n",
       "      <td>0.163721</td>\n",
       "      <td>0.009305</td>\n",
       "      <td>0.659507</td>\n",
       "      <td>0.030305</td>\n",
       "    </tr>\n",
       "    <tr>\n",
       "      <th>min</th>\n",
       "      <td>0.000000</td>\n",
       "      <td>-201.237060</td>\n",
       "      <td>0.000000</td>\n",
       "      <td>0.000000</td>\n",
       "      <td>0.000000</td>\n",
       "      <td>0.000000</td>\n",
       "      <td>0.000000</td>\n",
       "      <td>0.000000</td>\n",
       "      <td>0.000000</td>\n",
       "      <td>0.000000</td>\n",
       "    </tr>\n",
       "    <tr>\n",
       "      <th>25%</th>\n",
       "      <td>40.667847</td>\n",
       "      <td>-73.974523</td>\n",
       "      <td>0.000000</td>\n",
       "      <td>0.000000</td>\n",
       "      <td>0.000000</td>\n",
       "      <td>0.000000</td>\n",
       "      <td>0.000000</td>\n",
       "      <td>0.000000</td>\n",
       "      <td>0.000000</td>\n",
       "      <td>0.000000</td>\n",
       "    </tr>\n",
       "    <tr>\n",
       "      <th>50%</th>\n",
       "      <td>40.720966</td>\n",
       "      <td>-73.927320</td>\n",
       "      <td>0.000000</td>\n",
       "      <td>0.000000</td>\n",
       "      <td>0.000000</td>\n",
       "      <td>0.000000</td>\n",
       "      <td>0.000000</td>\n",
       "      <td>0.000000</td>\n",
       "      <td>0.000000</td>\n",
       "      <td>0.000000</td>\n",
       "    </tr>\n",
       "    <tr>\n",
       "      <th>75%</th>\n",
       "      <td>40.769740</td>\n",
       "      <td>-73.866731</td>\n",
       "      <td>0.000000</td>\n",
       "      <td>0.000000</td>\n",
       "      <td>0.000000</td>\n",
       "      <td>0.000000</td>\n",
       "      <td>0.000000</td>\n",
       "      <td>0.000000</td>\n",
       "      <td>0.000000</td>\n",
       "      <td>0.000000</td>\n",
       "    </tr>\n",
       "    <tr>\n",
       "      <th>max</th>\n",
       "      <td>42.107204</td>\n",
       "      <td>0.000000</td>\n",
       "      <td>27.000000</td>\n",
       "      <td>5.000000</td>\n",
       "      <td>27.000000</td>\n",
       "      <td>2.000000</td>\n",
       "      <td>3.000000</td>\n",
       "      <td>1.000000</td>\n",
       "      <td>24.000000</td>\n",
       "      <td>5.000000</td>\n",
       "    </tr>\n",
       "  </tbody>\n",
       "</table>\n",
       "</div>"
      ],
      "text/plain": [
       "            LATITUDE      LONGITUDE  NUMBER OF PERSONS INJURED  \\\n",
       "count  184638.000000  184638.000000              207879.000000   \n",
       "mean       40.630560     -73.755754                   0.310926   \n",
       "std         1.951026       3.638834                   0.699849   \n",
       "min         0.000000    -201.237060                   0.000000   \n",
       "25%        40.667847     -73.974523                   0.000000   \n",
       "50%        40.720966     -73.927320                   0.000000   \n",
       "75%        40.769740     -73.866731                   0.000000   \n",
       "max        42.107204       0.000000                  27.000000   \n",
       "\n",
       "       NUMBER OF PERSONS KILLED  NUMBER OF PEDESTRIANS INJURED  \\\n",
       "count             207878.000000                  207880.000000   \n",
       "mean                   0.001506                       0.056383   \n",
       "std                    0.043454                       0.248569   \n",
       "min                    0.000000                       0.000000   \n",
       "25%                    0.000000                       0.000000   \n",
       "50%                    0.000000                       0.000000   \n",
       "75%                    0.000000                       0.000000   \n",
       "max                    5.000000                      27.000000   \n",
       "\n",
       "       NUMBER OF PEDESTRIANS KILLED  NUMBER OF CYCLIST INJURED  \\\n",
       "count                 207880.000000              207880.000000   \n",
       "mean                       0.000760                   0.026852   \n",
       "std                        0.028248                   0.163721   \n",
       "min                        0.000000                   0.000000   \n",
       "25%                        0.000000                   0.000000   \n",
       "50%                        0.000000                   0.000000   \n",
       "75%                        0.000000                   0.000000   \n",
       "max                        2.000000                   3.000000   \n",
       "\n",
       "       NUMBER OF CYCLIST KILLED  NUMBER OF MOTORIST INJURED  \\\n",
       "count             207880.000000               207880.000000   \n",
       "mean                   0.000087                    0.223898   \n",
       "std                    0.009305                    0.659507   \n",
       "min                    0.000000                    0.000000   \n",
       "25%                    0.000000                    0.000000   \n",
       "50%                    0.000000                    0.000000   \n",
       "75%                    0.000000                    0.000000   \n",
       "max                    1.000000                   24.000000   \n",
       "\n",
       "       NUMBER OF MOTORIST KILLED  \n",
       "count              207880.000000  \n",
       "mean                    0.000640  \n",
       "std                     0.030305  \n",
       "min                     0.000000  \n",
       "25%                     0.000000  \n",
       "50%                     0.000000  \n",
       "75%                     0.000000  \n",
       "max                     5.000000  "
      ]
     },
     "execution_count": 136,
     "metadata": {},
     "output_type": "execute_result"
    }
   ],
   "source": [
    "# showing dispersion measures\n",
    "df_sample.describe()"
   ]
  },
  {
   "cell_type": "markdown",
   "metadata": {},
   "source": [
    "Deleting logical irrelevant columns"
   ]
  },
  {
   "cell_type": "code",
   "execution_count": 137,
   "metadata": {},
   "outputs": [],
   "source": [
    "# dropping irrelevant columns\n",
    "df_sample.drop([\n",
    "    'VEHICLE TYPE CODE 2',\n",
    "    'ZIP CODE',\n",
    "    'LATITUDE',\n",
    "    'LONGITUDE',\n",
    "    'LOCATION',\n",
    "    'NUMBER OF PERSONS INJURED',\n",
    "    'NUMBER OF PERSONS KILLED',\n",
    "    ], axis=1, inplace=True)"
   ]
  },
  {
   "cell_type": "markdown",
   "metadata": {},
   "source": [
    "Simplifying feature names"
   ]
  },
  {
   "cell_type": "code",
   "execution_count": 138,
   "metadata": {},
   "outputs": [],
   "source": [
    "# renaming columns\n",
    "df_sample.rename(columns={\n",
    "    'CRASH DATE': 'DATE',\n",
    "    'CRASH TIME': 'TIME',\n",
    "    'LATITUDE': 'LAT',\n",
    "    'LONGITUDE': 'LON',\n",
    "    'ON STREET NAME': 'ON_STREET',\n",
    "    'CROSS STREET NAME': 'CROSS_STREET',\n",
    "    'NUMBER OF PERSONS INJURED': 'INJURED',\n",
    "    'NUMBER OF PERSONS KILLED': 'KILLED',\n",
    "    'NUMBER OF PEDESTRIANS INJURED': 'PED_INJURED',\n",
    "    'NUMBER OF PEDESTRIANS KILLED': 'PED_KILLED',\n",
    "    'NUMBER OF CYCLIST INJURED': 'CY_INJURED',\n",
    "    'NUMBER OF CYCLIST KILLED': 'CY_KILLED',\n",
    "    'NUMBER OF MOTORIST INJURED': 'MOT_INJURED',\n",
    "    'NUMBER OF MOTORIST KILLED': 'MOT_KILLED',\n",
    "    'CONTRIBUTING FACTOR VEHICLE 1': 'FACTOR',\n",
    "    'CONTRIBUTING FACTOR VEHICLE 2': 'FACTOR2',\n",
    "    'VEHICLE TYPE CODE 1': 'VEHICLE'\n",
    "    }, inplace=True)"
   ]
  },
  {
   "cell_type": "markdown",
   "metadata": {},
   "source": [
    "#### Cleaning the target variable"
   ]
  },
  {
   "cell_type": "markdown",
   "metadata": {},
   "source": [
    "Dropping all rows with null in the target varible"
   ]
  },
  {
   "cell_type": "code",
   "execution_count": 139,
   "metadata": {},
   "outputs": [
    {
     "data": {
      "text/plain": [
       "DATE            object\n",
       "TIME            object\n",
       "BOROUGH         object\n",
       "ON_STREET       object\n",
       "CROSS_STREET    object\n",
       "PED_INJURED      int64\n",
       "PED_KILLED       int64\n",
       "CY_INJURED       int64\n",
       "CY_KILLED        int64\n",
       "MOT_INJURED      int64\n",
       "MOT_KILLED       int64\n",
       "FACTOR          object\n",
       "VEHICLE         object\n",
       "dtype: object"
      ]
     },
     "execution_count": 139,
     "metadata": {},
     "output_type": "execute_result"
    }
   ],
   "source": [
    "# Dropping rows with missing values in the 'VEHICLE' column\n",
    "df_sample.dropna(subset=['VEHICLE'], inplace=True)\n",
    "\n",
    "df_sample.dtypes"
   ]
  },
  {
   "cell_type": "code",
   "execution_count": 140,
   "metadata": {},
   "outputs": [],
   "source": [
    "df_sample['ON_STREET'] = df_sample['ON_STREET'].str.upper()\n",
    "df_sample['CROSS_STREET'] = df_sample['CROSS_STREET'].str.upper()\n",
    "df_sample['BOROUGH'] = df_sample['BOROUGH'].str.upper()\n",
    "df_sample['FACTOR'] = df_sample['FACTOR'].str.upper()"
   ]
  },
  {
   "cell_type": "markdown",
   "metadata": {},
   "source": [
    "Dropping low occurencies of categories in the target variable VEHICLE"
   ]
  },
  {
   "cell_type": "code",
   "execution_count": 141,
   "metadata": {},
   "outputs": [],
   "source": [
    "# converting VEHICLE column to uppercase\n",
    "df_sample['VEHICLE'] = df_sample['VEHICLE'].str.upper()"
   ]
  },
  {
   "cell_type": "code",
   "execution_count": 142,
   "metadata": {},
   "outputs": [],
   "source": [
    "# Dropping low occurrence values in the 'VEHICLE' column\n",
    "df_filtered = df_sample.groupby('VEHICLE').filter(lambda x: len(x) >= 10)\n"
   ]
  },
  {
   "cell_type": "code",
   "execution_count": 143,
   "metadata": {},
   "outputs": [
    {
     "data": {
      "text/plain": [
       "VEHICLE\n",
       "SEDAN                                  58239\n",
       "STATION WAGON/SPORT UTILITY VEHICLE    45218\n",
       "PASSENGER VEHICLE                      41750\n",
       "SPORT UTILITY / STATION WAGON          17954\n",
       "TAXI                                    8223\n",
       "PICK-UP TRUCK                           4673\n",
       "4 DR SEDAN                              4056\n",
       "VAN                                     3473\n",
       "BUS                                     3439\n",
       "BOX TRUCK                               2432\n",
       "BIKE                                    1452\n",
       "LARGE COM VEH(6 OR MORE TIRES)          1424\n",
       "SMALL COM VEH(4 TIRES)                  1352\n",
       "MOTORCYCLE                              1265\n",
       "LIVERY VEHICLE                          1044\n",
       "TRACTOR TRUCK DIESEL                    1039\n",
       "AMBULANCE                                751\n",
       "DUMP                                     381\n",
       "CONVERTIBLE                              356\n",
       "E-BIKE                                   292\n",
       "2 DR SEDAN                               278\n",
       "FLAT BED                                 252\n",
       "PK                                       251\n",
       "GARBAGE OR REFUSE                        230\n",
       "E-SCOOTER                                221\n",
       "MOPED                                    190\n",
       "CARRY ALL                                190\n",
       "TRACTOR TRUCK GASOLINE                   156\n",
       "TOW TRUCK / WRECKER                      122\n",
       "FIRE TRUCK                                84\n",
       "TANKER                                    80\n",
       "CHASSIS CAB                               78\n",
       "BICYCLE                                   61\n",
       "AMBUL                                     59\n",
       "MOTORBIKE                                 59\n",
       "MOTORSCOOTER                              56\n",
       "REFRIGERATED VAN                          51\n",
       "CONCRETE MIXER                            41\n",
       "SCOOTER                                   35\n",
       "ARMORED TRUCK                             35\n",
       "3-DOOR                                    33\n",
       "BEVERAGE TRUCK                            33\n",
       "FLAT RACK                                 32\n",
       "FIRE                                      31\n",
       "TRAIL                                     31\n",
       "TRUCK                                     29\n",
       "LIMO                                      29\n",
       "FDNY                                      25\n",
       "LIFT BOOM                                 24\n",
       "SCHOOL BUS                                19\n",
       "STAKE OR RACK                             18\n",
       "TRACT                                     17\n",
       "MULTI-WHEELED VEHICLE                     14\n",
       "BULK AGRICULTURE                          12\n",
       "TOW T                                     12\n",
       "COM                                       11\n",
       "E-BIK                                     11\n",
       "TRAILER                                   10\n",
       "E-SCO                                     10\n",
       "SNOW PLOW                                 10\n",
       "Name: count, dtype: int64"
      ]
     },
     "execution_count": 143,
     "metadata": {},
     "output_type": "execute_result"
    }
   ],
   "source": [
    "# Showing the most frequent values in the 'VEHICLE' column\n",
    "df_filtered['VEHICLE'].value_counts()"
   ]
  },
  {
   "cell_type": "markdown",
   "metadata": {},
   "source": [
    "Finding and excluding outliers"
   ]
  },
  {
   "cell_type": "code",
   "execution_count": 144,
   "metadata": {},
   "outputs": [
    {
     "data": {
      "text/html": [
       "<div>\n",
       "<style scoped>\n",
       "    .dataframe tbody tr th:only-of-type {\n",
       "        vertical-align: middle;\n",
       "    }\n",
       "\n",
       "    .dataframe tbody tr th {\n",
       "        vertical-align: top;\n",
       "    }\n",
       "\n",
       "    .dataframe thead th {\n",
       "        text-align: right;\n",
       "    }\n",
       "</style>\n",
       "<table border=\"1\" class=\"dataframe\">\n",
       "  <thead>\n",
       "    <tr style=\"text-align: right;\">\n",
       "      <th></th>\n",
       "      <th>PED_INJURED</th>\n",
       "      <th>PED_KILLED</th>\n",
       "      <th>CY_INJURED</th>\n",
       "      <th>CY_KILLED</th>\n",
       "      <th>MOT_INJURED</th>\n",
       "      <th>MOT_KILLED</th>\n",
       "    </tr>\n",
       "  </thead>\n",
       "  <tbody>\n",
       "    <tr>\n",
       "      <th>count</th>\n",
       "      <td>201753.000000</td>\n",
       "      <td>201753.000000</td>\n",
       "      <td>201753.000000</td>\n",
       "      <td>201753.000000</td>\n",
       "      <td>201753.000000</td>\n",
       "      <td>201753.000000</td>\n",
       "    </tr>\n",
       "    <tr>\n",
       "      <th>mean</th>\n",
       "      <td>0.051167</td>\n",
       "      <td>0.000709</td>\n",
       "      <td>0.026825</td>\n",
       "      <td>0.000084</td>\n",
       "      <td>0.227238</td>\n",
       "      <td>0.000649</td>\n",
       "    </tr>\n",
       "    <tr>\n",
       "      <th>std</th>\n",
       "      <td>0.238154</td>\n",
       "      <td>0.027167</td>\n",
       "      <td>0.163675</td>\n",
       "      <td>0.009179</td>\n",
       "      <td>0.664389</td>\n",
       "      <td>0.030600</td>\n",
       "    </tr>\n",
       "    <tr>\n",
       "      <th>min</th>\n",
       "      <td>0.000000</td>\n",
       "      <td>0.000000</td>\n",
       "      <td>0.000000</td>\n",
       "      <td>0.000000</td>\n",
       "      <td>0.000000</td>\n",
       "      <td>0.000000</td>\n",
       "    </tr>\n",
       "    <tr>\n",
       "      <th>25%</th>\n",
       "      <td>0.000000</td>\n",
       "      <td>0.000000</td>\n",
       "      <td>0.000000</td>\n",
       "      <td>0.000000</td>\n",
       "      <td>0.000000</td>\n",
       "      <td>0.000000</td>\n",
       "    </tr>\n",
       "    <tr>\n",
       "      <th>50%</th>\n",
       "      <td>0.000000</td>\n",
       "      <td>0.000000</td>\n",
       "      <td>0.000000</td>\n",
       "      <td>0.000000</td>\n",
       "      <td>0.000000</td>\n",
       "      <td>0.000000</td>\n",
       "    </tr>\n",
       "    <tr>\n",
       "      <th>75%</th>\n",
       "      <td>0.000000</td>\n",
       "      <td>0.000000</td>\n",
       "      <td>0.000000</td>\n",
       "      <td>0.000000</td>\n",
       "      <td>0.000000</td>\n",
       "      <td>0.000000</td>\n",
       "    </tr>\n",
       "    <tr>\n",
       "      <th>max</th>\n",
       "      <td>27.000000</td>\n",
       "      <td>2.000000</td>\n",
       "      <td>3.000000</td>\n",
       "      <td>1.000000</td>\n",
       "      <td>24.000000</td>\n",
       "      <td>5.000000</td>\n",
       "    </tr>\n",
       "  </tbody>\n",
       "</table>\n",
       "</div>"
      ],
      "text/plain": [
       "         PED_INJURED     PED_KILLED     CY_INJURED      CY_KILLED  \\\n",
       "count  201753.000000  201753.000000  201753.000000  201753.000000   \n",
       "mean        0.051167       0.000709       0.026825       0.000084   \n",
       "std         0.238154       0.027167       0.163675       0.009179   \n",
       "min         0.000000       0.000000       0.000000       0.000000   \n",
       "25%         0.000000       0.000000       0.000000       0.000000   \n",
       "50%         0.000000       0.000000       0.000000       0.000000   \n",
       "75%         0.000000       0.000000       0.000000       0.000000   \n",
       "max        27.000000       2.000000       3.000000       1.000000   \n",
       "\n",
       "         MOT_INJURED     MOT_KILLED  \n",
       "count  201753.000000  201753.000000  \n",
       "mean        0.227238       0.000649  \n",
       "std         0.664389       0.030600  \n",
       "min         0.000000       0.000000  \n",
       "25%         0.000000       0.000000  \n",
       "50%         0.000000       0.000000  \n",
       "75%         0.000000       0.000000  \n",
       "max        24.000000       5.000000  "
      ]
     },
     "execution_count": 144,
     "metadata": {},
     "output_type": "execute_result"
    }
   ],
   "source": [
    "# Showing \n",
    "df_filtered.describe()"
   ]
  },
  {
   "cell_type": "code",
   "execution_count": 145,
   "metadata": {},
   "outputs": [
    {
     "data": {
      "image/png": "[encoded data removed]",
      "text/plain": [
       "<Figure size 1500x800 with 8 Axes>"
      ]
     },
     "metadata": {},
     "output_type": "display_data"
    }
   ],
   "source": [
    "numerical_columns = df_filtered.select_dtypes(include='number').columns.tolist()\n",
    "\n",
    "img, axs = plt.subplots(2, 4, figsize=(15, 8))\n",
    "\n",
    "for i, column in enumerate(numerical_columns):\n",
    "    sns.boxplot(x=df_filtered[column], ax=axs[i//4, i%4])\n",
    "\n",
    "plt.show()"
   ]
  },
  {
   "cell_type": "markdown",
   "metadata": {},
   "source": [
    "#### Filling missing values with their mode and mean for categorical and numerical values respectively"
   ]
  },
  {
   "cell_type": "code",
   "execution_count": 146,
   "metadata": {},
   "outputs": [],
   "source": [
    "# filling all categorical missing values with their mode\n",
    "categorical_columns = df_filtered.select_dtypes(include='object').columns.tolist()\n",
    "\n",
    "for column in categorical_columns:\n",
    "    df_filtered[column] = df_filtered[column].str.strip()\n",
    "    df_filtered.fillna({column: df_filtered[column].mode()[0]}, inplace=True)\n",
    "\n",
    "# filling numberical missing values with its mean\n",
    "numerical_columns = df_filtered.select_dtypes(include='number').columns.tolist()\n",
    "\n",
    "for column in numerical_columns:\n",
    "    df_filtered.fillna({column: df_filtered[column].mean()}, inplace=True)\n"
   ]
  },
  {
   "cell_type": "code",
   "execution_count": 147,
   "metadata": {},
   "outputs": [
    {
     "data": {
      "text/plain": [
       "DATE            0\n",
       "TIME            0\n",
       "BOROUGH         0\n",
       "ON_STREET       0\n",
       "CROSS_STREET    0\n",
       "PED_INJURED     0\n",
       "PED_KILLED      0\n",
       "CY_INJURED      0\n",
       "CY_KILLED       0\n",
       "MOT_INJURED     0\n",
       "MOT_KILLED      0\n",
       "FACTOR          0\n",
       "VEHICLE         0\n",
       "dtype: int64"
      ]
     },
     "execution_count": 147,
     "metadata": {},
     "output_type": "execute_result"
    }
   ],
   "source": [
    "df_filtered.isnull().sum()"
   ]
  },
  {
   "cell_type": "markdown",
   "metadata": {},
   "source": [
    "### Parsing categorical colums to numeric representation\n",
    "\n",
    "Based on that most of the categorical columns have many categories One-Hot enconding is not suitable therefore Label Encoding would be a better solution"
   ]
  },
  {
   "cell_type": "code",
   "execution_count": 148,
   "metadata": {},
   "outputs": [
    {
     "data": {
      "text/plain": [
       "DATE            object\n",
       "TIME            object\n",
       "BOROUGH         object\n",
       "ON_STREET       object\n",
       "CROSS_STREET    object\n",
       "PED_INJURED      int64\n",
       "PED_KILLED       int64\n",
       "CY_INJURED       int64\n",
       "CY_KILLED        int64\n",
       "MOT_INJURED      int64\n",
       "MOT_KILLED       int64\n",
       "FACTOR          object\n",
       "VEHICLE         object\n",
       "dtype: object"
      ]
     },
     "execution_count": 148,
     "metadata": {},
     "output_type": "execute_result"
    }
   ],
   "source": [
    "df_filtered.dtypes"
   ]
  },
  {
   "cell_type": "code",
   "execution_count": 149,
   "metadata": {},
   "outputs": [],
   "source": [
    "from sklearn.preprocessing import LabelEncoder\n",
    "# creating a label encoder\n",
    "label_encoder = LabelEncoder()\n",
    "# categorical columns that have to be encoded\n",
    "categorical_columns = df_filtered[['BOROUGH', 'ON_STREET', 'CROSS_STREET', 'FACTOR', 'VEHICLE']].columns.tolist()\n",
    "# encoding categorical columns\n",
    "for column in categorical_columns:\n",
    "    df_filtered[column] = label_encoder.fit_transform(df_filtered[column])\n"
   ]
  },
  {
   "cell_type": "markdown",
   "metadata": {},
   "source": [
    "Creating new column with month and time instead of date and time"
   ]
  },
  {
   "cell_type": "code",
   "execution_count": 150,
   "metadata": {},
   "outputs": [],
   "source": [
    "# taking only month and time in hours from the 'DATE' and 'TIME' columns\n",
    "df_filtered['MONTH'] = df_filtered['DATE'].apply(lambda x: int(x.split('/')[0]))\n",
    "df_filtered['TIME'] = df_filtered['TIME'].apply(lambda x: float(x.replace(':', '.')))\n",
    "\n",
    "df_filtered.drop('DATE', axis=1, inplace=True)\n"
   ]
  },
  {
   "cell_type": "code",
   "execution_count": 151,
   "metadata": {},
   "outputs": [
    {
     "data": {
      "text/html": [
       "<div>\n",
       "<style scoped>\n",
       "    .dataframe tbody tr th:only-of-type {\n",
       "        vertical-align: middle;\n",
       "    }\n",
       "\n",
       "    .dataframe tbody tr th {\n",
       "        vertical-align: top;\n",
       "    }\n",
       "\n",
       "    .dataframe thead th {\n",
       "        text-align: right;\n",
       "    }\n",
       "</style>\n",
       "<table border=\"1\" class=\"dataframe\">\n",
       "  <thead>\n",
       "    <tr style=\"text-align: right;\">\n",
       "      <th></th>\n",
       "      <th>MONTH</th>\n",
       "      <th>TIME</th>\n",
       "    </tr>\n",
       "    <tr>\n",
       "      <th>COLLISION_ID</th>\n",
       "      <th></th>\n",
       "      <th></th>\n",
       "    </tr>\n",
       "  </thead>\n",
       "  <tbody>\n",
       "    <tr>\n",
       "      <th>4128274</th>\n",
       "      <td>5</td>\n",
       "      <td>18.56</td>\n",
       "    </tr>\n",
       "    <tr>\n",
       "      <th>3842105</th>\n",
       "      <td>2</td>\n",
       "      <td>12.30</td>\n",
       "    </tr>\n",
       "    <tr>\n",
       "      <th>359311</th>\n",
       "      <td>6</td>\n",
       "      <td>19.20</td>\n",
       "    </tr>\n",
       "    <tr>\n",
       "      <th>200254</th>\n",
       "      <td>9</td>\n",
       "      <td>10.23</td>\n",
       "    </tr>\n",
       "    <tr>\n",
       "      <th>3905281</th>\n",
       "      <td>5</td>\n",
       "      <td>7.48</td>\n",
       "    </tr>\n",
       "  </tbody>\n",
       "</table>\n",
       "</div>"
      ],
      "text/plain": [
       "              MONTH   TIME\n",
       "COLLISION_ID              \n",
       "4128274           5  18.56\n",
       "3842105           2  12.30\n",
       "359311            6  19.20\n",
       "200254            9  10.23\n",
       "3905281           5   7.48"
      ]
     },
     "execution_count": 151,
     "metadata": {},
     "output_type": "execute_result"
    }
   ],
   "source": [
    "df_filtered[['MONTH', 'TIME']].head()"
   ]
  },
  {
   "cell_type": "markdown",
   "metadata": {},
   "source": [
    "## Training and model selection"
   ]
  },
  {
   "cell_type": "markdown",
   "metadata": {},
   "source": [
    "### Data spliting and target variable balancing using SMOTE"
   ]
  },
  {
   "cell_type": "code",
   "execution_count": 152,
   "metadata": {},
   "outputs": [],
   "source": [
    "from sklearn.model_selection import train_test_split, cross_val_score\n",
    "\n",
    "X = df_filtered.drop('VEHICLE', axis=1)\n",
    "y = df_filtered['VEHICLE']"
   ]
  },
  {
   "cell_type": "code",
   "execution_count": 153,
   "metadata": {},
   "outputs": [
    {
     "name": "stdout",
     "output_type": "stream",
     "text": [
      "DTC max score: 0.25851001239211424\n",
      "DTC max split: 20\n",
      "KNN max score: 0.281694114492189\n",
      "KNN max split: 20\n"
     ]
    }
   ],
   "source": [
    "from sklearn.neighbors import KNeighborsClassifier\n",
    "from sklearn.tree import DecisionTreeClassifier\n",
    "from sklearn import preprocessing\n",
    "\n",
    "X = preprocessing.scale(X)\n",
    "\n",
    "splits = [20, 25, 30]\n",
    "scores = { 'kscores': [], 'dscores': [] }\n",
    "\n",
    "for split in splits:\n",
    "    X_train, x_test, y_train, y_test = train_test_split(X, y, test_size=split/100)\n",
    "\n",
    "    kmodel = KNeighborsClassifier()\n",
    "    dmodel = DecisionTreeClassifier()\n",
    "\n",
    "    kscore = cross_val_score(kmodel, X_train, y_train, cv=5, scoring='accuracy').mean()\n",
    "    dscore = cross_val_score(dmodel, X_train, y_train, cv=5, scoring='accuracy').mean()\n",
    "\n",
    "    scores['kscores'].append(kscore)\n",
    "    scores['dscores'].append(dscore)\n",
    "\n",
    "d_max_score = np.max([score for score in scores['dscores']])\n",
    "d_max_split = splits[np.argmax([score for score in scores['dscores']])]\n",
    "\n",
    "print(f\"DTC max score: {d_max_score}\")\n",
    "print(f\"DTC max split: {d_max_split}\")\n",
    "\n",
    "k_max_score = np.max([score for score in scores['kscores']])\n",
    "k_max_split = splits[np.argmax([score for score in scores['kscores']])]\n",
    "\n",
    "print(f\"KNN max score: {k_max_score}\")\n",
    "print(f\"KNN max split: {k_max_split}\")"
   ]
  },
  {
   "cell_type": "markdown",
   "metadata": {},
   "source": [
    "\n",
    "Finding the best hyperprameters for DecisionTreeClassifier"
   ]
  },
  {
   "cell_type": "code",
   "execution_count": 154,
   "metadata": {},
   "outputs": [
    {
     "name": "stdout",
     "output_type": "stream",
     "text": [
      "Best hyper parameter:  {'max_depth': 10, 'min_samples_leaf': 4, 'min_samples_split': 5}\n",
      "Best score: 0.36489816516138796\n"
     ]
    }
   ],
   "source": [
    "from sklearn.model_selection import GridSearchCV\n",
    "\n",
    "# applying the best testing split founded above\n",
    "X_train, X_test, y_train, y_test = train_test_split(X, y, test_size=d_max_split)\n",
    "\n",
    "# Define the parameter grid\n",
    "param_grid = {\n",
    "    'max_depth': [5, 10, 15],\n",
    "    'min_samples_split': [2, 5, 10],\n",
    "    'min_samples_leaf': [1, 2, 4]\n",
    "}\n",
    "\n",
    "dt = DecisionTreeClassifier()\n",
    "\n",
    "grid_search_dt = GridSearchCV(dt, param_grid, cv=5)\n",
    "\n",
    "# Fit the grid search to the data\n",
    "grid_search_dt.fit(X_train, y_train)\n",
    "\n",
    "# Get the best hyperparameters\n",
    "d_best_params = grid_search_dt.best_params_\n",
    "best_score = grid_search_dt.best_score_\n",
    "\n",
    "print(\"Best hyper parameter: \", d_best_params)\n",
    "print(\"Best score:\", best_score)\n"
   ]
  },
  {
   "cell_type": "markdown",
   "metadata": {},
   "source": [
    "Finding the best hyperparamenters for KNN"
   ]
  },
  {
   "cell_type": "code",
   "execution_count": 155,
   "metadata": {},
   "outputs": [],
   "source": [
    "from sklearn.neighbors import KNeighborsClassifier\n",
    "\n",
    "# applying the best split founded in above cell\n",
    "X_train, X_test, y_train, y_test = train_test_split(X, y, test_size=k_max_split)\n",
    "\n",
    "# Define the parameter grid\n",
    "param_grid = {\n",
    "    'n_neighbors': [3, 5, 7],\n",
    "    'weights': ['uniform', 'distance'],\n",
    "    'algorithm': ['auto', 'ball_tree', 'kd_tree', 'brute']\n",
    "}\n",
    "\n",
    "# Create the KNN classifier\n",
    "knn = KNeighborsClassifier()\n",
    "\n",
    "# Create the GridSearchCV object\n",
    "grid_search = GridSearchCV(knn, param_grid, cv=5)\n",
    "\n",
    "# Fit the data to find the best hyperparameters\n",
    "grid_search.fit(X_train, y_train)\n",
    "\n",
    "# Get the best hyperparameters and the corresponding score\n",
    "k_best_params = grid_search.best_params_\n",
    "best_score = grid_search.best_score_\n",
    "\n",
    "print(\"Best Hyperparameters:\", k_best_params)\n",
    "print(\"Best Score:\", best_score)\n"
   ]
  },
  {
   "cell_type": "markdown",
   "metadata": {},
   "source": [
    "Showing the testing accuracy and plotting it on a confusion matrix"
   ]
  },
  {
   "cell_type": "code",
   "execution_count": null,
   "metadata": {},
   "outputs": [
    {
     "name": "stdout",
     "output_type": "stream",
     "text": [
      "KNN test score: 0.36\n",
      "DTC test score: 0.32\n"
     ]
    }
   ],
   "source": [
    "from sklearn.metrics import accuracy_score\n",
    "\n",
    "knn = KNeighborsClassifier(**k_best_params)\n",
    "dt = DecisionTreeClassifier(**d_best_params)\n",
    "\n",
    "knn.fit(X_train, y_train)\n",
    "dt.fit(X_train, y_train)\n",
    "\n",
    "k_y_pred = knn.predict(X_test)\n",
    "d_y_pred = dt.predict(X_test)\n",
    "\n",
    "k_acc = accuracy_score(y_test, k_y_pred)\n",
    "d_acc = accuracy_score(y_test, d_y_pred)\n",
    "\n",
    "print(f\"KNN test score: {k_acc}\\nDTC test score: {d_acc}\")\n"
   ]
  },
  {
   "cell_type": "code",
   "execution_count": null,
   "metadata": {},
   "outputs": [
    {
     "data": {
      "image/png": "[encoded data removed]",
      "text/plain": [
       "<Figure size 640x480 with 2 Axes>"
      ]
     },
     "metadata": {},
     "output_type": "display_data"
    },
    {
     "data": {
      "image/png": "[encoded data removed]",
      "text/plain": [
       "<Figure size 640x480 with 2 Axes>"
      ]
     },
     "metadata": {},
     "output_type": "display_data"
    }
   ],
   "source": [
    "from sklearn.metrics import confusion_matrix, classification_report\n",
    "\n",
    "kcm = confusion_matrix(y_test, k_y_pred)\n",
    "dcm = confusion_matrix(y_test, d_y_pred)\n",
    "\n",
    "kreport = classification_report(y_test, k_y_pred, output_dict=True)\n",
    "dreport = classification_report(y_test, d_y_pred, output_dict=True)\n",
    "\n",
    "kenlabels = [int(label) for label in list(kreport.keys()) if label.isdigit()]\n",
    "labels = label_encoder.inverse_transform(kenlabels)\n",
    "\n",
    "sns.heatmap(kcm, annot=True, fmt='d', yticklabels=labels, xticklabels=labels)\n",
    "plt.title('KNN Confusion Matrix')\n",
    "plt.ylabel('Actual')\n",
    "plt.show()\n",
    "\n",
    "denlabels = [int(label) for label in list(dreport.keys()) if label.isdigit()]\n",
    "labels = label_encoder.inverse_transform(denlabels)\n",
    "\n",
    "sns.heatmap(dcm, annot=True, fmt='d', yticklabels=labels, xticklabels=labels)\n",
    "plt.title('DTC Confusion Matrix')\n",
    "plt.ylabel('Actual')\n",
    "plt.show()"
   ]
  },
  {
   "cell_type": "markdown",
   "metadata": {},
   "source": [
    "## References\n",
    "\n",
    "- https://www.analyticsvidhya.com/blog/2021/04/how-to-handle-missing-values-of-categorical-variables/\n",
    "- https://www.linkedin.com/pulse/title-label-encoding-one-hot-data-preprocessing-shivani-singh\n",
    "- https://www.linkedin.com/pulse/top-6-machine-learning-algorithms-classification-jagrat-patel/"
   ]
  }
 ],
 "metadata": {
  "kernelspec": {
   "display_name": "Python 3 (ipykernel)",
   "language": "python",
   "name": "python3"
  },
  "language_info": {
   "codemirror_mode": {
    "name": "ipython",
    "version": 3
   },
   "file_extension": ".py",
   "mimetype": "text/x-python",
   "name": "python",
   "nbconvert_exporter": "python",
   "pygments_lexer": "ipython3",
   "version": "3.11.5"
  }
 },
 "nbformat": 4,
 "nbformat_minor": 4
}
