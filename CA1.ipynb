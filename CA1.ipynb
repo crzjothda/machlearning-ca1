{
 "cells": [
  {
   "cell_type": "code",
   "execution_count": 188,
   "metadata": {
    "vscode": {
     "languageId": "python"
    }
   },
   "outputs": [],
   "source": [
    "import pandas as pd\n",
    "import numpy as np\n",
    "import matplotlib.pyplot as plt\n",
    "import seaborn as sns\n",
    "import warnings\n",
    "warnings.filterwarnings('ignore')"
   ]
  },
  {
   "cell_type": "code",
   "execution_count": 189,
   "metadata": {
    "vscode": {
     "languageId": "python"
    }
   },
   "outputs": [],
   "source": [
    "na_values = ['UNKNOWN', 'unknown', 'Unknown', 'Unknown ve', '(0.0, 0.0)', 'Unspecified', 'OTHER', 'other']\n",
    "\n",
    "df = pd.read_csv('crashes.csv', na_values=na_values)\n",
    "df_sample = df.sample(frac=.02)"
   ]
  },
  {
   "cell_type": "markdown",
   "metadata": {},
   "source": [
    "## Data exploration"
   ]
  },
  {
   "cell_type": "code",
   "execution_count": 190,
   "metadata": {
    "vscode": {
     "languageId": "python"
    }
   },
   "outputs": [
    {
     "data": {
      "text/html": [
       "<div>\n",
       "<style scoped>\n",
       "    .dataframe tbody tr th:only-of-type {\n",
       "        vertical-align: middle;\n",
       "    }\n",
       "\n",
       "    .dataframe tbody tr th {\n",
       "        vertical-align: top;\n",
       "    }\n",
       "\n",
       "    .dataframe thead th {\n",
       "        text-align: right;\n",
       "    }\n",
       "</style>\n",
       "<table border=\"1\" class=\"dataframe\">\n",
       "  <thead>\n",
       "    <tr style=\"text-align: right;\">\n",
       "      <th></th>\n",
       "      <th>CRASH DATE</th>\n",
       "      <th>CRASH TIME</th>\n",
       "      <th>BOROUGH</th>\n",
       "      <th>ZIP CODE</th>\n",
       "      <th>LATITUDE</th>\n",
       "      <th>LONGITUDE</th>\n",
       "      <th>LOCATION</th>\n",
       "      <th>ON STREET NAME</th>\n",
       "      <th>CROSS STREET NAME</th>\n",
       "      <th>OFF STREET NAME</th>\n",
       "      <th>...</th>\n",
       "      <th>CONTRIBUTING FACTOR VEHICLE 2</th>\n",
       "      <th>CONTRIBUTING FACTOR VEHICLE 3</th>\n",
       "      <th>CONTRIBUTING FACTOR VEHICLE 4</th>\n",
       "      <th>CONTRIBUTING FACTOR VEHICLE 5</th>\n",
       "      <th>COLLISION_ID</th>\n",
       "      <th>VEHICLE TYPE CODE 1</th>\n",
       "      <th>VEHICLE TYPE CODE 2</th>\n",
       "      <th>VEHICLE TYPE CODE 3</th>\n",
       "      <th>VEHICLE TYPE CODE 4</th>\n",
       "      <th>VEHICLE TYPE CODE 5</th>\n",
       "    </tr>\n",
       "  </thead>\n",
       "  <tbody>\n",
       "    <tr>\n",
       "      <th>1508502</th>\n",
       "      <td>07/28/2014</td>\n",
       "      <td>8:10</td>\n",
       "      <td>QUEENS</td>\n",
       "      <td>11413</td>\n",
       "      <td>40.669170</td>\n",
       "      <td>-73.751471</td>\n",
       "      <td>(40.6691703, -73.7514714)</td>\n",
       "      <td>NaN</td>\n",
       "      <td>NaN</td>\n",
       "      <td>P/L 141-25 224 STREET</td>\n",
       "      <td>...</td>\n",
       "      <td>NaN</td>\n",
       "      <td>NaN</td>\n",
       "      <td>NaN</td>\n",
       "      <td>NaN</td>\n",
       "      <td>1000003</td>\n",
       "      <td>SPORT UTILITY / STATION WAGON</td>\n",
       "      <td>SPORT UTILITY / STATION WAGON</td>\n",
       "      <td>NaN</td>\n",
       "      <td>NaN</td>\n",
       "      <td>NaN</td>\n",
       "    </tr>\n",
       "    <tr>\n",
       "      <th>1809089</th>\n",
       "      <td>01/27/2013</td>\n",
       "      <td>16:45</td>\n",
       "      <td>STATEN ISLAND</td>\n",
       "      <td>10314</td>\n",
       "      <td>40.615260</td>\n",
       "      <td>-74.160165</td>\n",
       "      <td>(40.6152604, -74.1601646)</td>\n",
       "      <td>LAMBERTS LANE</td>\n",
       "      <td>SELDIN AVENUE</td>\n",
       "      <td>NaN</td>\n",
       "      <td>...</td>\n",
       "      <td>NaN</td>\n",
       "      <td>NaN</td>\n",
       "      <td>NaN</td>\n",
       "      <td>NaN</td>\n",
       "      <td>296344</td>\n",
       "      <td>PASSENGER VEHICLE</td>\n",
       "      <td>PASSENGER VEHICLE</td>\n",
       "      <td>NaN</td>\n",
       "      <td>NaN</td>\n",
       "      <td>NaN</td>\n",
       "    </tr>\n",
       "    <tr>\n",
       "      <th>408322</th>\n",
       "      <td>06/21/2019</td>\n",
       "      <td>14:03</td>\n",
       "      <td>QUEENS</td>\n",
       "      <td>11418.0</td>\n",
       "      <td>40.691795</td>\n",
       "      <td>-73.843760</td>\n",
       "      <td>(40.691795, -73.84376)</td>\n",
       "      <td>91 AVENUE</td>\n",
       "      <td>102 STREET</td>\n",
       "      <td>NaN</td>\n",
       "      <td>...</td>\n",
       "      <td>NaN</td>\n",
       "      <td>NaN</td>\n",
       "      <td>NaN</td>\n",
       "      <td>NaN</td>\n",
       "      <td>4157347</td>\n",
       "      <td>Pick-up Truck</td>\n",
       "      <td>Station Wagon/Sport Utility Vehicle</td>\n",
       "      <td>NaN</td>\n",
       "      <td>NaN</td>\n",
       "      <td>NaN</td>\n",
       "    </tr>\n",
       "    <tr>\n",
       "      <th>896751</th>\n",
       "      <td>04/27/2017</td>\n",
       "      <td>10:30</td>\n",
       "      <td>BRONX</td>\n",
       "      <td>10463.0</td>\n",
       "      <td>40.873642</td>\n",
       "      <td>-73.907970</td>\n",
       "      <td>(40.873642, -73.90797)</td>\n",
       "      <td>NaN</td>\n",
       "      <td>NaN</td>\n",
       "      <td>40        WEST 225 STREET</td>\n",
       "      <td>...</td>\n",
       "      <td>Driver Inattention/Distraction</td>\n",
       "      <td>NaN</td>\n",
       "      <td>NaN</td>\n",
       "      <td>NaN</td>\n",
       "      <td>3659138</td>\n",
       "      <td>Station Wagon/Sport Utility Vehicle</td>\n",
       "      <td>Tractor Truck Diesel</td>\n",
       "      <td>NaN</td>\n",
       "      <td>NaN</td>\n",
       "      <td>NaN</td>\n",
       "    </tr>\n",
       "    <tr>\n",
       "      <th>314303</th>\n",
       "      <td>12/09/2019</td>\n",
       "      <td>8:41</td>\n",
       "      <td>BROOKLYN</td>\n",
       "      <td>11218.0</td>\n",
       "      <td>40.631800</td>\n",
       "      <td>-73.974915</td>\n",
       "      <td>(40.6318, -73.974915)</td>\n",
       "      <td>NaN</td>\n",
       "      <td>NaN</td>\n",
       "      <td>4111      18 AVENUE</td>\n",
       "      <td>...</td>\n",
       "      <td>NaN</td>\n",
       "      <td>NaN</td>\n",
       "      <td>NaN</td>\n",
       "      <td>NaN</td>\n",
       "      <td>4255390</td>\n",
       "      <td>Station Wagon/Sport Utility Vehicle</td>\n",
       "      <td>NaN</td>\n",
       "      <td>NaN</td>\n",
       "      <td>NaN</td>\n",
       "      <td>NaN</td>\n",
       "    </tr>\n",
       "  </tbody>\n",
       "</table>\n",
       "<p>5 rows × 29 columns</p>\n",
       "</div>"
      ],
      "text/plain": [
       "         CRASH DATE CRASH TIME        BOROUGH ZIP CODE   LATITUDE  LONGITUDE  \\\n",
       "1508502  07/28/2014       8:10         QUEENS    11413  40.669170 -73.751471   \n",
       "1809089  01/27/2013      16:45  STATEN ISLAND    10314  40.615260 -74.160165   \n",
       "408322   06/21/2019      14:03         QUEENS  11418.0  40.691795 -73.843760   \n",
       "896751   04/27/2017      10:30          BRONX  10463.0  40.873642 -73.907970   \n",
       "314303   12/09/2019       8:41       BROOKLYN  11218.0  40.631800 -73.974915   \n",
       "\n",
       "                          LOCATION                    ON STREET NAME  \\\n",
       "1508502  (40.6691703, -73.7514714)                               NaN   \n",
       "1809089  (40.6152604, -74.1601646)  LAMBERTS LANE                      \n",
       "408322      (40.691795, -73.84376)  91 AVENUE                          \n",
       "896751      (40.873642, -73.90797)                               NaN   \n",
       "314303       (40.6318, -73.974915)                               NaN   \n",
       "\n",
       "                        CROSS STREET NAME  \\\n",
       "1508502                               NaN   \n",
       "1809089  SELDIN AVENUE                      \n",
       "408322                         102 STREET   \n",
       "896751                                NaN   \n",
       "314303                                NaN   \n",
       "\n",
       "                                  OFF STREET NAME  ...  \\\n",
       "1508502  P/L 141-25 224 STREET                     ...   \n",
       "1809089                                       NaN  ...   \n",
       "408322                                        NaN  ...   \n",
       "896751   40        WEST 225 STREET                 ...   \n",
       "314303   4111      18 AVENUE                       ...   \n",
       "\n",
       "          CONTRIBUTING FACTOR VEHICLE 2  CONTRIBUTING FACTOR VEHICLE 3  \\\n",
       "1508502                             NaN                            NaN   \n",
       "1809089                             NaN                            NaN   \n",
       "408322                              NaN                            NaN   \n",
       "896751   Driver Inattention/Distraction                            NaN   \n",
       "314303                              NaN                            NaN   \n",
       "\n",
       "         CONTRIBUTING FACTOR VEHICLE 4  CONTRIBUTING FACTOR VEHICLE 5  \\\n",
       "1508502                            NaN                            NaN   \n",
       "1809089                            NaN                            NaN   \n",
       "408322                             NaN                            NaN   \n",
       "896751                             NaN                            NaN   \n",
       "314303                             NaN                            NaN   \n",
       "\n",
       "         COLLISION_ID                  VEHICLE TYPE CODE 1  \\\n",
       "1508502       1000003        SPORT UTILITY / STATION WAGON   \n",
       "1809089        296344                    PASSENGER VEHICLE   \n",
       "408322        4157347                        Pick-up Truck   \n",
       "896751        3659138  Station Wagon/Sport Utility Vehicle   \n",
       "314303        4255390  Station Wagon/Sport Utility Vehicle   \n",
       "\n",
       "                         VEHICLE TYPE CODE 2  VEHICLE TYPE CODE 3  \\\n",
       "1508502        SPORT UTILITY / STATION WAGON                  NaN   \n",
       "1809089                    PASSENGER VEHICLE                  NaN   \n",
       "408322   Station Wagon/Sport Utility Vehicle                  NaN   \n",
       "896751                  Tractor Truck Diesel                  NaN   \n",
       "314303                                   NaN                  NaN   \n",
       "\n",
       "        VEHICLE TYPE CODE 4 VEHICLE TYPE CODE 5  \n",
       "1508502                 NaN                 NaN  \n",
       "1809089                 NaN                 NaN  \n",
       "408322                  NaN                 NaN  \n",
       "896751                  NaN                 NaN  \n",
       "314303                  NaN                 NaN  \n",
       "\n",
       "[5 rows x 29 columns]"
      ]
     },
     "execution_count": 190,
     "metadata": {},
     "output_type": "execute_result"
    }
   ],
   "source": [
    "df_sample.head()"
   ]
  },
  {
   "cell_type": "code",
   "execution_count": 191,
   "metadata": {
    "vscode": {
     "languageId": "python"
    }
   },
   "outputs": [
    {
     "name": "stdout",
     "output_type": "stream",
     "text": [
      "<class 'pandas.core.frame.DataFrame'>\n",
      "Index: 41576 entries, 1508502 to 1159838\n",
      "Data columns (total 29 columns):\n",
      " #   Column                         Non-Null Count  Dtype  \n",
      "---  ------                         --------------  -----  \n",
      " 0   CRASH DATE                     41576 non-null  object \n",
      " 1   CRASH TIME                     41576 non-null  object \n",
      " 2   BOROUGH                        28526 non-null  object \n",
      " 3   ZIP CODE                       28521 non-null  object \n",
      " 4   LATITUDE                       36965 non-null  float64\n",
      " 5   LONGITUDE                      36965 non-null  float64\n",
      " 6   LOCATION                       36861 non-null  object \n",
      " 7   ON STREET NAME                 32714 non-null  object \n",
      " 8   CROSS STREET NAME              25754 non-null  object \n",
      " 9   OFF STREET NAME                7052 non-null   object \n",
      " 10  NUMBER OF PERSONS INJURED      41575 non-null  float64\n",
      " 11  NUMBER OF PERSONS KILLED       41575 non-null  float64\n",
      " 12  NUMBER OF PEDESTRIANS INJURED  41576 non-null  int64  \n",
      " 13  NUMBER OF PEDESTRIANS KILLED   41576 non-null  int64  \n",
      " 14  NUMBER OF CYCLIST INJURED      41576 non-null  int64  \n",
      " 15  NUMBER OF CYCLIST KILLED       41576 non-null  int64  \n",
      " 16  NUMBER OF MOTORIST INJURED     41576 non-null  int64  \n",
      " 17  NUMBER OF MOTORIST KILLED      41576 non-null  int64  \n",
      " 18  CONTRIBUTING FACTOR VEHICLE 1  27377 non-null  object \n",
      " 19  CONTRIBUTING FACTOR VEHICLE 2  5542 non-null   object \n",
      " 20  CONTRIBUTING FACTOR VEHICLE 3  181 non-null    object \n",
      " 21  CONTRIBUTING FACTOR VEHICLE 4  35 non-null     object \n",
      " 22  CONTRIBUTING FACTOR VEHICLE 5  11 non-null     object \n",
      " 23  COLLISION_ID                   41576 non-null  int64  \n",
      " 24  VEHICLE TYPE CODE 1            40431 non-null  object \n",
      " 25  VEHICLE TYPE CODE 2            31722 non-null  object \n",
      " 26  VEHICLE TYPE CODE 3            2767 non-null   object \n",
      " 27  VEHICLE TYPE CODE 4            612 non-null    object \n",
      " 28  VEHICLE TYPE CODE 5            171 non-null    object \n",
      "dtypes: float64(4), int64(7), object(18)\n",
      "memory usage: 9.5+ MB\n"
     ]
    }
   ],
   "source": [
    "df_sample.info()"
   ]
  },
  {
   "cell_type": "code",
   "execution_count": 192,
   "metadata": {
    "vscode": {
     "languageId": "python"
    }
   },
   "outputs": [
    {
     "data": {
      "text/plain": [
       "CRASH DATE                           0\n",
       "CRASH TIME                           0\n",
       "BOROUGH                          13050\n",
       "ZIP CODE                         13055\n",
       "LATITUDE                          4611\n",
       "LONGITUDE                         4611\n",
       "LOCATION                          4715\n",
       "ON STREET NAME                    8862\n",
       "CROSS STREET NAME                15822\n",
       "OFF STREET NAME                  34524\n",
       "NUMBER OF PERSONS INJURED            1\n",
       "NUMBER OF PERSONS KILLED             1\n",
       "NUMBER OF PEDESTRIANS INJURED        0\n",
       "NUMBER OF PEDESTRIANS KILLED         0\n",
       "NUMBER OF CYCLIST INJURED            0\n",
       "NUMBER OF CYCLIST KILLED             0\n",
       "NUMBER OF MOTORIST INJURED           0\n",
       "NUMBER OF MOTORIST KILLED            0\n",
       "CONTRIBUTING FACTOR VEHICLE 1    14199\n",
       "CONTRIBUTING FACTOR VEHICLE 2    36034\n",
       "CONTRIBUTING FACTOR VEHICLE 3    41395\n",
       "CONTRIBUTING FACTOR VEHICLE 4    41541\n",
       "CONTRIBUTING FACTOR VEHICLE 5    41565\n",
       "COLLISION_ID                         0\n",
       "VEHICLE TYPE CODE 1               1145\n",
       "VEHICLE TYPE CODE 2               9854\n",
       "VEHICLE TYPE CODE 3              38809\n",
       "VEHICLE TYPE CODE 4              40964\n",
       "VEHICLE TYPE CODE 5              41405\n",
       "dtype: int64"
      ]
     },
     "execution_count": 192,
     "metadata": {},
     "output_type": "execute_result"
    }
   ],
   "source": [
    "df_sample.isnull().sum()"
   ]
  },
  {
   "cell_type": "code",
   "execution_count": 193,
   "metadata": {
    "vscode": {
     "languageId": "python"
    }
   },
   "outputs": [],
   "source": [
    "# defining the dataset ID\n",
    "df_sample.set_index('COLLISION_ID', inplace=True)"
   ]
  },
  {
   "cell_type": "markdown",
   "metadata": {},
   "source": [
    "Dropping columns that have more than 25% null values"
   ]
  },
  {
   "cell_type": "markdown",
   "metadata": {},
   "source": [
    "### Handling missing values and irrelevant data"
   ]
  },
  {
   "cell_type": "code",
   "execution_count": 194,
   "metadata": {
    "vscode": {
     "languageId": "python"
    }
   },
   "outputs": [],
   "source": [
    "# dropping columns with more than 25% missing values\n",
    "threshold = len(df_sample) * 0.25\n",
    "df_sample.dropna(thresh=threshold, axis=1, inplace=True)"
   ]
  },
  {
   "cell_type": "code",
   "execution_count": 195,
   "metadata": {
    "vscode": {
     "languageId": "python"
    }
   },
   "outputs": [
    {
     "data": {
      "text/plain": [
       "CRASH DATE                           0\n",
       "CRASH TIME                           0\n",
       "BOROUGH                          13050\n",
       "ZIP CODE                         13055\n",
       "LATITUDE                          4611\n",
       "LONGITUDE                         4611\n",
       "LOCATION                          4715\n",
       "ON STREET NAME                    8862\n",
       "CROSS STREET NAME                15822\n",
       "NUMBER OF PERSONS INJURED            1\n",
       "NUMBER OF PERSONS KILLED             1\n",
       "NUMBER OF PEDESTRIANS INJURED        0\n",
       "NUMBER OF PEDESTRIANS KILLED         0\n",
       "NUMBER OF CYCLIST INJURED            0\n",
       "NUMBER OF CYCLIST KILLED             0\n",
       "NUMBER OF MOTORIST INJURED           0\n",
       "NUMBER OF MOTORIST KILLED            0\n",
       "CONTRIBUTING FACTOR VEHICLE 1    14199\n",
       "VEHICLE TYPE CODE 1               1145\n",
       "VEHICLE TYPE CODE 2               9854\n",
       "dtype: int64"
      ]
     },
     "execution_count": 195,
     "metadata": {},
     "output_type": "execute_result"
    }
   ],
   "source": [
    "# dropping rows with missing values\n",
    "df_sample.isnull().sum()"
   ]
  },
  {
   "cell_type": "code",
   "execution_count": 196,
   "metadata": {
    "vscode": {
     "languageId": "python"
    }
   },
   "outputs": [
    {
     "data": {
      "text/html": [
       "<div>\n",
       "<style scoped>\n",
       "    .dataframe tbody tr th:only-of-type {\n",
       "        vertical-align: middle;\n",
       "    }\n",
       "\n",
       "    .dataframe tbody tr th {\n",
       "        vertical-align: top;\n",
       "    }\n",
       "\n",
       "    .dataframe thead th {\n",
       "        text-align: right;\n",
       "    }\n",
       "</style>\n",
       "<table border=\"1\" class=\"dataframe\">\n",
       "  <thead>\n",
       "    <tr style=\"text-align: right;\">\n",
       "      <th></th>\n",
       "      <th>LATITUDE</th>\n",
       "      <th>LONGITUDE</th>\n",
       "      <th>NUMBER OF PERSONS INJURED</th>\n",
       "      <th>NUMBER OF PERSONS KILLED</th>\n",
       "      <th>NUMBER OF PEDESTRIANS INJURED</th>\n",
       "      <th>NUMBER OF PEDESTRIANS KILLED</th>\n",
       "      <th>NUMBER OF CYCLIST INJURED</th>\n",
       "      <th>NUMBER OF CYCLIST KILLED</th>\n",
       "      <th>NUMBER OF MOTORIST INJURED</th>\n",
       "      <th>NUMBER OF MOTORIST KILLED</th>\n",
       "    </tr>\n",
       "  </thead>\n",
       "  <tbody>\n",
       "    <tr>\n",
       "      <th>count</th>\n",
       "      <td>36965.000000</td>\n",
       "      <td>36965.000000</td>\n",
       "      <td>41575.000000</td>\n",
       "      <td>41575.000000</td>\n",
       "      <td>41576.000000</td>\n",
       "      <td>41576.000000</td>\n",
       "      <td>41576.000000</td>\n",
       "      <td>41576.000000</td>\n",
       "      <td>41576.000000</td>\n",
       "      <td>41576.000000</td>\n",
       "    </tr>\n",
       "    <tr>\n",
       "      <th>mean</th>\n",
       "      <td>40.609000</td>\n",
       "      <td>-73.715842</td>\n",
       "      <td>0.309345</td>\n",
       "      <td>0.001636</td>\n",
       "      <td>0.054382</td>\n",
       "      <td>0.000842</td>\n",
       "      <td>0.026818</td>\n",
       "      <td>0.000096</td>\n",
       "      <td>0.223591</td>\n",
       "      <td>0.000698</td>\n",
       "    </tr>\n",
       "    <tr>\n",
       "      <th>std</th>\n",
       "      <td>2.158497</td>\n",
       "      <td>3.972157</td>\n",
       "      <td>0.696508</td>\n",
       "      <td>0.043836</td>\n",
       "      <td>0.236432</td>\n",
       "      <td>0.029002</td>\n",
       "      <td>0.164066</td>\n",
       "      <td>0.009808</td>\n",
       "      <td>0.658384</td>\n",
       "      <td>0.030620</td>\n",
       "    </tr>\n",
       "    <tr>\n",
       "      <th>min</th>\n",
       "      <td>0.000000</td>\n",
       "      <td>-201.237060</td>\n",
       "      <td>0.000000</td>\n",
       "      <td>0.000000</td>\n",
       "      <td>0.000000</td>\n",
       "      <td>0.000000</td>\n",
       "      <td>0.000000</td>\n",
       "      <td>0.000000</td>\n",
       "      <td>0.000000</td>\n",
       "      <td>0.000000</td>\n",
       "    </tr>\n",
       "    <tr>\n",
       "      <th>25%</th>\n",
       "      <td>40.667400</td>\n",
       "      <td>-73.975020</td>\n",
       "      <td>0.000000</td>\n",
       "      <td>0.000000</td>\n",
       "      <td>0.000000</td>\n",
       "      <td>0.000000</td>\n",
       "      <td>0.000000</td>\n",
       "      <td>0.000000</td>\n",
       "      <td>0.000000</td>\n",
       "      <td>0.000000</td>\n",
       "    </tr>\n",
       "    <tr>\n",
       "      <th>50%</th>\n",
       "      <td>40.720181</td>\n",
       "      <td>-73.927320</td>\n",
       "      <td>0.000000</td>\n",
       "      <td>0.000000</td>\n",
       "      <td>0.000000</td>\n",
       "      <td>0.000000</td>\n",
       "      <td>0.000000</td>\n",
       "      <td>0.000000</td>\n",
       "      <td>0.000000</td>\n",
       "      <td>0.000000</td>\n",
       "    </tr>\n",
       "    <tr>\n",
       "      <th>75%</th>\n",
       "      <td>40.768795</td>\n",
       "      <td>-73.866700</td>\n",
       "      <td>0.000000</td>\n",
       "      <td>0.000000</td>\n",
       "      <td>0.000000</td>\n",
       "      <td>0.000000</td>\n",
       "      <td>0.000000</td>\n",
       "      <td>0.000000</td>\n",
       "      <td>0.000000</td>\n",
       "      <td>0.000000</td>\n",
       "    </tr>\n",
       "    <tr>\n",
       "      <th>max</th>\n",
       "      <td>40.912884</td>\n",
       "      <td>0.000000</td>\n",
       "      <td>12.000000</td>\n",
       "      <td>3.000000</td>\n",
       "      <td>5.000000</td>\n",
       "      <td>1.000000</td>\n",
       "      <td>3.000000</td>\n",
       "      <td>1.000000</td>\n",
       "      <td>12.000000</td>\n",
       "      <td>3.000000</td>\n",
       "    </tr>\n",
       "  </tbody>\n",
       "</table>\n",
       "</div>"
      ],
      "text/plain": [
       "           LATITUDE     LONGITUDE  NUMBER OF PERSONS INJURED  \\\n",
       "count  36965.000000  36965.000000               41575.000000   \n",
       "mean      40.609000    -73.715842                   0.309345   \n",
       "std        2.158497      3.972157                   0.696508   \n",
       "min        0.000000   -201.237060                   0.000000   \n",
       "25%       40.667400    -73.975020                   0.000000   \n",
       "50%       40.720181    -73.927320                   0.000000   \n",
       "75%       40.768795    -73.866700                   0.000000   \n",
       "max       40.912884      0.000000                  12.000000   \n",
       "\n",
       "       NUMBER OF PERSONS KILLED  NUMBER OF PEDESTRIANS INJURED  \\\n",
       "count              41575.000000                   41576.000000   \n",
       "mean                   0.001636                       0.054382   \n",
       "std                    0.043836                       0.236432   \n",
       "min                    0.000000                       0.000000   \n",
       "25%                    0.000000                       0.000000   \n",
       "50%                    0.000000                       0.000000   \n",
       "75%                    0.000000                       0.000000   \n",
       "max                    3.000000                       5.000000   \n",
       "\n",
       "       NUMBER OF PEDESTRIANS KILLED  NUMBER OF CYCLIST INJURED  \\\n",
       "count                  41576.000000               41576.000000   \n",
       "mean                       0.000842                   0.026818   \n",
       "std                        0.029002                   0.164066   \n",
       "min                        0.000000                   0.000000   \n",
       "25%                        0.000000                   0.000000   \n",
       "50%                        0.000000                   0.000000   \n",
       "75%                        0.000000                   0.000000   \n",
       "max                        1.000000                   3.000000   \n",
       "\n",
       "       NUMBER OF CYCLIST KILLED  NUMBER OF MOTORIST INJURED  \\\n",
       "count              41576.000000                41576.000000   \n",
       "mean                   0.000096                    0.223591   \n",
       "std                    0.009808                    0.658384   \n",
       "min                    0.000000                    0.000000   \n",
       "25%                    0.000000                    0.000000   \n",
       "50%                    0.000000                    0.000000   \n",
       "75%                    0.000000                    0.000000   \n",
       "max                    1.000000                   12.000000   \n",
       "\n",
       "       NUMBER OF MOTORIST KILLED  \n",
       "count               41576.000000  \n",
       "mean                    0.000698  \n",
       "std                     0.030620  \n",
       "min                     0.000000  \n",
       "25%                     0.000000  \n",
       "50%                     0.000000  \n",
       "75%                     0.000000  \n",
       "max                     3.000000  "
      ]
     },
     "execution_count": 196,
     "metadata": {},
     "output_type": "execute_result"
    }
   ],
   "source": [
    "# showing dispersion measures\n",
    "df_sample.describe()"
   ]
  },
  {
   "cell_type": "markdown",
   "metadata": {},
   "source": [
    "Deleting logical irrelevant columns"
   ]
  },
  {
   "cell_type": "code",
   "execution_count": 197,
   "metadata": {
    "vscode": {
     "languageId": "python"
    }
   },
   "outputs": [],
   "source": [
    "# dropping irrelevant columns\n",
    "# NUMBER OF PERSON INJURED/KILLED are summary columns\n",
    "df_sample.drop([\n",
    "    'VEHICLE TYPE CODE 2',\n",
    "    'ZIP CODE',\n",
    "    'LATITUDE',\n",
    "    'LONGITUDE',\n",
    "    'LOCATION',\n",
    "    'NUMBER OF PERSONS INJURED',\n",
    "    'NUMBER OF PERSONS KILLED',\n",
    "    ], axis=1, inplace=True)"
   ]
  },
  {
   "cell_type": "markdown",
   "metadata": {},
   "source": [
    "Simplifying feature names"
   ]
  },
  {
   "cell_type": "code",
   "execution_count": 198,
   "metadata": {
    "vscode": {
     "languageId": "python"
    }
   },
   "outputs": [],
   "source": [
    "# renaming columns\n",
    "df_sample.rename(columns={\n",
    "    'CRASH DATE': 'DATE',\n",
    "    'CRASH TIME': 'TIME',\n",
    "    'LATITUDE': 'LAT',\n",
    "    'LONGITUDE': 'LON',\n",
    "    'ON STREET NAME': 'ON_STREET',\n",
    "    'CROSS STREET NAME': 'CROSS_STREET',\n",
    "    'NUMBER OF PERSONS INJURED': 'INJURED',\n",
    "    'NUMBER OF PERSONS KILLED': 'KILLED',\n",
    "    'NUMBER OF PEDESTRIANS INJURED': 'PED_INJURED',\n",
    "    'NUMBER OF PEDESTRIANS KILLED': 'PED_KILLED',\n",
    "    'NUMBER OF CYCLIST INJURED': 'CY_INJURED',\n",
    "    'NUMBER OF CYCLIST KILLED': 'CY_KILLED',\n",
    "    'NUMBER OF MOTORIST INJURED': 'MOT_INJURED',\n",
    "    'NUMBER OF MOTORIST KILLED': 'MOT_KILLED',\n",
    "    'CONTRIBUTING FACTOR VEHICLE 1': 'FACTOR',\n",
    "    'CONTRIBUTING FACTOR VEHICLE 2': 'FACTOR2',\n",
    "    'VEHICLE TYPE CODE 1': 'VEHICLE'\n",
    "    }, inplace=True)"
   ]
  },
  {
   "cell_type": "markdown",
   "metadata": {},
   "source": [
    "#### Cleaning the target variable"
   ]
  },
  {
   "cell_type": "markdown",
   "metadata": {},
   "source": [
    "Dropping all rows with null in the target varible"
   ]
  },
  {
   "cell_type": "code",
   "execution_count": 199,
   "metadata": {
    "vscode": {
     "languageId": "python"
    }
   },
   "outputs": [
    {
     "data": {
      "text/plain": [
       "DATE            object\n",
       "TIME            object\n",
       "BOROUGH         object\n",
       "ON_STREET       object\n",
       "CROSS_STREET    object\n",
       "PED_INJURED      int64\n",
       "PED_KILLED       int64\n",
       "CY_INJURED       int64\n",
       "CY_KILLED        int64\n",
       "MOT_INJURED      int64\n",
       "MOT_KILLED       int64\n",
       "FACTOR          object\n",
       "VEHICLE         object\n",
       "dtype: object"
      ]
     },
     "execution_count": 199,
     "metadata": {},
     "output_type": "execute_result"
    }
   ],
   "source": [
    "# Dropping rows with missing values in the 'VEHICLE' column\n",
    "df_sample.dropna(subset=['VEHICLE'], inplace=True)\n",
    "\n",
    "df_sample.dtypes"
   ]
  },
  {
   "cell_type": "code",
   "execution_count": 200,
   "metadata": {
    "vscode": {
     "languageId": "python"
    }
   },
   "outputs": [],
   "source": [
    "df_sample['ON_STREET'] = df_sample['ON_STREET'].str.upper()\n",
    "df_sample['CROSS_STREET'] = df_sample['CROSS_STREET'].str.upper()\n",
    "df_sample['BOROUGH'] = df_sample['BOROUGH'].str.upper()\n",
    "df_sample['FACTOR'] = df_sample['FACTOR'].str.upper()"
   ]
  },
  {
   "cell_type": "markdown",
   "metadata": {},
   "source": [
    "Dropping low occurencies of categories in the target variable VEHICLE"
   ]
  },
  {
   "cell_type": "code",
   "execution_count": 201,
   "metadata": {
    "vscode": {
     "languageId": "python"
    }
   },
   "outputs": [],
   "source": [
    "# converting VEHICLE column to uppercase\n",
    "df_sample['VEHICLE'] = df_sample['VEHICLE'].str.upper()"
   ]
  },
  {
   "cell_type": "code",
   "execution_count": 202,
   "metadata": {
    "vscode": {
     "languageId": "python"
    }
   },
   "outputs": [],
   "source": [
    "# Dropping low occurrence values in the 'VEHICLE' column\n",
    "df_filtered = df_sample.groupby('VEHICLE').filter(lambda x: len(x) >= 10)\n"
   ]
  },
  {
   "cell_type": "code",
   "execution_count": 203,
   "metadata": {
    "vscode": {
     "languageId": "python"
    }
   },
   "outputs": [
    {
     "data": {
      "text/plain": [
       "VEHICLE\n",
       "SEDAN                                  11698\n",
       "STATION WAGON/SPORT UTILITY VEHICLE     9091\n",
       "PASSENGER VEHICLE                       8177\n",
       "SPORT UTILITY / STATION WAGON           3629\n",
       "TAXI                                    1644\n",
       "PICK-UP TRUCK                            919\n",
       "4 DR SEDAN                               808\n",
       "VAN                                      720\n",
       "BUS                                      701\n",
       "BOX TRUCK                                483\n",
       "LARGE COM VEH(6 OR MORE TIRES)           286\n",
       "BIKE                                     278\n",
       "SMALL COM VEH(4 TIRES)                   257\n",
       "MOTORCYCLE                               251\n",
       "TRACTOR TRUCK DIESEL                     233\n",
       "LIVERY VEHICLE                           203\n",
       "AMBULANCE                                146\n",
       "E-BIKE                                    84\n",
       "DUMP                                      69\n",
       "CONVERTIBLE                               67\n",
       "2 DR SEDAN                                65\n",
       "E-SCOOTER                                 47\n",
       "PK                                        46\n",
       "MOPED                                     44\n",
       "GARBAGE OR REFUSE                         43\n",
       "FLAT BED                                  37\n",
       "CARRY ALL                                 29\n",
       "TOW TRUCK / WRECKER                       26\n",
       "TANKER                                    21\n",
       "TRACTOR TRUCK GASOLINE                    21\n",
       "MOTORSCOOTER                              20\n",
       "FIRE TRUCK                                19\n",
       "CHASSIS CAB                               17\n",
       "BICYCLE                                   14\n",
       "FLAT RACK                                 12\n",
       "AMBUL                                     12\n",
       "REFRIGERATED VAN                          11\n",
       "ARMORED TRUCK                             10\n",
       "Name: count, dtype: int64"
      ]
     },
     "execution_count": 203,
     "metadata": {},
     "output_type": "execute_result"
    }
   ],
   "source": [
    "# Showing the most frequent values in the 'VEHICLE' column\n",
    "df_filtered['VEHICLE'].value_counts()"
   ]
  },
  {
   "cell_type": "markdown",
   "metadata": {},
   "source": [
    "Rename categories that refers to the same vehicle"
   ]
  },
  {
   "cell_type": "code",
   "execution_count": 204,
   "metadata": {
    "vscode": {
     "languageId": "python"
    }
   },
   "outputs": [],
   "source": [
    "df_filtered[df_filtered['VEHICLE'] == 'STATION WAGON/SPORT UTILITY VEHICLE']['VEHICLE'] = 'SPORT UTILITY / STATION WAGON'\n",
    "df_filtered[df_filtered['VEHICLE'] == 'PK']['VEHICLE'] = 'PICK-UP TRUCK'\n",
    "df_filtered[df_filtered['VEHICLE'] == 'BICYCLE']['VEHICLE'] = 'BIKE'\n",
    "df_filtered[df_filtered['VEHICLE'] == 'E-BYKE']['VEHICLE'] = 'BIKE'"
   ]
  },
  {
   "cell_type": "code",
   "execution_count": 223,
   "metadata": {
    "vscode": {
     "languageId": "python"
    }
   },
   "outputs": [
    {
     "data": {
      "text/plain": [
       "VEHICLE\n",
       "28    11698\n",
       "31     9091\n",
       "24     8177\n",
       "30     3629\n",
       "33     1644\n",
       "25      919\n",
       "1       808\n",
       "37      720\n",
       "8       701\n",
       "7       483\n",
       "19      286\n",
       "6       278\n",
       "29      257\n",
       "22      251\n",
       "35      233\n",
       "20      203\n",
       "3       146\n",
       "13       84\n",
       "12       69\n",
       "11       67\n",
       "0        65\n",
       "14       47\n",
       "26       46\n",
       "21       44\n",
       "18       43\n",
       "16       37\n",
       "9        29\n",
       "34       26\n",
       "32       21\n",
       "36       21\n",
       "23       20\n",
       "15       19\n",
       "10       17\n",
       "5        14\n",
       "17       12\n",
       "2        12\n",
       "27       11\n",
       "4        10\n",
       "Name: count, dtype: int64"
      ]
     },
     "execution_count": 223,
     "metadata": {},
     "output_type": "execute_result"
    }
   ],
   "source": [
    "df_filtered['VEHICLE'].value_counts()"
   ]
  },
  {
   "cell_type": "markdown",
   "metadata": {},
   "source": [
    "Finding and excluding outliers"
   ]
  },
  {
   "cell_type": "code",
   "execution_count": 205,
   "metadata": {
    "vscode": {
     "languageId": "python"
    }
   },
   "outputs": [
    {
     "data": {
      "text/html": [
       "<div>\n",
       "<style scoped>\n",
       "    .dataframe tbody tr th:only-of-type {\n",
       "        vertical-align: middle;\n",
       "    }\n",
       "\n",
       "    .dataframe tbody tr th {\n",
       "        vertical-align: top;\n",
       "    }\n",
       "\n",
       "    .dataframe thead th {\n",
       "        text-align: right;\n",
       "    }\n",
       "</style>\n",
       "<table border=\"1\" class=\"dataframe\">\n",
       "  <thead>\n",
       "    <tr style=\"text-align: right;\">\n",
       "      <th></th>\n",
       "      <th>PED_INJURED</th>\n",
       "      <th>PED_KILLED</th>\n",
       "      <th>CY_INJURED</th>\n",
       "      <th>CY_KILLED</th>\n",
       "      <th>MOT_INJURED</th>\n",
       "      <th>MOT_KILLED</th>\n",
       "    </tr>\n",
       "  </thead>\n",
       "  <tbody>\n",
       "    <tr>\n",
       "      <th>count</th>\n",
       "      <td>40238.000000</td>\n",
       "      <td>40238.00000</td>\n",
       "      <td>40238.000000</td>\n",
       "      <td>40238.000000</td>\n",
       "      <td>40238.000000</td>\n",
       "      <td>40238.000000</td>\n",
       "    </tr>\n",
       "    <tr>\n",
       "      <th>mean</th>\n",
       "      <td>0.049779</td>\n",
       "      <td>0.00087</td>\n",
       "      <td>0.026766</td>\n",
       "      <td>0.000099</td>\n",
       "      <td>0.226428</td>\n",
       "      <td>0.000671</td>\n",
       "    </tr>\n",
       "    <tr>\n",
       "      <th>std</th>\n",
       "      <td>0.227215</td>\n",
       "      <td>0.02948</td>\n",
       "      <td>0.163845</td>\n",
       "      <td>0.009970</td>\n",
       "      <td>0.660692</td>\n",
       "      <td>0.030317</td>\n",
       "    </tr>\n",
       "    <tr>\n",
       "      <th>min</th>\n",
       "      <td>0.000000</td>\n",
       "      <td>0.00000</td>\n",
       "      <td>0.000000</td>\n",
       "      <td>0.000000</td>\n",
       "      <td>0.000000</td>\n",
       "      <td>0.000000</td>\n",
       "    </tr>\n",
       "    <tr>\n",
       "      <th>25%</th>\n",
       "      <td>0.000000</td>\n",
       "      <td>0.00000</td>\n",
       "      <td>0.000000</td>\n",
       "      <td>0.000000</td>\n",
       "      <td>0.000000</td>\n",
       "      <td>0.000000</td>\n",
       "    </tr>\n",
       "    <tr>\n",
       "      <th>50%</th>\n",
       "      <td>0.000000</td>\n",
       "      <td>0.00000</td>\n",
       "      <td>0.000000</td>\n",
       "      <td>0.000000</td>\n",
       "      <td>0.000000</td>\n",
       "      <td>0.000000</td>\n",
       "    </tr>\n",
       "    <tr>\n",
       "      <th>75%</th>\n",
       "      <td>0.000000</td>\n",
       "      <td>0.00000</td>\n",
       "      <td>0.000000</td>\n",
       "      <td>0.000000</td>\n",
       "      <td>0.000000</td>\n",
       "      <td>0.000000</td>\n",
       "    </tr>\n",
       "    <tr>\n",
       "      <th>max</th>\n",
       "      <td>5.000000</td>\n",
       "      <td>1.00000</td>\n",
       "      <td>3.000000</td>\n",
       "      <td>1.000000</td>\n",
       "      <td>12.000000</td>\n",
       "      <td>3.000000</td>\n",
       "    </tr>\n",
       "  </tbody>\n",
       "</table>\n",
       "</div>"
      ],
      "text/plain": [
       "        PED_INJURED   PED_KILLED    CY_INJURED     CY_KILLED   MOT_INJURED  \\\n",
       "count  40238.000000  40238.00000  40238.000000  40238.000000  40238.000000   \n",
       "mean       0.049779      0.00087      0.026766      0.000099      0.226428   \n",
       "std        0.227215      0.02948      0.163845      0.009970      0.660692   \n",
       "min        0.000000      0.00000      0.000000      0.000000      0.000000   \n",
       "25%        0.000000      0.00000      0.000000      0.000000      0.000000   \n",
       "50%        0.000000      0.00000      0.000000      0.000000      0.000000   \n",
       "75%        0.000000      0.00000      0.000000      0.000000      0.000000   \n",
       "max        5.000000      1.00000      3.000000      1.000000     12.000000   \n",
       "\n",
       "         MOT_KILLED  \n",
       "count  40238.000000  \n",
       "mean       0.000671  \n",
       "std        0.030317  \n",
       "min        0.000000  \n",
       "25%        0.000000  \n",
       "50%        0.000000  \n",
       "75%        0.000000  \n",
       "max        3.000000  "
      ]
     },
     "execution_count": 205,
     "metadata": {},
     "output_type": "execute_result"
    }
   ],
   "source": [
    "# Showing \n",
    "df_filtered.describe()"
   ]
  },
  {
   "cell_type": "code",
   "execution_count": 206,
   "metadata": {
    "vscode": {
     "languageId": "python"
    }
   },
   "outputs": [
    {
     "data": {
      "image/png": "[encoded data removed]",
      "text/plain": [
       "<Figure size 1500x800 with 8 Axes>"
      ]
     },
     "metadata": {},
     "output_type": "display_data"
    }
   ],
   "source": [
    "numerical_columns = df_filtered.select_dtypes(include='number').columns.tolist()\n",
    "\n",
    "img, axs = plt.subplots(2, 4, figsize=(15, 8))\n",
    "\n",
    "for i, column in enumerate(numerical_columns):\n",
    "    sns.boxplot(x=df_filtered[column], ax=axs[i//4, i%4])\n",
    "\n",
    "plt.show()"
   ]
  },
  {
   "cell_type": "markdown",
   "metadata": {},
   "source": [
    "#### Filling missing values with their mode and mean for categorical and numerical values respectively"
   ]
  },
  {
   "cell_type": "code",
   "execution_count": 207,
   "metadata": {
    "vscode": {
     "languageId": "python"
    }
   },
   "outputs": [],
   "source": [
    "# filling all categorical missing values with their mode\n",
    "categorical_columns = df_filtered.select_dtypes(include='object').columns.tolist()\n",
    "\n",
    "for column in categorical_columns:\n",
    "    df_filtered[column] = df_filtered[column].str.strip()\n",
    "    df_filtered.fillna({column: df_filtered[column].mode()[0]}, inplace=True)\n",
    "\n",
    "# filling numberical missing values with its mean\n",
    "numerical_columns = df_filtered.select_dtypes(include='number').columns.tolist()\n",
    "\n",
    "for column in numerical_columns:\n",
    "    df_filtered.fillna({column: df_filtered[column].mean()}, inplace=True)\n"
   ]
  },
  {
   "cell_type": "code",
   "execution_count": 208,
   "metadata": {
    "vscode": {
     "languageId": "python"
    }
   },
   "outputs": [
    {
     "data": {
      "text/plain": [
       "DATE            0\n",
       "TIME            0\n",
       "BOROUGH         0\n",
       "ON_STREET       0\n",
       "CROSS_STREET    0\n",
       "PED_INJURED     0\n",
       "PED_KILLED      0\n",
       "CY_INJURED      0\n",
       "CY_KILLED       0\n",
       "MOT_INJURED     0\n",
       "MOT_KILLED      0\n",
       "FACTOR          0\n",
       "VEHICLE         0\n",
       "dtype: int64"
      ]
     },
     "execution_count": 208,
     "metadata": {},
     "output_type": "execute_result"
    }
   ],
   "source": [
    "df_filtered.isnull().sum()"
   ]
  },
  {
   "cell_type": "markdown",
   "metadata": {},
   "source": [
    "### Parsing categorical colums to numeric representation\n",
    "\n",
    "Based on that most of the categorical columns have many categories One-Hot enconding is not suitable therefore Label Encoding would be a better solution"
   ]
  },
  {
   "cell_type": "code",
   "execution_count": 209,
   "metadata": {
    "vscode": {
     "languageId": "python"
    }
   },
   "outputs": [
    {
     "data": {
      "text/plain": [
       "DATE            object\n",
       "TIME            object\n",
       "BOROUGH         object\n",
       "ON_STREET       object\n",
       "CROSS_STREET    object\n",
       "PED_INJURED      int64\n",
       "PED_KILLED       int64\n",
       "CY_INJURED       int64\n",
       "CY_KILLED        int64\n",
       "MOT_INJURED      int64\n",
       "MOT_KILLED       int64\n",
       "FACTOR          object\n",
       "VEHICLE         object\n",
       "dtype: object"
      ]
     },
     "execution_count": 209,
     "metadata": {},
     "output_type": "execute_result"
    }
   ],
   "source": [
    "df_filtered.dtypes"
   ]
  },
  {
   "cell_type": "code",
   "execution_count": 210,
   "metadata": {
    "vscode": {
     "languageId": "python"
    }
   },
   "outputs": [],
   "source": [
    "from sklearn.preprocessing import LabelEncoder\n",
    "# creating a label encoder\n",
    "label_encoder = LabelEncoder()\n",
    "# categorical columns that have to be encoded\n",
    "categorical_columns = df_filtered[['BOROUGH', 'ON_STREET', 'CROSS_STREET', 'FACTOR', 'VEHICLE']].columns.tolist()\n",
    "# encoding categorical columns\n",
    "for column in categorical_columns:\n",
    "    df_filtered[column] = label_encoder.fit_transform(df_filtered[column])\n"
   ]
  },
  {
   "cell_type": "markdown",
   "metadata": {},
   "source": [
    "Creating new column with month and time instead of date and time"
   ]
  },
  {
   "cell_type": "code",
   "execution_count": 211,
   "metadata": {
    "vscode": {
     "languageId": "python"
    }
   },
   "outputs": [],
   "source": [
    "# taking only month and time in hours from the 'DATE' and 'TIME' columns\n",
    "df_filtered['MONTH'] = df_filtered['DATE'].apply(lambda x: int(x.split('/')[0]))\n",
    "df_filtered['TIME'] = df_filtered['TIME'].apply(lambda x: float(x.replace(':', '.')))\n",
    "\n",
    "df_filtered.drop('DATE', axis=1, inplace=True)\n"
   ]
  },
  {
   "cell_type": "code",
   "execution_count": 212,
   "metadata": {
    "vscode": {
     "languageId": "python"
    }
   },
   "outputs": [
    {
     "data": {
      "text/html": [
       "<div>\n",
       "<style scoped>\n",
       "    .dataframe tbody tr th:only-of-type {\n",
       "        vertical-align: middle;\n",
       "    }\n",
       "\n",
       "    .dataframe tbody tr th {\n",
       "        vertical-align: top;\n",
       "    }\n",
       "\n",
       "    .dataframe thead th {\n",
       "        text-align: right;\n",
       "    }\n",
       "</style>\n",
       "<table border=\"1\" class=\"dataframe\">\n",
       "  <thead>\n",
       "    <tr style=\"text-align: right;\">\n",
       "      <th></th>\n",
       "      <th>MONTH</th>\n",
       "      <th>TIME</th>\n",
       "    </tr>\n",
       "    <tr>\n",
       "      <th>COLLISION_ID</th>\n",
       "      <th></th>\n",
       "      <th></th>\n",
       "    </tr>\n",
       "  </thead>\n",
       "  <tbody>\n",
       "    <tr>\n",
       "      <th>1000003</th>\n",
       "      <td>7</td>\n",
       "      <td>8.10</td>\n",
       "    </tr>\n",
       "    <tr>\n",
       "      <th>296344</th>\n",
       "      <td>1</td>\n",
       "      <td>16.45</td>\n",
       "    </tr>\n",
       "    <tr>\n",
       "      <th>4157347</th>\n",
       "      <td>6</td>\n",
       "      <td>14.03</td>\n",
       "    </tr>\n",
       "    <tr>\n",
       "      <th>3659138</th>\n",
       "      <td>4</td>\n",
       "      <td>10.30</td>\n",
       "    </tr>\n",
       "    <tr>\n",
       "      <th>4255390</th>\n",
       "      <td>12</td>\n",
       "      <td>8.41</td>\n",
       "    </tr>\n",
       "  </tbody>\n",
       "</table>\n",
       "</div>"
      ],
      "text/plain": [
       "              MONTH   TIME\n",
       "COLLISION_ID              \n",
       "1000003           7   8.10\n",
       "296344            1  16.45\n",
       "4157347           6  14.03\n",
       "3659138           4  10.30\n",
       "4255390          12   8.41"
      ]
     },
     "execution_count": 212,
     "metadata": {},
     "output_type": "execute_result"
    }
   ],
   "source": [
    "df_filtered[['MONTH', 'TIME']].head()"
   ]
  },
  {
   "cell_type": "markdown",
   "metadata": {},
   "source": [
    "## Training and model selection"
   ]
  },
  {
   "cell_type": "markdown",
   "metadata": {},
   "source": [
    "### Data spliting and target variable balancing using SMOTE"
   ]
  },
  {
   "cell_type": "code",
   "execution_count": 213,
   "metadata": {
    "vscode": {
     "languageId": "python"
    }
   },
   "outputs": [],
   "source": [
    "from sklearn.model_selection import train_test_split, cross_val_score\n",
    "\n",
    "X = df_filtered.drop('VEHICLE', axis=1)\n",
    "y = df_filtered['VEHICLE']"
   ]
  },
  {
   "cell_type": "code",
   "execution_count": 214,
   "metadata": {
    "vscode": {
     "languageId": "python"
    }
   },
   "outputs": [
    {
     "name": "stdout",
     "output_type": "stream",
     "text": [
      "DTC max score: 0.2542\n",
      "DTC max split: 20.0000\n",
      "KNN max score: 0.2721\n",
      "KNN max split: 20.0000\n",
      "RFC max score: 0.3531\n",
      "RFC max split: 25.0000\n"
     ]
    }
   ],
   "source": [
    "from sklearn.neighbors import KNeighborsClassifier\n",
    "from sklearn.tree import DecisionTreeClassifier\n",
    "from sklearn.ensemble import RandomForestClassifier\n",
    "from sklearn import preprocessing\n",
    "\n",
    "X = preprocessing.scale(X)\n",
    "\n",
    "splits = [20, 25, 30]\n",
    "scores = { 'kscores': [], 'dscores': [], 'rscores': [] }\n",
    "\n",
    "for split in splits:\n",
    "    X_train, x_test, y_train, y_test = train_test_split(X, y, test_size=split/100)\n",
    "\n",
    "    kmodel = KNeighborsClassifier()\n",
    "    dmodel = DecisionTreeClassifier()\n",
    "    rmodel = RandomForestClassifier(max_depth=15)\n",
    "\n",
    "    kscore = cross_val_score(kmodel, X_train, y_train, cv=5, scoring='accuracy').mean()\n",
    "    dscore = cross_val_score(dmodel, X_train, y_train, cv=5, scoring='accuracy').mean()\n",
    "    rscore = cross_val_score(rmodel, X_train, y_train, cv=5, scoring='accuracy').mean()\n",
    "\n",
    "    scores['kscores'].append(kscore)\n",
    "    scores['dscores'].append(dscore)\n",
    "    scores['rscores'].append(rscore)\n",
    "\n",
    "d_max_score = np.max([score for score in scores['dscores']])\n",
    "d_max_split = splits[np.argmax([score for score in scores['dscores']])]\n",
    "\n",
    "print(\"DTC max score: %.4f\" % d_max_score)\n",
    "print(\"DTC max split: %.4f\" % d_max_split)\n",
    "\n",
    "k_max_score = np.max([score for score in scores['kscores']])\n",
    "k_max_split = splits[np.argmax([score for score in scores['kscores']])]\n",
    "\n",
    "print(\"KNN max score: %.4f\" % k_max_score)\n",
    "print(\"KNN max split: %.4f\" % k_max_split)\n",
    "\n",
    "r_max_score = np.max([score for score in scores['rscores']])\n",
    "r_max_split = splits[np.argmax([score for score in scores['rscores']])]\n",
    "\n",
    "print(\"RFC max score: %.4f\" % r_max_score)\n",
    "print(\"RFC max split: %.4f\" % r_max_split)"
   ]
  },
  {
   "cell_type": "markdown",
   "metadata": {},
   "source": [
    "\n",
    "Finding the best hyperprameters for DecisionTreeClassifier"
   ]
  },
  {
   "cell_type": "code",
   "execution_count": 215,
   "metadata": {
    "vscode": {
     "languageId": "python"
    }
   },
   "outputs": [
    {
     "name": "stdout",
     "output_type": "stream",
     "text": [
      "Best hyper parameter:  {'max_depth': 10, 'min_samples_leaf': 4, 'min_samples_split': 5}\n",
      "Best score: 0.3508\n"
     ]
    }
   ],
   "source": [
    "from sklearn.model_selection import GridSearchCV\n",
    "\n",
    "# applying the best testing split founded above\n",
    "X_train, X_test, y_train, y_test = train_test_split(X, y, test_size=d_max_split)\n",
    "\n",
    "# Define the parameter grid\n",
    "param_grid = {\n",
    "    'max_depth': [5, 10, 15],\n",
    "    'min_samples_split': [2, 5, 10],\n",
    "    'min_samples_leaf': [1, 2, 4]\n",
    "}\n",
    "\n",
    "dt = DecisionTreeClassifier()\n",
    "\n",
    "grid_search_dt = GridSearchCV(dt, param_grid, cv=5)\n",
    "\n",
    "# Fit the grid search to the data\n",
    "grid_search_dt.fit(X_train, y_train)\n",
    "\n",
    "# Get the best hyperparameters\n",
    "d_best_params = grid_search_dt.best_params_\n",
    "best_score = grid_search_dt.best_score_\n",
    "\n",
    "print(\"Best hyper parameter: \", d_best_params)\n",
    "print(\"Best score: %.4f\" % best_score)\n"
   ]
  },
  {
   "cell_type": "markdown",
   "metadata": {},
   "source": [
    "Finding the best hyperparamenters for KNN"
   ]
  },
  {
   "cell_type": "code",
   "execution_count": 217,
   "metadata": {
    "vscode": {
     "languageId": "python"
    }
   },
   "outputs": [
    {
     "name": "stdout",
     "output_type": "stream",
     "text": [
      "Best Hyperparameters: {'algorithm': 'ball_tree', 'n_neighbors': 7, 'weights': 'uniform'}\n",
      "Best Score: 0.2907\n"
     ]
    }
   ],
   "source": [
    "from sklearn.neighbors import KNeighborsClassifier\n",
    "\n",
    "# applying the best split founded in above cell\n",
    "X_train, X_test, y_train, y_test = train_test_split(X, y, test_size=k_max_split)\n",
    "\n",
    "# Define the parameter grid\n",
    "param_grid = {\n",
    "    'n_neighbors': [3, 5, 7],\n",
    "    'weights': ['uniform', 'distance'],\n",
    "    'algorithm': ['auto', 'ball_tree', 'kd_tree', 'brute']\n",
    "}\n",
    "\n",
    "# Create the KNN classifier\n",
    "knn = KNeighborsClassifier()\n",
    "\n",
    "# Create the GridSearchCV object\n",
    "grid_search = GridSearchCV(knn, param_grid, cv=5)\n",
    "\n",
    "# Fit the data to find the best hyperparameters\n",
    "grid_search.fit(X_train, y_train)\n",
    "\n",
    "# Get the best hyperparameters and the corresponding score\n",
    "k_best_params = grid_search.best_params_\n",
    "best_score = grid_search.best_score_\n",
    "\n",
    "print(f\"Best Hyperparameters: {k_best_params}\")\n",
    "print(\"Best Score: %.4f\" % best_score)\n"
   ]
  },
  {
   "cell_type": "code",
   "execution_count": 220,
   "metadata": {
    "vscode": {
     "languageId": "python"
    }
   },
   "outputs": [
    {
     "name": "stdout",
     "output_type": "stream",
     "text": [
      "Best Hyperparameters: {r_best_params}\n",
      "Best Score: 0.3551\n"
     ]
    }
   ],
   "source": [
    "# Define the parameter grid\n",
    "param_grid = {\n",
    "    'bootstrap': [True, False],\n",
    "    'max_depth': [5, 10, 15],\n",
    "    'max_features': ['auto', 'sqrt'],\n",
    "    'min_samples_leaf': [1, 2, 4],\n",
    "    'min_samples_split': [2, 5, 10],\n",
    "    'n_estimators': [20]\n",
    "}\n",
    "\n",
    "# Create the RFC classifier\n",
    "rfc = RandomForestClassifier()\n",
    "\n",
    "# Create the GridSearchCV object\n",
    "grid_search = GridSearchCV(rfc, param_grid, cv=5)\n",
    "\n",
    "# Fit the data to find the best hyperparameters\n",
    "grid_search.fit(X_train, y_train)\n",
    "\n",
    "# Get the best hyperparameters and the corresponding score\n",
    "r_best_params = grid_search.best_params_\n",
    "best_score = grid_search.best_score_\n",
    "\n",
    "print(\"Best Hyperparameters: {r_best_params}\")\n",
    "print(\"Best Score: %.4f\" % best_score)"
   ]
  },
  {
   "cell_type": "markdown",
   "metadata": {},
   "source": [
    "Showing the testing accuracy and plotting it on a confusion matrix"
   ]
  },
  {
   "cell_type": "code",
   "execution_count": 221,
   "metadata": {
    "vscode": {
     "languageId": "python"
    }
   },
   "outputs": [
    {
     "name": "stdout",
     "output_type": "stream",
     "text": [
      "KNN test score: 0.5000\n",
      "DTC test score: 0.4000\n",
      "RFC test score: 0.4500\n"
     ]
    }
   ],
   "source": [
    "from sklearn.metrics import accuracy_score\n",
    "\n",
    "knn = KNeighborsClassifier(**k_best_params)\n",
    "dt = DecisionTreeClassifier(**d_best_params)\n",
    "rfc = RandomForestClassifier(**r_best_params)\n",
    "\n",
    "knn.fit(X_train, y_train)\n",
    "dt.fit(X_train, y_train)\n",
    "rfc.fit(X_train, y_train)\n",
    "\n",
    "k_y_pred = knn.predict(X_test)\n",
    "d_y_pred = dt.predict(X_test)\n",
    "r_y_pred = rfc.predict(X_test)\n",
    "\n",
    "k_acc = accuracy_score(y_test, k_y_pred)\n",
    "d_acc = accuracy_score(y_test, d_y_pred)\n",
    "r_acc = accuracy_score(y_test, r_y_pred)\n",
    "\n",
    "print(\"KNN test score: {:.4f}\\nDTC test score: {:.4f}\\nRFC test score: {:.4f}\".format(k_acc, d_acc, r_acc))\n"
   ]
  },
  {
   "cell_type": "code",
   "execution_count": 222,
   "metadata": {
    "vscode": {
     "languageId": "python"
    }
   },
   "outputs": [
    {
     "data": {
      "image/png": "[encoded data removed]",
      "text/plain": [
       "<Figure size 640x480 with 2 Axes>"
      ]
     },
     "metadata": {},
     "output_type": "display_data"
    },
    {
     "data": {
      "image/png": "[encoded data removed]",
      "text/plain": [
       "<Figure size 640x480 with 2 Axes>"
      ]
     },
     "metadata": {},
     "output_type": "display_data"
    },
    {
     "data": {
      "image/png": "[encoded data removed]",
      "text/plain": [
       "<Figure size 640x480 with 2 Axes>"
      ]
     },
     "metadata": {},
     "output_type": "display_data"
    }
   ],
   "source": [
    "from sklearn.metrics import confusion_matrix, classification_report\n",
    "\n",
    "kcm = confusion_matrix(y_test, k_y_pred)\n",
    "dcm = confusion_matrix(y_test, d_y_pred)\n",
    "rfc = confusion_matrix(y_test, r_y_pred)\n",
    "\n",
    "kreport = classification_report(y_test, k_y_pred, output_dict=True)\n",
    "dreport = classification_report(y_test, d_y_pred, output_dict=True)\n",
    "rreport = classification_report(y_test, r_y_pred, output_dict=True)\n",
    "\n",
    "kenlabels = [int(label) for label in list(kreport.keys()) if label.isdigit()]\n",
    "labels = label_encoder.inverse_transform(kenlabels)\n",
    "\n",
    "sns.heatmap(kcm, annot=True, fmt='d', yticklabels=labels, xticklabels=labels)\n",
    "plt.title('KNN Confusion Matrix')\n",
    "plt.show()\n",
    "\n",
    "denlabels = [int(label) for label in list(dreport.keys()) if label.isdigit()]\n",
    "labels = label_encoder.inverse_transform(denlabels)\n",
    "\n",
    "sns.heatmap(dcm, annot=True, fmt='d', yticklabels=labels, xticklabels=labels)\n",
    "plt.title('DTC Confusion Matrix')\n",
    "plt.show()\n",
    "\n",
    "renlabels = [int(label) for label in list(rreport.keys()) if label.isdigit()]\n",
    "labels = label_encoder.inverse_transform(renlabels)\n",
    "\n",
    "sns.heatmap(rfc, annot=True, fmt='d', yticklabels=labels, xticklabels=labels)\n",
    "plt.title('RFC Confusion Matrix')\n",
    "plt.show()"
   ]
  },
  {
   "cell_type": "markdown",
   "metadata": {},
   "source": [
    "## References\n",
    "\n",
    "- https://www.analyticsvidhya.com/blog/2021/04/how-to-handle-missing-values-of-categorical-variables/\n",
    "- https://www.linkedin.com/pulse/title-label-encoding-one-hot-data-preprocessing-shivani-singh\n",
    "- https://www.linkedin.com/pulse/top-6-machine-learning-algorithms-classification-jagrat-patel/"
   ]
  }
 ],
 "metadata": {
  "kernelspec": {
   "display_name": "Python 3 (ipykernel)",
   "language": "python",
   "name": "python3"
  },
  "language_info": {
   "name": "",
   "version": ""
  }
 },
 "nbformat": 4,
 "nbformat_minor": 4
}
